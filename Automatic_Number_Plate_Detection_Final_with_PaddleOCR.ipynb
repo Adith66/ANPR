{
  "cells": [
    {
      "cell_type": "markdown",
      "metadata": {
        "id": "view-in-github",
        "colab_type": "text"
      },
      "source": [
        "<a href=\"https://colab.research.google.com/github/Adith66/ANPR/blob/main/Automatic_Number_Plate_Detection_Final_with_PaddleOCR.ipynb\" target=\"_parent\"><img src=\"https://colab.research.google.com/assets/colab-badge.svg\" alt=\"Open In Colab\"/></a>"
      ]
    },
    {
      "cell_type": "markdown",
      "metadata": {
        "id": "QUANWN3rpfC9"
      },
      "source": [
        "# 0. Setup Paths"
      ]
    },
    {
      "cell_type": "code",
      "execution_count": null,
      "metadata": {
        "id": "146BB11JpfDA"
      },
      "outputs": [],
      "source": [
        "import os"
      ]
    },
    {
      "cell_type": "code",
      "execution_count": null,
      "metadata": {
        "id": "42hJEdo_pfDB"
      },
      "outputs": [],
      "source": [
        "CUSTOM_MODEL_NAME = 'my_ssd_mobnet'\n",
        "PRETRAINED_MODEL_NAME = 'ssd_mobilenet_v2_fpnlite_320x320_coco17_tpu-8'\n",
        "PRETRAINED_MODEL_URL = 'http://download.tensorflow.org/models/object_detection/tf2/20200711/ssd_mobilenet_v2_fpnlite_320x320_coco17_tpu-8.tar.gz'\n",
        "TF_RECORD_SCRIPT_NAME = 'generate_tfrecord.py'\n",
        "LABEL_MAP_NAME = 'label_map.pbtxt'"
      ]
    },
    {
      "cell_type": "code",
      "execution_count": null,
      "metadata": {
        "id": "hbPhYVy_pfDB"
      },
      "outputs": [],
      "source": [
        "paths = {\n",
        "    'WORKSPACE_PATH': os.path.join('Tensorflow', 'workspace'),\n",
        "    'SCRIPTS_PATH': os.path.join('Tensorflow','scripts'),\n",
        "    'APIMODEL_PATH': os.path.join('Tensorflow','models'),\n",
        "    'ANNOTATION_PATH': os.path.join('Tensorflow', 'workspace','annotations'),\n",
        "    'IMAGE_PATH': os.path.join('Tensorflow', 'workspace','images'),\n",
        "    'MODEL_PATH': os.path.join('Tensorflow', 'workspace','models'),\n",
        "    'PRETRAINED_MODEL_PATH': os.path.join('Tensorflow', 'workspace','pre-trained-models'),\n",
        "    'CHECKPOINT_PATH': os.path.join('Tensorflow', 'workspace','models',CUSTOM_MODEL_NAME),\n",
        "    'OUTPUT_PATH': os.path.join('Tensorflow', 'workspace','models',CUSTOM_MODEL_NAME, 'export'),\n",
        "    'TFJS_PATH':os.path.join('Tensorflow', 'workspace','models',CUSTOM_MODEL_NAME, 'tfjsexport'),\n",
        "    'TFLITE_PATH':os.path.join('Tensorflow', 'workspace','models',CUSTOM_MODEL_NAME, 'tfliteexport'),\n",
        "    'PROTOC_PATH':os.path.join('Tensorflow','protoc')\n",
        " }"
      ]
    },
    {
      "cell_type": "code",
      "execution_count": null,
      "metadata": {
        "id": "LwhWZMI0pfDC"
      },
      "outputs": [],
      "source": [
        "files = {\n",
        "    'PIPELINE_CONFIG':os.path.join('Tensorflow', 'workspace','models', CUSTOM_MODEL_NAME, 'pipeline.config'),\n",
        "    'TF_RECORD_SCRIPT': os.path.join(paths['SCRIPTS_PATH'], TF_RECORD_SCRIPT_NAME),\n",
        "    'LABELMAP': os.path.join(paths['ANNOTATION_PATH'], LABEL_MAP_NAME)\n",
        "}"
      ]
    },
    {
      "cell_type": "code",
      "execution_count": null,
      "metadata": {
        "id": "HR-TfDGrpfDC"
      },
      "outputs": [],
      "source": [
        "for path in paths.values():\n",
        "    if not os.path.exists(path):\n",
        "        if os.name == 'posix':\n",
        "            !mkdir -p {path}\n",
        "        if os.name == 'nt':\n",
        "            !mkdir {path}"
      ]
    },
    {
      "cell_type": "markdown",
      "metadata": {
        "id": "OLU-rs_ipfDE"
      },
      "source": [
        "# 1. Download TF Models Pretrained Models from Tensorflow Model Zoo and Install TFOD"
      ]
    },
    {
      "cell_type": "code",
      "execution_count": null,
      "metadata": {
        "id": "K-Cmz2edpfDE",
        "scrolled": true
      },
      "outputs": [],
      "source": [
        "if os.name=='nt':\n",
        "    !pip install wget\n",
        "    import wget"
      ]
    },
    {
      "cell_type": "code",
      "execution_count": null,
      "metadata": {
        "id": "iA1DIq5OpfDE"
      },
      "outputs": [],
      "source": [
        "if not os.path.exists(os.path.join(paths['APIMODEL_PATH'], 'research', 'object_detection')):\n",
        "    !git clone https://github.com/tensorflow/models {paths['APIMODEL_PATH']}"
      ]
    },
    {
      "cell_type": "code",
      "execution_count": null,
      "metadata": {
        "id": "rJjMHbnDs3Tv",
        "colab": {
          "base_uri": "https://localhost:8080/"
        },
        "outputId": "7d49fe18-7bd5-4597-beb0-a9debeb6dfad"
      },
      "outputs": [
        {
          "output_type": "stream",
          "name": "stdout",
          "text": [
            "Reading package lists... Done\n",
            "Building dependency tree... Done\n",
            "Reading state information... Done\n",
            "protobuf-compiler is already the newest version (3.12.4-1ubuntu7.22.04.1).\n",
            "0 upgraded, 0 newly installed, 0 to remove and 16 not upgraded.\n",
            "Processing /content/Tensorflow/models/research\n",
            "  Preparing metadata (setup.py) ... \u001b[?25l\u001b[?25hdone\n",
            "Requirement already satisfied: avro-python3 in /usr/local/lib/python3.10/dist-packages (from object-detection==0.1) (1.10.2)\n",
            "Requirement already satisfied: apache-beam in /usr/local/lib/python3.10/dist-packages (from object-detection==0.1) (2.49.0)\n",
            "Requirement already satisfied: pillow in /usr/local/lib/python3.10/dist-packages (from object-detection==0.1) (9.4.0)\n",
            "Requirement already satisfied: lxml in /usr/local/lib/python3.10/dist-packages (from object-detection==0.1) (4.9.3)\n",
            "Requirement already satisfied: matplotlib in /usr/local/lib/python3.10/dist-packages (from object-detection==0.1) (3.7.1)\n",
            "Requirement already satisfied: Cython in /usr/local/lib/python3.10/dist-packages (from object-detection==0.1) (0.29.36)\n",
            "Requirement already satisfied: contextlib2 in /usr/local/lib/python3.10/dist-packages (from object-detection==0.1) (21.6.0)\n",
            "Requirement already satisfied: tf-slim in /usr/local/lib/python3.10/dist-packages (from object-detection==0.1) (1.1.0)\n",
            "Requirement already satisfied: six in /usr/local/lib/python3.10/dist-packages (from object-detection==0.1) (1.16.0)\n",
            "Requirement already satisfied: pycocotools in /usr/local/lib/python3.10/dist-packages (from object-detection==0.1) (2.0.7)\n",
            "Requirement already satisfied: lvis in /usr/local/lib/python3.10/dist-packages (from object-detection==0.1) (0.5.3)\n",
            "Requirement already satisfied: scipy in /usr/local/lib/python3.10/dist-packages (from object-detection==0.1) (1.10.1)\n",
            "Requirement already satisfied: pandas in /usr/local/lib/python3.10/dist-packages (from object-detection==0.1) (1.5.3)\n",
            "Requirement already satisfied: tf-models-official>=2.5.1 in /usr/local/lib/python3.10/dist-packages (from object-detection==0.1) (2.13.1)\n",
            "Requirement already satisfied: tensorflow_io in /usr/local/lib/python3.10/dist-packages (from object-detection==0.1) (0.33.0)\n",
            "Requirement already satisfied: keras in /usr/local/lib/python3.10/dist-packages (from object-detection==0.1) (2.13.1)\n",
            "Requirement already satisfied: pyparsing==2.4.7 in /usr/local/lib/python3.10/dist-packages (from object-detection==0.1) (2.4.7)\n",
            "Requirement already satisfied: sacrebleu<=2.2.0 in /usr/local/lib/python3.10/dist-packages (from object-detection==0.1) (2.2.0)\n",
            "Requirement already satisfied: portalocker in /usr/local/lib/python3.10/dist-packages (from sacrebleu<=2.2.0->object-detection==0.1) (2.7.0)\n",
            "Requirement already satisfied: regex in /usr/local/lib/python3.10/dist-packages (from sacrebleu<=2.2.0->object-detection==0.1) (2023.6.3)\n",
            "Requirement already satisfied: tabulate>=0.8.9 in /usr/local/lib/python3.10/dist-packages (from sacrebleu<=2.2.0->object-detection==0.1) (0.9.0)\n",
            "Requirement already satisfied: numpy>=1.17 in /usr/local/lib/python3.10/dist-packages (from sacrebleu<=2.2.0->object-detection==0.1) (1.25.2)\n",
            "Requirement already satisfied: colorama in /usr/local/lib/python3.10/dist-packages (from sacrebleu<=2.2.0->object-detection==0.1) (0.4.6)\n",
            "Requirement already satisfied: gin-config in /usr/local/lib/python3.10/dist-packages (from tf-models-official>=2.5.1->object-detection==0.1) (0.5.0)\n",
            "Requirement already satisfied: google-api-python-client>=1.6.7 in /usr/local/lib/python3.10/dist-packages (from tf-models-official>=2.5.1->object-detection==0.1) (2.84.0)\n",
            "Requirement already satisfied: immutabledict in /usr/local/lib/python3.10/dist-packages (from tf-models-official>=2.5.1->object-detection==0.1) (3.0.0)\n",
            "Requirement already satisfied: kaggle>=1.3.9 in /usr/local/lib/python3.10/dist-packages (from tf-models-official>=2.5.1->object-detection==0.1) (1.5.16)\n",
            "Requirement already satisfied: oauth2client in /usr/local/lib/python3.10/dist-packages (from tf-models-official>=2.5.1->object-detection==0.1) (4.1.3)\n",
            "Requirement already satisfied: opencv-python-headless in /usr/local/lib/python3.10/dist-packages (from tf-models-official>=2.5.1->object-detection==0.1) (4.8.0.76)\n",
            "Requirement already satisfied: psutil>=5.4.3 in /usr/local/lib/python3.10/dist-packages (from tf-models-official>=2.5.1->object-detection==0.1) (5.9.5)\n",
            "Requirement already satisfied: py-cpuinfo>=3.3.0 in /usr/local/lib/python3.10/dist-packages (from tf-models-official>=2.5.1->object-detection==0.1) (9.0.0)\n",
            "Requirement already satisfied: pyyaml<5.4.0,>=5.1 in /usr/local/lib/python3.10/dist-packages (from tf-models-official>=2.5.1->object-detection==0.1) (5.3.1)\n",
            "Requirement already satisfied: sentencepiece in /usr/local/lib/python3.10/dist-packages (from tf-models-official>=2.5.1->object-detection==0.1) (0.1.99)\n",
            "Requirement already satisfied: seqeval in /usr/local/lib/python3.10/dist-packages (from tf-models-official>=2.5.1->object-detection==0.1) (1.2.2)\n",
            "Requirement already satisfied: tensorflow-datasets in /usr/local/lib/python3.10/dist-packages (from tf-models-official>=2.5.1->object-detection==0.1) (4.9.2)\n",
            "Requirement already satisfied: tensorflow-hub>=0.6.0 in /usr/local/lib/python3.10/dist-packages (from tf-models-official>=2.5.1->object-detection==0.1) (0.14.0)\n",
            "Requirement already satisfied: tensorflow-model-optimization>=0.4.1 in /usr/local/lib/python3.10/dist-packages (from tf-models-official>=2.5.1->object-detection==0.1) (0.7.5)\n",
            "Requirement already satisfied: tensorflow-text~=2.13.0 in /usr/local/lib/python3.10/dist-packages (from tf-models-official>=2.5.1->object-detection==0.1) (2.13.0)\n",
            "Requirement already satisfied: tensorflow~=2.13.0 in /usr/local/lib/python3.10/dist-packages (from tf-models-official>=2.5.1->object-detection==0.1) (2.13.0)\n",
            "Requirement already satisfied: python-dateutil>=2.8.1 in /usr/local/lib/python3.10/dist-packages (from pandas->object-detection==0.1) (2.8.2)\n",
            "Requirement already satisfied: pytz>=2020.1 in /usr/local/lib/python3.10/dist-packages (from pandas->object-detection==0.1) (2023.3)\n",
            "Requirement already satisfied: absl-py>=0.2.2 in /usr/local/lib/python3.10/dist-packages (from tf-slim->object-detection==0.1) (1.4.0)\n",
            "Requirement already satisfied: crcmod<2.0,>=1.7 in /usr/local/lib/python3.10/dist-packages (from apache-beam->object-detection==0.1) (1.7)\n",
            "Requirement already satisfied: orjson<4.0 in /usr/local/lib/python3.10/dist-packages (from apache-beam->object-detection==0.1) (3.9.5)\n",
            "Requirement already satisfied: dill<0.3.2,>=0.3.1.1 in /usr/local/lib/python3.10/dist-packages (from apache-beam->object-detection==0.1) (0.3.1.1)\n",
            "Requirement already satisfied: cloudpickle~=2.2.1 in /usr/local/lib/python3.10/dist-packages (from apache-beam->object-detection==0.1) (2.2.1)\n",
            "Requirement already satisfied: fastavro<2,>=0.23.6 in /usr/local/lib/python3.10/dist-packages (from apache-beam->object-detection==0.1) (1.8.2)\n",
            "Requirement already satisfied: fasteners<1.0,>=0.3 in /usr/local/lib/python3.10/dist-packages (from apache-beam->object-detection==0.1) (0.18)\n",
            "Requirement already satisfied: grpcio!=1.48.0,<2,>=1.33.1 in /usr/local/lib/python3.10/dist-packages (from apache-beam->object-detection==0.1) (1.57.0)\n",
            "Requirement already satisfied: hdfs<3.0.0,>=2.1.0 in /usr/local/lib/python3.10/dist-packages (from apache-beam->object-detection==0.1) (2.7.2)\n",
            "Requirement already satisfied: httplib2<0.23.0,>=0.8 in /usr/local/lib/python3.10/dist-packages (from apache-beam->object-detection==0.1) (0.22.0)\n",
            "Collecting numpy>=1.17 (from sacrebleu<=2.2.0->object-detection==0.1)\n",
            "  Downloading numpy-1.24.4-cp310-cp310-manylinux_2_17_x86_64.manylinux2014_x86_64.whl (17.3 MB)\n",
            "\u001b[2K     \u001b[90m━━━━━━━━━━━━━━━━━━━━━━━━━━━━━━━━━━━━━━━━\u001b[0m \u001b[32m17.3/17.3 MB\u001b[0m \u001b[31m44.3 MB/s\u001b[0m eta \u001b[36m0:00:00\u001b[0m\n",
            "\u001b[?25hRequirement already satisfied: objsize<0.7.0,>=0.6.1 in /usr/local/lib/python3.10/dist-packages (from apache-beam->object-detection==0.1) (0.6.1)\n",
            "Requirement already satisfied: pymongo<5.0.0,>=3.8.0 in /usr/local/lib/python3.10/dist-packages (from apache-beam->object-detection==0.1) (4.5.0)\n",
            "Requirement already satisfied: proto-plus<2,>=1.7.1 in /usr/local/lib/python3.10/dist-packages (from apache-beam->object-detection==0.1) (1.22.3)\n",
            "Requirement already satisfied: protobuf<4.24.0,>=3.20.3 in /usr/local/lib/python3.10/dist-packages (from apache-beam->object-detection==0.1) (3.20.3)\n",
            "Requirement already satisfied: pydot<2,>=1.2.0 in /usr/local/lib/python3.10/dist-packages (from apache-beam->object-detection==0.1) (1.4.2)\n",
            "Requirement already satisfied: requests<3.0.0,>=2.24.0 in /usr/local/lib/python3.10/dist-packages (from apache-beam->object-detection==0.1) (2.31.0)\n",
            "Requirement already satisfied: typing-extensions>=3.7.0 in /usr/local/lib/python3.10/dist-packages (from apache-beam->object-detection==0.1) (4.5.0)\n",
            "Requirement already satisfied: zstandard<1,>=0.18.0 in /usr/local/lib/python3.10/dist-packages (from apache-beam->object-detection==0.1) (0.21.0)\n",
            "Requirement already satisfied: pyarrow<12.0.0,>=3.0.0 in /usr/local/lib/python3.10/dist-packages (from apache-beam->object-detection==0.1) (9.0.0)\n",
            "Requirement already satisfied: cycler>=0.10.0 in /usr/local/lib/python3.10/dist-packages (from lvis->object-detection==0.1) (0.11.0)\n",
            "Requirement already satisfied: kiwisolver>=1.1.0 in /usr/local/lib/python3.10/dist-packages (from lvis->object-detection==0.1) (1.4.4)\n",
            "Requirement already satisfied: opencv-python>=4.1.0.25 in /usr/local/lib/python3.10/dist-packages (from lvis->object-detection==0.1) (4.8.0.76)\n",
            "Requirement already satisfied: contourpy>=1.0.1 in /usr/local/lib/python3.10/dist-packages (from matplotlib->object-detection==0.1) (1.1.0)\n",
            "Requirement already satisfied: fonttools>=4.22.0 in /usr/local/lib/python3.10/dist-packages (from matplotlib->object-detection==0.1) (4.42.1)\n",
            "Requirement already satisfied: packaging>=20.0 in /usr/local/lib/python3.10/dist-packages (from matplotlib->object-detection==0.1) (23.1)\n",
            "Requirement already satisfied: tensorflow-io-gcs-filesystem==0.33.0 in /usr/local/lib/python3.10/dist-packages (from tensorflow_io->object-detection==0.1) (0.33.0)\n",
            "Requirement already satisfied: google-auth<3.0.0dev,>=1.19.0 in /usr/local/lib/python3.10/dist-packages (from google-api-python-client>=1.6.7->tf-models-official>=2.5.1->object-detection==0.1) (2.17.3)\n",
            "Requirement already satisfied: google-auth-httplib2>=0.1.0 in /usr/local/lib/python3.10/dist-packages (from google-api-python-client>=1.6.7->tf-models-official>=2.5.1->object-detection==0.1) (0.1.0)\n",
            "Requirement already satisfied: google-api-core!=2.0.*,!=2.1.*,!=2.2.*,!=2.3.0,<3.0.0dev,>=1.31.5 in /usr/local/lib/python3.10/dist-packages (from google-api-python-client>=1.6.7->tf-models-official>=2.5.1->object-detection==0.1) (2.11.1)\n",
            "Requirement already satisfied: uritemplate<5,>=3.0.1 in /usr/local/lib/python3.10/dist-packages (from google-api-python-client>=1.6.7->tf-models-official>=2.5.1->object-detection==0.1) (4.1.1)\n",
            "Requirement already satisfied: docopt in /usr/local/lib/python3.10/dist-packages (from hdfs<3.0.0,>=2.1.0->apache-beam->object-detection==0.1) (0.6.2)\n",
            "Requirement already satisfied: certifi in /usr/local/lib/python3.10/dist-packages (from kaggle>=1.3.9->tf-models-official>=2.5.1->object-detection==0.1) (2023.7.22)\n",
            "Requirement already satisfied: tqdm in /usr/local/lib/python3.10/dist-packages (from kaggle>=1.3.9->tf-models-official>=2.5.1->object-detection==0.1) (4.66.1)\n",
            "Requirement already satisfied: python-slugify in /usr/local/lib/python3.10/dist-packages (from kaggle>=1.3.9->tf-models-official>=2.5.1->object-detection==0.1) (8.0.1)\n",
            "Requirement already satisfied: urllib3 in /usr/local/lib/python3.10/dist-packages (from kaggle>=1.3.9->tf-models-official>=2.5.1->object-detection==0.1) (2.0.4)\n",
            "Requirement already satisfied: bleach in /usr/local/lib/python3.10/dist-packages (from kaggle>=1.3.9->tf-models-official>=2.5.1->object-detection==0.1) (6.0.0)\n",
            "Requirement already satisfied: dnspython<3.0.0,>=1.16.0 in /usr/local/lib/python3.10/dist-packages (from pymongo<5.0.0,>=3.8.0->apache-beam->object-detection==0.1) (2.4.2)\n",
            "Requirement already satisfied: charset-normalizer<4,>=2 in /usr/local/lib/python3.10/dist-packages (from requests<3.0.0,>=2.24.0->apache-beam->object-detection==0.1) (3.2.0)\n",
            "Requirement already satisfied: idna<4,>=2.5 in /usr/local/lib/python3.10/dist-packages (from requests<3.0.0,>=2.24.0->apache-beam->object-detection==0.1) (3.4)\n",
            "Requirement already satisfied: astunparse>=1.6.0 in /usr/local/lib/python3.10/dist-packages (from tensorflow~=2.13.0->tf-models-official>=2.5.1->object-detection==0.1) (1.6.3)\n",
            "Requirement already satisfied: flatbuffers>=23.1.21 in /usr/local/lib/python3.10/dist-packages (from tensorflow~=2.13.0->tf-models-official>=2.5.1->object-detection==0.1) (23.5.26)\n",
            "Requirement already satisfied: gast<=0.4.0,>=0.2.1 in /usr/local/lib/python3.10/dist-packages (from tensorflow~=2.13.0->tf-models-official>=2.5.1->object-detection==0.1) (0.4.0)\n",
            "Requirement already satisfied: google-pasta>=0.1.1 in /usr/local/lib/python3.10/dist-packages (from tensorflow~=2.13.0->tf-models-official>=2.5.1->object-detection==0.1) (0.2.0)\n",
            "Requirement already satisfied: h5py>=2.9.0 in /usr/local/lib/python3.10/dist-packages (from tensorflow~=2.13.0->tf-models-official>=2.5.1->object-detection==0.1) (3.9.0)\n",
            "Requirement already satisfied: libclang>=13.0.0 in /usr/local/lib/python3.10/dist-packages (from tensorflow~=2.13.0->tf-models-official>=2.5.1->object-detection==0.1) (16.0.6)\n",
            "  Downloading numpy-1.24.3-cp310-cp310-manylinux_2_17_x86_64.manylinux2014_x86_64.whl (17.3 MB)\n",
            "\u001b[2K     \u001b[90m━━━━━━━━━━━━━━━━━━━━━━━━━━━━━━━━━━━━━━━━\u001b[0m \u001b[32m17.3/17.3 MB\u001b[0m \u001b[31m49.1 MB/s\u001b[0m eta \u001b[36m0:00:00\u001b[0m\n",
            "\u001b[?25hRequirement already satisfied: opt-einsum>=2.3.2 in /usr/local/lib/python3.10/dist-packages (from tensorflow~=2.13.0->tf-models-official>=2.5.1->object-detection==0.1) (3.3.0)\n",
            "Requirement already satisfied: setuptools in /usr/local/lib/python3.10/dist-packages (from tensorflow~=2.13.0->tf-models-official>=2.5.1->object-detection==0.1) (67.7.2)\n",
            "Requirement already satisfied: tensorboard<2.14,>=2.13 in /usr/local/lib/python3.10/dist-packages (from tensorflow~=2.13.0->tf-models-official>=2.5.1->object-detection==0.1) (2.13.0)\n",
            "Requirement already satisfied: tensorflow-estimator<2.14,>=2.13.0 in /usr/local/lib/python3.10/dist-packages (from tensorflow~=2.13.0->tf-models-official>=2.5.1->object-detection==0.1) (2.13.0)\n",
            "Requirement already satisfied: termcolor>=1.1.0 in /usr/local/lib/python3.10/dist-packages (from tensorflow~=2.13.0->tf-models-official>=2.5.1->object-detection==0.1) (2.3.0)\n",
            "Requirement already satisfied: wrapt>=1.11.0 in /usr/local/lib/python3.10/dist-packages (from tensorflow~=2.13.0->tf-models-official>=2.5.1->object-detection==0.1) (1.14.1)\n",
            "Requirement already satisfied: dm-tree~=0.1.1 in /usr/local/lib/python3.10/dist-packages (from tensorflow-model-optimization>=0.4.1->tf-models-official>=2.5.1->object-detection==0.1) (0.1.8)\n",
            "Requirement already satisfied: pyasn1>=0.1.7 in /usr/local/lib/python3.10/dist-packages (from oauth2client->tf-models-official>=2.5.1->object-detection==0.1) (0.5.0)\n",
            "Requirement already satisfied: pyasn1-modules>=0.0.5 in /usr/local/lib/python3.10/dist-packages (from oauth2client->tf-models-official>=2.5.1->object-detection==0.1) (0.3.0)\n",
            "Requirement already satisfied: rsa>=3.1.4 in /usr/local/lib/python3.10/dist-packages (from oauth2client->tf-models-official>=2.5.1->object-detection==0.1) (4.9)\n",
            "Requirement already satisfied: scikit-learn>=0.21.3 in /usr/local/lib/python3.10/dist-packages (from seqeval->tf-models-official>=2.5.1->object-detection==0.1) (1.2.2)\n",
            "Requirement already satisfied: array-record in /usr/local/lib/python3.10/dist-packages (from tensorflow-datasets->tf-models-official>=2.5.1->object-detection==0.1) (0.4.1)\n",
            "Requirement already satisfied: click in /usr/local/lib/python3.10/dist-packages (from tensorflow-datasets->tf-models-official>=2.5.1->object-detection==0.1) (8.1.7)\n",
            "Requirement already satisfied: etils[enp,epath]>=0.9.0 in /usr/local/lib/python3.10/dist-packages (from tensorflow-datasets->tf-models-official>=2.5.1->object-detection==0.1) (1.4.1)\n",
            "Requirement already satisfied: promise in /usr/local/lib/python3.10/dist-packages (from tensorflow-datasets->tf-models-official>=2.5.1->object-detection==0.1) (2.3)\n",
            "Requirement already satisfied: tensorflow-metadata in /usr/local/lib/python3.10/dist-packages (from tensorflow-datasets->tf-models-official>=2.5.1->object-detection==0.1) (1.14.0)\n",
            "Requirement already satisfied: toml in /usr/local/lib/python3.10/dist-packages (from tensorflow-datasets->tf-models-official>=2.5.1->object-detection==0.1) (0.10.2)\n",
            "Requirement already satisfied: wheel<1.0,>=0.23.0 in /usr/local/lib/python3.10/dist-packages (from astunparse>=1.6.0->tensorflow~=2.13.0->tf-models-official>=2.5.1->object-detection==0.1) (0.41.2)\n",
            "Requirement already satisfied: importlib_resources in /usr/local/lib/python3.10/dist-packages (from etils[enp,epath]>=0.9.0->tensorflow-datasets->tf-models-official>=2.5.1->object-detection==0.1) (6.0.1)\n",
            "Requirement already satisfied: zipp in /usr/local/lib/python3.10/dist-packages (from etils[enp,epath]>=0.9.0->tensorflow-datasets->tf-models-official>=2.5.1->object-detection==0.1) (3.16.2)\n",
            "Requirement already satisfied: googleapis-common-protos<2.0.dev0,>=1.56.2 in /usr/local/lib/python3.10/dist-packages (from google-api-core!=2.0.*,!=2.1.*,!=2.2.*,!=2.3.0,<3.0.0dev,>=1.31.5->google-api-python-client>=1.6.7->tf-models-official>=2.5.1->object-detection==0.1) (1.60.0)\n",
            "Requirement already satisfied: cachetools<6.0,>=2.0.0 in /usr/local/lib/python3.10/dist-packages (from google-auth<3.0.0dev,>=1.19.0->google-api-python-client>=1.6.7->tf-models-official>=2.5.1->object-detection==0.1) (5.3.1)\n",
            "Requirement already satisfied: joblib>=1.1.1 in /usr/local/lib/python3.10/dist-packages (from scikit-learn>=0.21.3->seqeval->tf-models-official>=2.5.1->object-detection==0.1) (1.3.2)\n",
            "Requirement already satisfied: threadpoolctl>=2.0.0 in /usr/local/lib/python3.10/dist-packages (from scikit-learn>=0.21.3->seqeval->tf-models-official>=2.5.1->object-detection==0.1) (3.2.0)\n",
            "Requirement already satisfied: google-auth-oauthlib<1.1,>=0.5 in /usr/local/lib/python3.10/dist-packages (from tensorboard<2.14,>=2.13->tensorflow~=2.13.0->tf-models-official>=2.5.1->object-detection==0.1) (1.0.0)\n",
            "Requirement already satisfied: markdown>=2.6.8 in /usr/local/lib/python3.10/dist-packages (from tensorboard<2.14,>=2.13->tensorflow~=2.13.0->tf-models-official>=2.5.1->object-detection==0.1) (3.4.4)\n",
            "Requirement already satisfied: tensorboard-data-server<0.8.0,>=0.7.0 in /usr/local/lib/python3.10/dist-packages (from tensorboard<2.14,>=2.13->tensorflow~=2.13.0->tf-models-official>=2.5.1->object-detection==0.1) (0.7.1)\n",
            "Requirement already satisfied: werkzeug>=1.0.1 in /usr/local/lib/python3.10/dist-packages (from tensorboard<2.14,>=2.13->tensorflow~=2.13.0->tf-models-official>=2.5.1->object-detection==0.1) (2.3.7)\n",
            "Requirement already satisfied: webencodings in /usr/local/lib/python3.10/dist-packages (from bleach->kaggle>=1.3.9->tf-models-official>=2.5.1->object-detection==0.1) (0.5.1)\n",
            "Requirement already satisfied: text-unidecode>=1.3 in /usr/local/lib/python3.10/dist-packages (from python-slugify->kaggle>=1.3.9->tf-models-official>=2.5.1->object-detection==0.1) (1.3)\n",
            "Requirement already satisfied: requests-oauthlib>=0.7.0 in /usr/local/lib/python3.10/dist-packages (from google-auth-oauthlib<1.1,>=0.5->tensorboard<2.14,>=2.13->tensorflow~=2.13.0->tf-models-official>=2.5.1->object-detection==0.1) (1.3.1)\n",
            "Requirement already satisfied: MarkupSafe>=2.1.1 in /usr/local/lib/python3.10/dist-packages (from werkzeug>=1.0.1->tensorboard<2.14,>=2.13->tensorflow~=2.13.0->tf-models-official>=2.5.1->object-detection==0.1) (2.1.3)\n",
            "Requirement already satisfied: oauthlib>=3.0.0 in /usr/local/lib/python3.10/dist-packages (from requests-oauthlib>=0.7.0->google-auth-oauthlib<1.1,>=0.5->tensorboard<2.14,>=2.13->tensorflow~=2.13.0->tf-models-official>=2.5.1->object-detection==0.1) (3.2.2)\n",
            "Building wheels for collected packages: object-detection\n",
            "  Building wheel for object-detection (setup.py) ... \u001b[?25l\u001b[?25hdone\n",
            "  Created wheel for object-detection: filename=object_detection-0.1-py3-none-any.whl size=1697179 sha256=b2429750217bd68d2223565207516ac4e5de71de2f2b85fa33320f7519451f83\n",
            "  Stored in directory: /tmp/pip-ephem-wheel-cache-y6re3jgm/wheels/fb/c9/43/709f88e66b36649c7a29812ca4f6236f31caed949aabc3e335\n",
            "Successfully built object-detection\n",
            "Installing collected packages: numpy, object-detection\n",
            "  Attempting uninstall: numpy\n",
            "    Found existing installation: numpy 1.25.2\n",
            "    Uninstalling numpy-1.25.2:\n",
            "      Successfully uninstalled numpy-1.25.2\n",
            "  Attempting uninstall: object-detection\n",
            "    Found existing installation: object-detection 0.1\n",
            "    Uninstalling object-detection-0.1:\n",
            "      Successfully uninstalled object-detection-0.1\n",
            "\u001b[31mERROR: pip's dependency resolver does not currently take into account all the packages that are installed. This behaviour is the source of the following dependency conflicts.\n",
            "flax 0.7.2 requires PyYAML>=5.4.1, but you have pyyaml 5.3.1 which is incompatible.\n",
            "numba 0.56.4 requires numpy<1.24,>=1.18, but you have numpy 1.24.3 which is incompatible.\u001b[0m\u001b[31m\n",
            "\u001b[0mSuccessfully installed numpy-1.24.3 object-detection-0.1\n"
          ]
        }
      ],
      "source": [
        "# Install Tensorflow Object Detection\n",
        "if os.name=='posix':\n",
        "    !apt-get install protobuf-compiler\n",
        "    !cd Tensorflow/models/research && protoc object_detection/protos/*.proto --python_out=. && cp object_detection/packages/tf2/setup.py . && python -m pip install .\n",
        "\n",
        "if os.name=='nt':\n",
        "    url=\"https://github.com/protocolbuffers/protobuf/releases/download/v3.15.6/protoc-3.15.6-win64.zip\"\n",
        "    wget.download(url)\n",
        "    !move protoc-3.15.6-win64.zip {paths['PROTOC_PATH']}\n",
        "    !cd {paths['PROTOC_PATH']} && tar -xf protoc-3.15.6-win64.zip\n",
        "    os.environ['PATH'] += os.pathsep + os.path.abspath(os.path.join(paths['PROTOC_PATH'], 'bin'))\n",
        "    !cd Tensorflow/models/research && protoc object_detection/protos/*.proto --python_out=. && copy object_detection\\\\packages\\\\tf2\\\\setup.py setup.py && python setup.py build && python setup.py install\n",
        "    !cd Tensorflow/models/research/slim && pip install -e ."
      ]
    },
    {
      "cell_type": "code",
      "source": [
        "!pip install --upgrade numpy"
      ],
      "metadata": {
        "colab": {
          "base_uri": "https://localhost:8080/",
          "height": 393
        },
        "id": "vK6rRyqWigHz",
        "outputId": "5fa86bac-44bb-40ae-d43c-e44dac9162c1"
      },
      "execution_count": null,
      "outputs": [
        {
          "output_type": "stream",
          "name": "stdout",
          "text": [
            "Requirement already satisfied: numpy in /usr/local/lib/python3.10/dist-packages (1.23.5)\n",
            "Collecting numpy\n",
            "  Downloading numpy-1.25.2-cp310-cp310-manylinux_2_17_x86_64.manylinux2014_x86_64.whl (18.2 MB)\n",
            "\u001b[2K     \u001b[90m━━━━━━━━━━━━━━━━━━━━━━━━━━━━━━━━━━━━━━━━\u001b[0m \u001b[32m18.2/18.2 MB\u001b[0m \u001b[31m50.8 MB/s\u001b[0m eta \u001b[36m0:00:00\u001b[0m\n",
            "\u001b[?25hInstalling collected packages: numpy\n",
            "  Attempting uninstall: numpy\n",
            "    Found existing installation: numpy 1.23.5\n",
            "    Uninstalling numpy-1.23.5:\n",
            "      Successfully uninstalled numpy-1.23.5\n",
            "\u001b[31mERROR: pip's dependency resolver does not currently take into account all the packages that are installed. This behaviour is the source of the following dependency conflicts.\n",
            "apache-beam 2.49.0 requires numpy<1.25.0,>=1.14.3, but you have numpy 1.25.2 which is incompatible.\n",
            "flax 0.7.2 requires PyYAML>=5.4.1, but you have pyyaml 5.3.1 which is incompatible.\n",
            "numba 0.56.4 requires numpy<1.24,>=1.18, but you have numpy 1.25.2 which is incompatible.\n",
            "tensorflow 2.13.0 requires numpy<=1.24.3,>=1.22, but you have numpy 1.25.2 which is incompatible.\u001b[0m\u001b[31m\n",
            "\u001b[0mSuccessfully installed numpy-1.25.2\n"
          ]
        },
        {
          "output_type": "display_data",
          "data": {
            "application/vnd.colab-display-data+json": {
              "pip_warning": {
                "packages": [
                  "numpy"
                ]
              }
            }
          },
          "metadata": {}
        }
      ]
    },
    {
      "cell_type": "code",
      "execution_count": null,
      "metadata": {
        "scrolled": true,
        "id": "z9ms1tr28DUq",
        "colab": {
          "base_uri": "https://localhost:8080/"
        },
        "outputId": "a7dc2de7-67f1-4184-d2d8-1650f9658e1a"
      },
      "outputs": [
        {
          "output_type": "stream",
          "name": "stdout",
          "text": [
            "2023-08-26 16:27:30.225250: I tensorflow/core/platform/cpu_feature_guard.cc:182] This TensorFlow binary is optimized to use available CPU instructions in performance-critical operations.\n",
            "To enable the following instructions: AVX2 FMA, in other operations, rebuild TensorFlow with the appropriate compiler flags.\n",
            "2023-08-26 16:27:31.733566: W tensorflow/compiler/tf2tensorrt/utils/py_utils.cc:38] TF-TRT Warning: Could not find TensorRT\n",
            "2023-08-26 16:27:35.715136: I tensorflow/compiler/xla/stream_executor/cuda/cuda_gpu_executor.cc:995] successful NUMA node read from SysFS had negative value (-1), but there must be at least one NUMA node, so returning NUMA node zero. See more at https://github.com/torvalds/linux/blob/v6.0/Documentation/ABI/testing/sysfs-bus-pci#L344-L355\n",
            "2023-08-26 16:27:36.229396: I tensorflow/compiler/xla/stream_executor/cuda/cuda_gpu_executor.cc:995] successful NUMA node read from SysFS had negative value (-1), but there must be at least one NUMA node, so returning NUMA node zero. See more at https://github.com/torvalds/linux/blob/v6.0/Documentation/ABI/testing/sysfs-bus-pci#L344-L355\n",
            "2023-08-26 16:27:36.229706: I tensorflow/compiler/xla/stream_executor/cuda/cuda_gpu_executor.cc:995] successful NUMA node read from SysFS had negative value (-1), but there must be at least one NUMA node, so returning NUMA node zero. See more at https://github.com/torvalds/linux/blob/v6.0/Documentation/ABI/testing/sysfs-bus-pci#L344-L355\n",
            "Running tests under Python 3.10.12: /usr/bin/python3\n",
            "[ RUN      ] ModelBuilderTF2Test.test_create_center_net_deepmac\n",
            "2023-08-26 16:27:36.237230: I tensorflow/compiler/xla/stream_executor/cuda/cuda_gpu_executor.cc:995] successful NUMA node read from SysFS had negative value (-1), but there must be at least one NUMA node, so returning NUMA node zero. See more at https://github.com/torvalds/linux/blob/v6.0/Documentation/ABI/testing/sysfs-bus-pci#L344-L355\n",
            "2023-08-26 16:27:36.237490: I tensorflow/compiler/xla/stream_executor/cuda/cuda_gpu_executor.cc:995] successful NUMA node read from SysFS had negative value (-1), but there must be at least one NUMA node, so returning NUMA node zero. See more at https://github.com/torvalds/linux/blob/v6.0/Documentation/ABI/testing/sysfs-bus-pci#L344-L355\n",
            "2023-08-26 16:27:36.237684: I tensorflow/compiler/xla/stream_executor/cuda/cuda_gpu_executor.cc:995] successful NUMA node read from SysFS had negative value (-1), but there must be at least one NUMA node, so returning NUMA node zero. See more at https://github.com/torvalds/linux/blob/v6.0/Documentation/ABI/testing/sysfs-bus-pci#L344-L355\n",
            "2023-08-26 16:27:37.387329: I tensorflow/compiler/xla/stream_executor/cuda/cuda_gpu_executor.cc:995] successful NUMA node read from SysFS had negative value (-1), but there must be at least one NUMA node, so returning NUMA node zero. See more at https://github.com/torvalds/linux/blob/v6.0/Documentation/ABI/testing/sysfs-bus-pci#L344-L355\n",
            "2023-08-26 16:27:37.387642: I tensorflow/compiler/xla/stream_executor/cuda/cuda_gpu_executor.cc:995] successful NUMA node read from SysFS had negative value (-1), but there must be at least one NUMA node, so returning NUMA node zero. See more at https://github.com/torvalds/linux/blob/v6.0/Documentation/ABI/testing/sysfs-bus-pci#L344-L355\n",
            "2023-08-26 16:27:37.387846: I tensorflow/compiler/xla/stream_executor/cuda/cuda_gpu_executor.cc:995] successful NUMA node read from SysFS had negative value (-1), but there must be at least one NUMA node, so returning NUMA node zero. See more at https://github.com/torvalds/linux/blob/v6.0/Documentation/ABI/testing/sysfs-bus-pci#L344-L355\n",
            "2023-08-26 16:27:37.387987: W tensorflow/core/common_runtime/gpu/gpu_bfc_allocator.cc:47] Overriding orig_value setting because the TF_FORCE_GPU_ALLOW_GROWTH environment variable is set. Original config value was 0.\n",
            "2023-08-26 16:27:37.388030: I tensorflow/core/common_runtime/gpu/gpu_device.cc:1639] Created device /job:localhost/replica:0/task:0/device:GPU:0 with 13692 MB memory:  -> device: 0, name: Tesla T4, pci bus id: 0000:00:04.0, compute capability: 7.5\n",
            "WARNING:tensorflow:`tf.keras.layers.experimental.SyncBatchNormalization` endpoint is deprecated and will be removed in a future release. Please use `tf.keras.layers.BatchNormalization` with parameter `synchronized` set to True.\n",
            "W0826 16:27:37.563490 139593473036288 batch_normalization.py:1531] `tf.keras.layers.experimental.SyncBatchNormalization` endpoint is deprecated and will be removed in a future release. Please use `tf.keras.layers.BatchNormalization` with parameter `synchronized` set to True.\n",
            "W0826 16:27:37.837210 139593473036288 model_builder.py:1112] Building experimental DeepMAC meta-arch. Some features may be omitted.\n",
            "INFO:tensorflow:time(__main__.ModelBuilderTF2Test.test_create_center_net_deepmac): 1.92s\n",
            "I0826 16:27:38.155440 139593473036288 test_util.py:2462] time(__main__.ModelBuilderTF2Test.test_create_center_net_deepmac): 1.92s\n",
            "[       OK ] ModelBuilderTF2Test.test_create_center_net_deepmac\n",
            "[ RUN      ] ModelBuilderTF2Test.test_create_center_net_model0 (customize_head_params=True)\n",
            "INFO:tensorflow:time(__main__.ModelBuilderTF2Test.test_create_center_net_model0 (customize_head_params=True)): 0.59s\n",
            "I0826 16:27:38.749478 139593473036288 test_util.py:2462] time(__main__.ModelBuilderTF2Test.test_create_center_net_model0 (customize_head_params=True)): 0.59s\n",
            "[       OK ] ModelBuilderTF2Test.test_create_center_net_model0 (customize_head_params=True)\n",
            "[ RUN      ] ModelBuilderTF2Test.test_create_center_net_model1 (customize_head_params=False)\n",
            "INFO:tensorflow:time(__main__.ModelBuilderTF2Test.test_create_center_net_model1 (customize_head_params=False)): 0.35s\n",
            "I0826 16:27:39.097912 139593473036288 test_util.py:2462] time(__main__.ModelBuilderTF2Test.test_create_center_net_model1 (customize_head_params=False)): 0.35s\n",
            "[       OK ] ModelBuilderTF2Test.test_create_center_net_model1 (customize_head_params=False)\n",
            "[ RUN      ] ModelBuilderTF2Test.test_create_center_net_model_from_keypoints\n",
            "INFO:tensorflow:time(__main__.ModelBuilderTF2Test.test_create_center_net_model_from_keypoints): 0.47s\n",
            "I0826 16:27:39.567959 139593473036288 test_util.py:2462] time(__main__.ModelBuilderTF2Test.test_create_center_net_model_from_keypoints): 0.47s\n",
            "[       OK ] ModelBuilderTF2Test.test_create_center_net_model_from_keypoints\n",
            "[ RUN      ] ModelBuilderTF2Test.test_create_center_net_model_mobilenet\n",
            "INFO:tensorflow:time(__main__.ModelBuilderTF2Test.test_create_center_net_model_mobilenet): 2.1s\n",
            "I0826 16:27:41.668680 139593473036288 test_util.py:2462] time(__main__.ModelBuilderTF2Test.test_create_center_net_model_mobilenet): 2.1s\n",
            "[       OK ] ModelBuilderTF2Test.test_create_center_net_model_mobilenet\n",
            "[ RUN      ] ModelBuilderTF2Test.test_create_experimental_model\n",
            "INFO:tensorflow:time(__main__.ModelBuilderTF2Test.test_create_experimental_model): 0.0s\n",
            "I0826 16:27:41.675247 139593473036288 test_util.py:2462] time(__main__.ModelBuilderTF2Test.test_create_experimental_model): 0.0s\n",
            "[       OK ] ModelBuilderTF2Test.test_create_experimental_model\n",
            "[ RUN      ] ModelBuilderTF2Test.test_create_faster_rcnn_from_config_with_crop_feature0 (True)\n",
            "INFO:tensorflow:time(__main__.ModelBuilderTF2Test.test_create_faster_rcnn_from_config_with_crop_feature0 (True)): 0.03s\n",
            "I0826 16:27:41.702191 139593473036288 test_util.py:2462] time(__main__.ModelBuilderTF2Test.test_create_faster_rcnn_from_config_with_crop_feature0 (True)): 0.03s\n",
            "[       OK ] ModelBuilderTF2Test.test_create_faster_rcnn_from_config_with_crop_feature0 (True)\n",
            "[ RUN      ] ModelBuilderTF2Test.test_create_faster_rcnn_from_config_with_crop_feature1 (False)\n",
            "INFO:tensorflow:time(__main__.ModelBuilderTF2Test.test_create_faster_rcnn_from_config_with_crop_feature1 (False)): 0.02s\n",
            "I0826 16:27:41.720330 139593473036288 test_util.py:2462] time(__main__.ModelBuilderTF2Test.test_create_faster_rcnn_from_config_with_crop_feature1 (False)): 0.02s\n",
            "[       OK ] ModelBuilderTF2Test.test_create_faster_rcnn_from_config_with_crop_feature1 (False)\n",
            "[ RUN      ] ModelBuilderTF2Test.test_create_faster_rcnn_model_from_config_with_example_miner\n",
            "INFO:tensorflow:time(__main__.ModelBuilderTF2Test.test_create_faster_rcnn_model_from_config_with_example_miner): 0.02s\n",
            "I0826 16:27:41.739023 139593473036288 test_util.py:2462] time(__main__.ModelBuilderTF2Test.test_create_faster_rcnn_model_from_config_with_example_miner): 0.02s\n",
            "[       OK ] ModelBuilderTF2Test.test_create_faster_rcnn_model_from_config_with_example_miner\n",
            "[ RUN      ] ModelBuilderTF2Test.test_create_faster_rcnn_models_from_config_faster_rcnn_with_matmul\n",
            "INFO:tensorflow:time(__main__.ModelBuilderTF2Test.test_create_faster_rcnn_models_from_config_faster_rcnn_with_matmul): 0.11s\n",
            "I0826 16:27:41.850790 139593473036288 test_util.py:2462] time(__main__.ModelBuilderTF2Test.test_create_faster_rcnn_models_from_config_faster_rcnn_with_matmul): 0.11s\n",
            "[       OK ] ModelBuilderTF2Test.test_create_faster_rcnn_models_from_config_faster_rcnn_with_matmul\n",
            "[ RUN      ] ModelBuilderTF2Test.test_create_faster_rcnn_models_from_config_faster_rcnn_without_matmul\n",
            "INFO:tensorflow:time(__main__.ModelBuilderTF2Test.test_create_faster_rcnn_models_from_config_faster_rcnn_without_matmul): 0.11s\n",
            "I0826 16:27:41.965046 139593473036288 test_util.py:2462] time(__main__.ModelBuilderTF2Test.test_create_faster_rcnn_models_from_config_faster_rcnn_without_matmul): 0.11s\n",
            "[       OK ] ModelBuilderTF2Test.test_create_faster_rcnn_models_from_config_faster_rcnn_without_matmul\n",
            "[ RUN      ] ModelBuilderTF2Test.test_create_faster_rcnn_models_from_config_mask_rcnn_with_matmul\n",
            "INFO:tensorflow:time(__main__.ModelBuilderTF2Test.test_create_faster_rcnn_models_from_config_mask_rcnn_with_matmul): 0.11s\n",
            "I0826 16:27:42.077316 139593473036288 test_util.py:2462] time(__main__.ModelBuilderTF2Test.test_create_faster_rcnn_models_from_config_mask_rcnn_with_matmul): 0.11s\n",
            "[       OK ] ModelBuilderTF2Test.test_create_faster_rcnn_models_from_config_mask_rcnn_with_matmul\n",
            "[ RUN      ] ModelBuilderTF2Test.test_create_faster_rcnn_models_from_config_mask_rcnn_without_matmul\n",
            "INFO:tensorflow:time(__main__.ModelBuilderTF2Test.test_create_faster_rcnn_models_from_config_mask_rcnn_without_matmul): 0.12s\n",
            "I0826 16:27:42.196136 139593473036288 test_util.py:2462] time(__main__.ModelBuilderTF2Test.test_create_faster_rcnn_models_from_config_mask_rcnn_without_matmul): 0.12s\n",
            "[       OK ] ModelBuilderTF2Test.test_create_faster_rcnn_models_from_config_mask_rcnn_without_matmul\n",
            "[ RUN      ] ModelBuilderTF2Test.test_create_rfcn_model_from_config\n",
            "INFO:tensorflow:time(__main__.ModelBuilderTF2Test.test_create_rfcn_model_from_config): 0.11s\n",
            "I0826 16:27:42.306360 139593473036288 test_util.py:2462] time(__main__.ModelBuilderTF2Test.test_create_rfcn_model_from_config): 0.11s\n",
            "[       OK ] ModelBuilderTF2Test.test_create_rfcn_model_from_config\n",
            "[ RUN      ] ModelBuilderTF2Test.test_create_ssd_fpn_model_from_config\n",
            "INFO:tensorflow:time(__main__.ModelBuilderTF2Test.test_create_ssd_fpn_model_from_config): 0.03s\n",
            "I0826 16:27:42.339177 139593473036288 test_util.py:2462] time(__main__.ModelBuilderTF2Test.test_create_ssd_fpn_model_from_config): 0.03s\n",
            "[       OK ] ModelBuilderTF2Test.test_create_ssd_fpn_model_from_config\n",
            "[ RUN      ] ModelBuilderTF2Test.test_create_ssd_models_from_config\n",
            "I0826 16:27:42.581521 139593473036288 ssd_efficientnet_bifpn_feature_extractor.py:150] EfficientDet EfficientNet backbone version: efficientnet-b0\n",
            "I0826 16:27:42.581672 139593473036288 ssd_efficientnet_bifpn_feature_extractor.py:152] EfficientDet BiFPN num filters: 64\n",
            "I0826 16:27:42.581741 139593473036288 ssd_efficientnet_bifpn_feature_extractor.py:153] EfficientDet BiFPN num iterations: 3\n",
            "I0826 16:27:42.584290 139593473036288 efficientnet_model.py:143] round_filter input=32 output=32\n",
            "I0826 16:27:42.613755 139593473036288 efficientnet_model.py:143] round_filter input=32 output=32\n",
            "I0826 16:27:42.613937 139593473036288 efficientnet_model.py:143] round_filter input=16 output=16\n",
            "I0826 16:27:42.695138 139593473036288 efficientnet_model.py:143] round_filter input=16 output=16\n",
            "I0826 16:27:42.695283 139593473036288 efficientnet_model.py:143] round_filter input=24 output=24\n",
            "I0826 16:27:42.903132 139593473036288 efficientnet_model.py:143] round_filter input=24 output=24\n",
            "I0826 16:27:42.903288 139593473036288 efficientnet_model.py:143] round_filter input=40 output=40\n",
            "I0826 16:27:43.098246 139593473036288 efficientnet_model.py:143] round_filter input=40 output=40\n",
            "I0826 16:27:43.098475 139593473036288 efficientnet_model.py:143] round_filter input=80 output=80\n",
            "I0826 16:27:43.396775 139593473036288 efficientnet_model.py:143] round_filter input=80 output=80\n",
            "I0826 16:27:43.396929 139593473036288 efficientnet_model.py:143] round_filter input=112 output=112\n",
            "I0826 16:27:43.692726 139593473036288 efficientnet_model.py:143] round_filter input=112 output=112\n",
            "I0826 16:27:43.692880 139593473036288 efficientnet_model.py:143] round_filter input=192 output=192\n",
            "I0826 16:27:44.081829 139593473036288 efficientnet_model.py:143] round_filter input=192 output=192\n",
            "I0826 16:27:44.081993 139593473036288 efficientnet_model.py:143] round_filter input=320 output=320\n",
            "I0826 16:27:44.189675 139593473036288 efficientnet_model.py:143] round_filter input=1280 output=1280\n",
            "I0826 16:27:44.239947 139593473036288 efficientnet_model.py:453] Building model efficientnet with params ModelConfig(width_coefficient=1.0, depth_coefficient=1.0, resolution=224, dropout_rate=0.2, blocks=(BlockConfig(input_filters=32, output_filters=16, kernel_size=3, num_repeat=1, expand_ratio=1, strides=(1, 1), se_ratio=0.25, id_skip=True, fused_conv=False, conv_type='depthwise'), BlockConfig(input_filters=16, output_filters=24, kernel_size=3, num_repeat=2, expand_ratio=6, strides=(2, 2), se_ratio=0.25, id_skip=True, fused_conv=False, conv_type='depthwise'), BlockConfig(input_filters=24, output_filters=40, kernel_size=5, num_repeat=2, expand_ratio=6, strides=(2, 2), se_ratio=0.25, id_skip=True, fused_conv=False, conv_type='depthwise'), BlockConfig(input_filters=40, output_filters=80, kernel_size=3, num_repeat=3, expand_ratio=6, strides=(2, 2), se_ratio=0.25, id_skip=True, fused_conv=False, conv_type='depthwise'), BlockConfig(input_filters=80, output_filters=112, kernel_size=5, num_repeat=3, expand_ratio=6, strides=(1, 1), se_ratio=0.25, id_skip=True, fused_conv=False, conv_type='depthwise'), BlockConfig(input_filters=112, output_filters=192, kernel_size=5, num_repeat=4, expand_ratio=6, strides=(2, 2), se_ratio=0.25, id_skip=True, fused_conv=False, conv_type='depthwise'), BlockConfig(input_filters=192, output_filters=320, kernel_size=3, num_repeat=1, expand_ratio=6, strides=(1, 1), se_ratio=0.25, id_skip=True, fused_conv=False, conv_type='depthwise')), stem_base_filters=32, top_base_filters=1280, activation='simple_swish', batch_norm='default', bn_momentum=0.99, bn_epsilon=0.001, weight_decay=5e-06, drop_connect_rate=0.2, depth_divisor=8, min_depth=None, use_se=True, input_channels=3, num_classes=1000, model_name='efficientnet', rescale_input=False, data_format='channels_last', dtype='float32')\n",
            "I0826 16:27:44.295757 139593473036288 ssd_efficientnet_bifpn_feature_extractor.py:150] EfficientDet EfficientNet backbone version: efficientnet-b1\n",
            "I0826 16:27:44.295908 139593473036288 ssd_efficientnet_bifpn_feature_extractor.py:152] EfficientDet BiFPN num filters: 88\n",
            "I0826 16:27:44.295978 139593473036288 ssd_efficientnet_bifpn_feature_extractor.py:153] EfficientDet BiFPN num iterations: 4\n",
            "I0826 16:27:44.297933 139593473036288 efficientnet_model.py:143] round_filter input=32 output=32\n",
            "I0826 16:27:44.316761 139593473036288 efficientnet_model.py:143] round_filter input=32 output=32\n",
            "I0826 16:27:44.316905 139593473036288 efficientnet_model.py:143] round_filter input=16 output=16\n",
            "I0826 16:27:44.474873 139593473036288 efficientnet_model.py:143] round_filter input=16 output=16\n",
            "I0826 16:27:44.475028 139593473036288 efficientnet_model.py:143] round_filter input=24 output=24\n",
            "I0826 16:27:44.753206 139593473036288 efficientnet_model.py:143] round_filter input=24 output=24\n",
            "I0826 16:27:44.753389 139593473036288 efficientnet_model.py:143] round_filter input=40 output=40\n",
            "I0826 16:27:45.034591 139593473036288 efficientnet_model.py:143] round_filter input=40 output=40\n",
            "I0826 16:27:45.034749 139593473036288 efficientnet_model.py:143] round_filter input=80 output=80\n",
            "I0826 16:27:45.631177 139593473036288 efficientnet_model.py:143] round_filter input=80 output=80\n",
            "I0826 16:27:45.631407 139593473036288 efficientnet_model.py:143] round_filter input=112 output=112\n",
            "I0826 16:27:46.167757 139593473036288 efficientnet_model.py:143] round_filter input=112 output=112\n",
            "I0826 16:27:46.167947 139593473036288 efficientnet_model.py:143] round_filter input=192 output=192\n",
            "I0826 16:27:46.840943 139593473036288 efficientnet_model.py:143] round_filter input=192 output=192\n",
            "I0826 16:27:46.841154 139593473036288 efficientnet_model.py:143] round_filter input=320 output=320\n",
            "I0826 16:27:47.117458 139593473036288 efficientnet_model.py:143] round_filter input=1280 output=1280\n",
            "I0826 16:27:47.165829 139593473036288 efficientnet_model.py:453] Building model efficientnet with params ModelConfig(width_coefficient=1.0, depth_coefficient=1.1, resolution=240, dropout_rate=0.2, blocks=(BlockConfig(input_filters=32, output_filters=16, kernel_size=3, num_repeat=1, expand_ratio=1, strides=(1, 1), se_ratio=0.25, id_skip=True, fused_conv=False, conv_type='depthwise'), BlockConfig(input_filters=16, output_filters=24, kernel_size=3, num_repeat=2, expand_ratio=6, strides=(2, 2), se_ratio=0.25, id_skip=True, fused_conv=False, conv_type='depthwise'), BlockConfig(input_filters=24, output_filters=40, kernel_size=5, num_repeat=2, expand_ratio=6, strides=(2, 2), se_ratio=0.25, id_skip=True, fused_conv=False, conv_type='depthwise'), BlockConfig(input_filters=40, output_filters=80, kernel_size=3, num_repeat=3, expand_ratio=6, strides=(2, 2), se_ratio=0.25, id_skip=True, fused_conv=False, conv_type='depthwise'), BlockConfig(input_filters=80, output_filters=112, kernel_size=5, num_repeat=3, expand_ratio=6, strides=(1, 1), se_ratio=0.25, id_skip=True, fused_conv=False, conv_type='depthwise'), BlockConfig(input_filters=112, output_filters=192, kernel_size=5, num_repeat=4, expand_ratio=6, strides=(2, 2), se_ratio=0.25, id_skip=True, fused_conv=False, conv_type='depthwise'), BlockConfig(input_filters=192, output_filters=320, kernel_size=3, num_repeat=1, expand_ratio=6, strides=(1, 1), se_ratio=0.25, id_skip=True, fused_conv=False, conv_type='depthwise')), stem_base_filters=32, top_base_filters=1280, activation='simple_swish', batch_norm='default', bn_momentum=0.99, bn_epsilon=0.001, weight_decay=5e-06, drop_connect_rate=0.2, depth_divisor=8, min_depth=None, use_se=True, input_channels=3, num_classes=1000, model_name='efficientnet', rescale_input=False, data_format='channels_last', dtype='float32')\n",
            "I0826 16:27:47.278843 139593473036288 ssd_efficientnet_bifpn_feature_extractor.py:150] EfficientDet EfficientNet backbone version: efficientnet-b2\n",
            "I0826 16:27:47.279054 139593473036288 ssd_efficientnet_bifpn_feature_extractor.py:152] EfficientDet BiFPN num filters: 112\n",
            "I0826 16:27:47.280426 139593473036288 ssd_efficientnet_bifpn_feature_extractor.py:153] EfficientDet BiFPN num iterations: 5\n",
            "I0826 16:27:47.283802 139593473036288 efficientnet_model.py:143] round_filter input=32 output=32\n",
            "I0826 16:27:47.317237 139593473036288 efficientnet_model.py:143] round_filter input=32 output=32\n",
            "I0826 16:27:47.317450 139593473036288 efficientnet_model.py:143] round_filter input=16 output=16\n",
            "I0826 16:27:47.520706 139593473036288 efficientnet_model.py:143] round_filter input=16 output=16\n",
            "I0826 16:27:47.520893 139593473036288 efficientnet_model.py:143] round_filter input=24 output=24\n",
            "I0826 16:27:47.920886 139593473036288 efficientnet_model.py:143] round_filter input=24 output=24\n",
            "I0826 16:27:47.921115 139593473036288 efficientnet_model.py:143] round_filter input=40 output=48\n",
            "I0826 16:27:48.339691 139593473036288 efficientnet_model.py:143] round_filter input=40 output=48\n",
            "I0826 16:27:48.339890 139593473036288 efficientnet_model.py:143] round_filter input=80 output=88\n",
            "I0826 16:27:48.873420 139593473036288 efficientnet_model.py:143] round_filter input=80 output=88\n",
            "I0826 16:27:48.873654 139593473036288 efficientnet_model.py:143] round_filter input=112 output=120\n",
            "I0826 16:27:49.422374 139593473036288 efficientnet_model.py:143] round_filter input=112 output=120\n",
            "I0826 16:27:49.422573 139593473036288 efficientnet_model.py:143] round_filter input=192 output=208\n",
            "I0826 16:27:50.090718 139593473036288 efficientnet_model.py:143] round_filter input=192 output=208\n",
            "I0826 16:27:50.090923 139593473036288 efficientnet_model.py:143] round_filter input=320 output=352\n",
            "I0826 16:27:50.362793 139593473036288 efficientnet_model.py:143] round_filter input=1280 output=1408\n",
            "I0826 16:27:50.425565 139593473036288 efficientnet_model.py:453] Building model efficientnet with params ModelConfig(width_coefficient=1.1, depth_coefficient=1.2, resolution=260, dropout_rate=0.3, blocks=(BlockConfig(input_filters=32, output_filters=16, kernel_size=3, num_repeat=1, expand_ratio=1, strides=(1, 1), se_ratio=0.25, id_skip=True, fused_conv=False, conv_type='depthwise'), BlockConfig(input_filters=16, output_filters=24, kernel_size=3, num_repeat=2, expand_ratio=6, strides=(2, 2), se_ratio=0.25, id_skip=True, fused_conv=False, conv_type='depthwise'), BlockConfig(input_filters=24, output_filters=40, kernel_size=5, num_repeat=2, expand_ratio=6, strides=(2, 2), se_ratio=0.25, id_skip=True, fused_conv=False, conv_type='depthwise'), BlockConfig(input_filters=40, output_filters=80, kernel_size=3, num_repeat=3, expand_ratio=6, strides=(2, 2), se_ratio=0.25, id_skip=True, fused_conv=False, conv_type='depthwise'), BlockConfig(input_filters=80, output_filters=112, kernel_size=5, num_repeat=3, expand_ratio=6, strides=(1, 1), se_ratio=0.25, id_skip=True, fused_conv=False, conv_type='depthwise'), BlockConfig(input_filters=112, output_filters=192, kernel_size=5, num_repeat=4, expand_ratio=6, strides=(2, 2), se_ratio=0.25, id_skip=True, fused_conv=False, conv_type='depthwise'), BlockConfig(input_filters=192, output_filters=320, kernel_size=3, num_repeat=1, expand_ratio=6, strides=(1, 1), se_ratio=0.25, id_skip=True, fused_conv=False, conv_type='depthwise')), stem_base_filters=32, top_base_filters=1280, activation='simple_swish', batch_norm='default', bn_momentum=0.99, bn_epsilon=0.001, weight_decay=5e-06, drop_connect_rate=0.2, depth_divisor=8, min_depth=None, use_se=True, input_channels=3, num_classes=1000, model_name='efficientnet', rescale_input=False, data_format='channels_last', dtype='float32')\n",
            "I0826 16:27:50.538571 139593473036288 ssd_efficientnet_bifpn_feature_extractor.py:150] EfficientDet EfficientNet backbone version: efficientnet-b3\n",
            "I0826 16:27:50.538766 139593473036288 ssd_efficientnet_bifpn_feature_extractor.py:152] EfficientDet BiFPN num filters: 160\n",
            "I0826 16:27:50.538862 139593473036288 ssd_efficientnet_bifpn_feature_extractor.py:153] EfficientDet BiFPN num iterations: 6\n",
            "I0826 16:27:50.542238 139593473036288 efficientnet_model.py:143] round_filter input=32 output=40\n",
            "I0826 16:27:50.575016 139593473036288 efficientnet_model.py:143] round_filter input=32 output=40\n",
            "I0826 16:27:50.575179 139593473036288 efficientnet_model.py:143] round_filter input=16 output=24\n",
            "I0826 16:27:50.815705 139593473036288 efficientnet_model.py:143] round_filter input=16 output=24\n",
            "I0826 16:27:50.815891 139593473036288 efficientnet_model.py:143] round_filter input=24 output=32\n",
            "I0826 16:27:51.241426 139593473036288 efficientnet_model.py:143] round_filter input=24 output=32\n",
            "I0826 16:27:51.241622 139593473036288 efficientnet_model.py:143] round_filter input=40 output=48\n",
            "I0826 16:27:51.658224 139593473036288 efficientnet_model.py:143] round_filter input=40 output=48\n",
            "I0826 16:27:51.658421 139593473036288 efficientnet_model.py:143] round_filter input=80 output=96\n",
            "I0826 16:27:52.355665 139593473036288 efficientnet_model.py:143] round_filter input=80 output=96\n",
            "I0826 16:27:52.355867 139593473036288 efficientnet_model.py:143] round_filter input=112 output=136\n",
            "I0826 16:27:53.049932 139593473036288 efficientnet_model.py:143] round_filter input=112 output=136\n",
            "I0826 16:27:53.050161 139593473036288 efficientnet_model.py:143] round_filter input=192 output=232\n",
            "I0826 16:27:53.892144 139593473036288 efficientnet_model.py:143] round_filter input=192 output=232\n",
            "I0826 16:27:53.892388 139593473036288 efficientnet_model.py:143] round_filter input=320 output=384\n",
            "I0826 16:27:54.196373 139593473036288 efficientnet_model.py:143] round_filter input=1280 output=1536\n",
            "I0826 16:27:54.257374 139593473036288 efficientnet_model.py:453] Building model efficientnet with params ModelConfig(width_coefficient=1.2, depth_coefficient=1.4, resolution=300, dropout_rate=0.3, blocks=(BlockConfig(input_filters=32, output_filters=16, kernel_size=3, num_repeat=1, expand_ratio=1, strides=(1, 1), se_ratio=0.25, id_skip=True, fused_conv=False, conv_type='depthwise'), BlockConfig(input_filters=16, output_filters=24, kernel_size=3, num_repeat=2, expand_ratio=6, strides=(2, 2), se_ratio=0.25, id_skip=True, fused_conv=False, conv_type='depthwise'), BlockConfig(input_filters=24, output_filters=40, kernel_size=5, num_repeat=2, expand_ratio=6, strides=(2, 2), se_ratio=0.25, id_skip=True, fused_conv=False, conv_type='depthwise'), BlockConfig(input_filters=40, output_filters=80, kernel_size=3, num_repeat=3, expand_ratio=6, strides=(2, 2), se_ratio=0.25, id_skip=True, fused_conv=False, conv_type='depthwise'), BlockConfig(input_filters=80, output_filters=112, kernel_size=5, num_repeat=3, expand_ratio=6, strides=(1, 1), se_ratio=0.25, id_skip=True, fused_conv=False, conv_type='depthwise'), BlockConfig(input_filters=112, output_filters=192, kernel_size=5, num_repeat=4, expand_ratio=6, strides=(2, 2), se_ratio=0.25, id_skip=True, fused_conv=False, conv_type='depthwise'), BlockConfig(input_filters=192, output_filters=320, kernel_size=3, num_repeat=1, expand_ratio=6, strides=(1, 1), se_ratio=0.25, id_skip=True, fused_conv=False, conv_type='depthwise')), stem_base_filters=32, top_base_filters=1280, activation='simple_swish', batch_norm='default', bn_momentum=0.99, bn_epsilon=0.001, weight_decay=5e-06, drop_connect_rate=0.2, depth_divisor=8, min_depth=None, use_se=True, input_channels=3, num_classes=1000, model_name='efficientnet', rescale_input=False, data_format='channels_last', dtype='float32')\n",
            "I0826 16:27:54.372053 139593473036288 ssd_efficientnet_bifpn_feature_extractor.py:150] EfficientDet EfficientNet backbone version: efficientnet-b4\n",
            "I0826 16:27:54.372247 139593473036288 ssd_efficientnet_bifpn_feature_extractor.py:152] EfficientDet BiFPN num filters: 224\n",
            "I0826 16:27:54.372342 139593473036288 ssd_efficientnet_bifpn_feature_extractor.py:153] EfficientDet BiFPN num iterations: 7\n",
            "I0826 16:27:54.375484 139593473036288 efficientnet_model.py:143] round_filter input=32 output=48\n",
            "I0826 16:27:54.414056 139593473036288 efficientnet_model.py:143] round_filter input=32 output=48\n",
            "I0826 16:27:54.414592 139593473036288 efficientnet_model.py:143] round_filter input=16 output=24\n",
            "I0826 16:27:54.660717 139593473036288 efficientnet_model.py:143] round_filter input=16 output=24\n",
            "I0826 16:27:54.660926 139593473036288 efficientnet_model.py:143] round_filter input=24 output=32\n",
            "I0826 16:27:55.743621 139593473036288 efficientnet_model.py:143] round_filter input=24 output=32\n",
            "I0826 16:27:55.743839 139593473036288 efficientnet_model.py:143] round_filter input=40 output=56\n",
            "I0826 16:27:56.311604 139593473036288 efficientnet_model.py:143] round_filter input=40 output=56\n",
            "I0826 16:27:56.311822 139593473036288 efficientnet_model.py:143] round_filter input=80 output=112\n",
            "I0826 16:27:57.501001 139593473036288 efficientnet_model.py:143] round_filter input=80 output=112\n",
            "I0826 16:27:57.501228 139593473036288 efficientnet_model.py:143] round_filter input=112 output=160\n",
            "I0826 16:27:58.368372 139593473036288 efficientnet_model.py:143] round_filter input=112 output=160\n",
            "I0826 16:27:58.368577 139593473036288 efficientnet_model.py:143] round_filter input=192 output=272\n",
            "I0826 16:27:59.493047 139593473036288 efficientnet_model.py:143] round_filter input=192 output=272\n",
            "I0826 16:27:59.493268 139593473036288 efficientnet_model.py:143] round_filter input=320 output=448\n",
            "I0826 16:27:59.791800 139593473036288 efficientnet_model.py:143] round_filter input=1280 output=1792\n",
            "I0826 16:27:59.851090 139593473036288 efficientnet_model.py:453] Building model efficientnet with params ModelConfig(width_coefficient=1.4, depth_coefficient=1.8, resolution=380, dropout_rate=0.4, blocks=(BlockConfig(input_filters=32, output_filters=16, kernel_size=3, num_repeat=1, expand_ratio=1, strides=(1, 1), se_ratio=0.25, id_skip=True, fused_conv=False, conv_type='depthwise'), BlockConfig(input_filters=16, output_filters=24, kernel_size=3, num_repeat=2, expand_ratio=6, strides=(2, 2), se_ratio=0.25, id_skip=True, fused_conv=False, conv_type='depthwise'), BlockConfig(input_filters=24, output_filters=40, kernel_size=5, num_repeat=2, expand_ratio=6, strides=(2, 2), se_ratio=0.25, id_skip=True, fused_conv=False, conv_type='depthwise'), BlockConfig(input_filters=40, output_filters=80, kernel_size=3, num_repeat=3, expand_ratio=6, strides=(2, 2), se_ratio=0.25, id_skip=True, fused_conv=False, conv_type='depthwise'), BlockConfig(input_filters=80, output_filters=112, kernel_size=5, num_repeat=3, expand_ratio=6, strides=(1, 1), se_ratio=0.25, id_skip=True, fused_conv=False, conv_type='depthwise'), BlockConfig(input_filters=112, output_filters=192, kernel_size=5, num_repeat=4, expand_ratio=6, strides=(2, 2), se_ratio=0.25, id_skip=True, fused_conv=False, conv_type='depthwise'), BlockConfig(input_filters=192, output_filters=320, kernel_size=3, num_repeat=1, expand_ratio=6, strides=(1, 1), se_ratio=0.25, id_skip=True, fused_conv=False, conv_type='depthwise')), stem_base_filters=32, top_base_filters=1280, activation='simple_swish', batch_norm='default', bn_momentum=0.99, bn_epsilon=0.001, weight_decay=5e-06, drop_connect_rate=0.2, depth_divisor=8, min_depth=None, use_se=True, input_channels=3, num_classes=1000, model_name='efficientnet', rescale_input=False, data_format='channels_last', dtype='float32')\n",
            "I0826 16:27:59.944422 139593473036288 ssd_efficientnet_bifpn_feature_extractor.py:150] EfficientDet EfficientNet backbone version: efficientnet-b5\n",
            "I0826 16:27:59.944580 139593473036288 ssd_efficientnet_bifpn_feature_extractor.py:152] EfficientDet BiFPN num filters: 288\n",
            "I0826 16:27:59.944663 139593473036288 ssd_efficientnet_bifpn_feature_extractor.py:153] EfficientDet BiFPN num iterations: 7\n",
            "I0826 16:27:59.946857 139593473036288 efficientnet_model.py:143] round_filter input=32 output=48\n",
            "I0826 16:27:59.965835 139593473036288 efficientnet_model.py:143] round_filter input=32 output=48\n",
            "I0826 16:27:59.965952 139593473036288 efficientnet_model.py:143] round_filter input=16 output=24\n",
            "I0826 16:28:00.180571 139593473036288 efficientnet_model.py:143] round_filter input=16 output=24\n",
            "I0826 16:28:00.180744 139593473036288 efficientnet_model.py:143] round_filter input=24 output=40\n",
            "I0826 16:28:00.629457 139593473036288 efficientnet_model.py:143] round_filter input=24 output=40\n",
            "I0826 16:28:00.629621 139593473036288 efficientnet_model.py:143] round_filter input=40 output=64\n",
            "I0826 16:28:01.080219 139593473036288 efficientnet_model.py:143] round_filter input=40 output=64\n",
            "I0826 16:28:01.080383 139593473036288 efficientnet_model.py:143] round_filter input=80 output=128\n",
            "I0826 16:28:01.732703 139593473036288 efficientnet_model.py:143] round_filter input=80 output=128\n",
            "I0826 16:28:01.732883 139593473036288 efficientnet_model.py:143] round_filter input=112 output=176\n",
            "I0826 16:28:02.388973 139593473036288 efficientnet_model.py:143] round_filter input=112 output=176\n",
            "I0826 16:28:02.389154 139593473036288 efficientnet_model.py:143] round_filter input=192 output=304\n",
            "I0826 16:28:03.781402 139593473036288 efficientnet_model.py:143] round_filter input=192 output=304\n",
            "I0826 16:28:03.781589 139593473036288 efficientnet_model.py:143] round_filter input=320 output=512\n",
            "I0826 16:28:04.315486 139593473036288 efficientnet_model.py:143] round_filter input=1280 output=2048\n",
            "I0826 16:28:04.353282 139593473036288 efficientnet_model.py:453] Building model efficientnet with params ModelConfig(width_coefficient=1.6, depth_coefficient=2.2, resolution=456, dropout_rate=0.4, blocks=(BlockConfig(input_filters=32, output_filters=16, kernel_size=3, num_repeat=1, expand_ratio=1, strides=(1, 1), se_ratio=0.25, id_skip=True, fused_conv=False, conv_type='depthwise'), BlockConfig(input_filters=16, output_filters=24, kernel_size=3, num_repeat=2, expand_ratio=6, strides=(2, 2), se_ratio=0.25, id_skip=True, fused_conv=False, conv_type='depthwise'), BlockConfig(input_filters=24, output_filters=40, kernel_size=5, num_repeat=2, expand_ratio=6, strides=(2, 2), se_ratio=0.25, id_skip=True, fused_conv=False, conv_type='depthwise'), BlockConfig(input_filters=40, output_filters=80, kernel_size=3, num_repeat=3, expand_ratio=6, strides=(2, 2), se_ratio=0.25, id_skip=True, fused_conv=False, conv_type='depthwise'), BlockConfig(input_filters=80, output_filters=112, kernel_size=5, num_repeat=3, expand_ratio=6, strides=(1, 1), se_ratio=0.25, id_skip=True, fused_conv=False, conv_type='depthwise'), BlockConfig(input_filters=112, output_filters=192, kernel_size=5, num_repeat=4, expand_ratio=6, strides=(2, 2), se_ratio=0.25, id_skip=True, fused_conv=False, conv_type='depthwise'), BlockConfig(input_filters=192, output_filters=320, kernel_size=3, num_repeat=1, expand_ratio=6, strides=(1, 1), se_ratio=0.25, id_skip=True, fused_conv=False, conv_type='depthwise')), stem_base_filters=32, top_base_filters=1280, activation='simple_swish', batch_norm='default', bn_momentum=0.99, bn_epsilon=0.001, weight_decay=5e-06, drop_connect_rate=0.2, depth_divisor=8, min_depth=None, use_se=True, input_channels=3, num_classes=1000, model_name='efficientnet', rescale_input=False, data_format='channels_last', dtype='float32')\n",
            "I0826 16:28:04.444224 139593473036288 ssd_efficientnet_bifpn_feature_extractor.py:150] EfficientDet EfficientNet backbone version: efficientnet-b6\n",
            "I0826 16:28:04.444377 139593473036288 ssd_efficientnet_bifpn_feature_extractor.py:152] EfficientDet BiFPN num filters: 384\n",
            "I0826 16:28:04.444447 139593473036288 ssd_efficientnet_bifpn_feature_extractor.py:153] EfficientDet BiFPN num iterations: 8\n",
            "I0826 16:28:04.446294 139593473036288 efficientnet_model.py:143] round_filter input=32 output=56\n",
            "I0826 16:28:04.467066 139593473036288 efficientnet_model.py:143] round_filter input=32 output=56\n",
            "I0826 16:28:04.467189 139593473036288 efficientnet_model.py:143] round_filter input=16 output=32\n",
            "I0826 16:28:04.728732 139593473036288 efficientnet_model.py:143] round_filter input=16 output=32\n",
            "I0826 16:28:04.728928 139593473036288 efficientnet_model.py:143] round_filter input=24 output=40\n",
            "I0826 16:28:05.622332 139593473036288 efficientnet_model.py:143] round_filter input=24 output=40\n",
            "I0826 16:28:05.622495 139593473036288 efficientnet_model.py:143] round_filter input=40 output=72\n",
            "I0826 16:28:06.165879 139593473036288 efficientnet_model.py:143] round_filter input=40 output=72\n",
            "I0826 16:28:06.166051 139593473036288 efficientnet_model.py:143] round_filter input=80 output=144\n",
            "I0826 16:28:06.866116 139593473036288 efficientnet_model.py:143] round_filter input=80 output=144\n",
            "I0826 16:28:06.866309 139593473036288 efficientnet_model.py:143] round_filter input=112 output=200\n",
            "I0826 16:28:07.863413 139593473036288 efficientnet_model.py:143] round_filter input=112 output=200\n",
            "I0826 16:28:07.863567 139593473036288 efficientnet_model.py:143] round_filter input=192 output=344\n",
            "I0826 16:28:08.865374 139593473036288 efficientnet_model.py:143] round_filter input=192 output=344\n",
            "I0826 16:28:08.865531 139593473036288 efficientnet_model.py:143] round_filter input=320 output=576\n",
            "I0826 16:28:09.147115 139593473036288 efficientnet_model.py:143] round_filter input=1280 output=2304\n",
            "I0826 16:28:09.190762 139593473036288 efficientnet_model.py:453] Building model efficientnet with params ModelConfig(width_coefficient=1.8, depth_coefficient=2.6, resolution=528, dropout_rate=0.5, blocks=(BlockConfig(input_filters=32, output_filters=16, kernel_size=3, num_repeat=1, expand_ratio=1, strides=(1, 1), se_ratio=0.25, id_skip=True, fused_conv=False, conv_type='depthwise'), BlockConfig(input_filters=16, output_filters=24, kernel_size=3, num_repeat=2, expand_ratio=6, strides=(2, 2), se_ratio=0.25, id_skip=True, fused_conv=False, conv_type='depthwise'), BlockConfig(input_filters=24, output_filters=40, kernel_size=5, num_repeat=2, expand_ratio=6, strides=(2, 2), se_ratio=0.25, id_skip=True, fused_conv=False, conv_type='depthwise'), BlockConfig(input_filters=40, output_filters=80, kernel_size=3, num_repeat=3, expand_ratio=6, strides=(2, 2), se_ratio=0.25, id_skip=True, fused_conv=False, conv_type='depthwise'), BlockConfig(input_filters=80, output_filters=112, kernel_size=5, num_repeat=3, expand_ratio=6, strides=(1, 1), se_ratio=0.25, id_skip=True, fused_conv=False, conv_type='depthwise'), BlockConfig(input_filters=112, output_filters=192, kernel_size=5, num_repeat=4, expand_ratio=6, strides=(2, 2), se_ratio=0.25, id_skip=True, fused_conv=False, conv_type='depthwise'), BlockConfig(input_filters=192, output_filters=320, kernel_size=3, num_repeat=1, expand_ratio=6, strides=(1, 1), se_ratio=0.25, id_skip=True, fused_conv=False, conv_type='depthwise')), stem_base_filters=32, top_base_filters=1280, activation='simple_swish', batch_norm='default', bn_momentum=0.99, bn_epsilon=0.001, weight_decay=5e-06, drop_connect_rate=0.2, depth_divisor=8, min_depth=None, use_se=True, input_channels=3, num_classes=1000, model_name='efficientnet', rescale_input=False, data_format='channels_last', dtype='float32')\n",
            "I0826 16:28:09.299259 139593473036288 ssd_efficientnet_bifpn_feature_extractor.py:150] EfficientDet EfficientNet backbone version: efficientnet-b7\n",
            "I0826 16:28:09.299422 139593473036288 ssd_efficientnet_bifpn_feature_extractor.py:152] EfficientDet BiFPN num filters: 384\n",
            "I0826 16:28:09.299507 139593473036288 ssd_efficientnet_bifpn_feature_extractor.py:153] EfficientDet BiFPN num iterations: 8\n",
            "I0826 16:28:09.301736 139593473036288 efficientnet_model.py:143] round_filter input=32 output=64\n",
            "I0826 16:28:09.324211 139593473036288 efficientnet_model.py:143] round_filter input=32 output=64\n",
            "I0826 16:28:09.324335 139593473036288 efficientnet_model.py:143] round_filter input=16 output=32\n",
            "I0826 16:28:09.631012 139593473036288 efficientnet_model.py:143] round_filter input=16 output=32\n",
            "I0826 16:28:09.631183 139593473036288 efficientnet_model.py:143] round_filter input=24 output=48\n",
            "I0826 16:28:10.451483 139593473036288 efficientnet_model.py:143] round_filter input=24 output=48\n",
            "I0826 16:28:10.451676 139593473036288 efficientnet_model.py:143] round_filter input=40 output=80\n",
            "I0826 16:28:11.340787 139593473036288 efficientnet_model.py:143] round_filter input=40 output=80\n",
            "I0826 16:28:11.340975 139593473036288 efficientnet_model.py:143] round_filter input=80 output=160\n",
            "I0826 16:28:12.623899 139593473036288 efficientnet_model.py:143] round_filter input=80 output=160\n",
            "I0826 16:28:12.624102 139593473036288 efficientnet_model.py:143] round_filter input=112 output=224\n",
            "I0826 16:28:13.873352 139593473036288 efficientnet_model.py:143] round_filter input=112 output=224\n",
            "I0826 16:28:13.873542 139593473036288 efficientnet_model.py:143] round_filter input=192 output=384\n",
            "I0826 16:28:15.609310 139593473036288 efficientnet_model.py:143] round_filter input=192 output=384\n",
            "I0826 16:28:15.609503 139593473036288 efficientnet_model.py:143] round_filter input=320 output=640\n",
            "I0826 16:28:16.162925 139593473036288 efficientnet_model.py:143] round_filter input=1280 output=2560\n",
            "I0826 16:28:16.220361 139593473036288 efficientnet_model.py:453] Building model efficientnet with params ModelConfig(width_coefficient=2.0, depth_coefficient=3.1, resolution=600, dropout_rate=0.5, blocks=(BlockConfig(input_filters=32, output_filters=16, kernel_size=3, num_repeat=1, expand_ratio=1, strides=(1, 1), se_ratio=0.25, id_skip=True, fused_conv=False, conv_type='depthwise'), BlockConfig(input_filters=16, output_filters=24, kernel_size=3, num_repeat=2, expand_ratio=6, strides=(2, 2), se_ratio=0.25, id_skip=True, fused_conv=False, conv_type='depthwise'), BlockConfig(input_filters=24, output_filters=40, kernel_size=5, num_repeat=2, expand_ratio=6, strides=(2, 2), se_ratio=0.25, id_skip=True, fused_conv=False, conv_type='depthwise'), BlockConfig(input_filters=40, output_filters=80, kernel_size=3, num_repeat=3, expand_ratio=6, strides=(2, 2), se_ratio=0.25, id_skip=True, fused_conv=False, conv_type='depthwise'), BlockConfig(input_filters=80, output_filters=112, kernel_size=5, num_repeat=3, expand_ratio=6, strides=(1, 1), se_ratio=0.25, id_skip=True, fused_conv=False, conv_type='depthwise'), BlockConfig(input_filters=112, output_filters=192, kernel_size=5, num_repeat=4, expand_ratio=6, strides=(2, 2), se_ratio=0.25, id_skip=True, fused_conv=False, conv_type='depthwise'), BlockConfig(input_filters=192, output_filters=320, kernel_size=3, num_repeat=1, expand_ratio=6, strides=(1, 1), se_ratio=0.25, id_skip=True, fused_conv=False, conv_type='depthwise')), stem_base_filters=32, top_base_filters=1280, activation='simple_swish', batch_norm='default', bn_momentum=0.99, bn_epsilon=0.001, weight_decay=5e-06, drop_connect_rate=0.2, depth_divisor=8, min_depth=None, use_se=True, input_channels=3, num_classes=1000, model_name='efficientnet', rescale_input=False, data_format='channels_last', dtype='float32')\n",
            "INFO:tensorflow:time(__main__.ModelBuilderTF2Test.test_create_ssd_models_from_config): 34.09s\n",
            "I0826 16:28:16.432066 139593473036288 test_util.py:2462] time(__main__.ModelBuilderTF2Test.test_create_ssd_models_from_config): 34.09s\n",
            "[       OK ] ModelBuilderTF2Test.test_create_ssd_models_from_config\n",
            "[ RUN      ] ModelBuilderTF2Test.test_invalid_faster_rcnn_batchnorm_update\n",
            "INFO:tensorflow:time(__main__.ModelBuilderTF2Test.test_invalid_faster_rcnn_batchnorm_update): 0.0s\n",
            "I0826 16:28:16.470631 139593473036288 test_util.py:2462] time(__main__.ModelBuilderTF2Test.test_invalid_faster_rcnn_batchnorm_update): 0.0s\n",
            "[       OK ] ModelBuilderTF2Test.test_invalid_faster_rcnn_batchnorm_update\n",
            "[ RUN      ] ModelBuilderTF2Test.test_invalid_first_stage_nms_iou_threshold\n",
            "INFO:tensorflow:time(__main__.ModelBuilderTF2Test.test_invalid_first_stage_nms_iou_threshold): 0.0s\n",
            "I0826 16:28:16.473154 139593473036288 test_util.py:2462] time(__main__.ModelBuilderTF2Test.test_invalid_first_stage_nms_iou_threshold): 0.0s\n",
            "[       OK ] ModelBuilderTF2Test.test_invalid_first_stage_nms_iou_threshold\n",
            "[ RUN      ] ModelBuilderTF2Test.test_invalid_model_config_proto\n",
            "INFO:tensorflow:time(__main__.ModelBuilderTF2Test.test_invalid_model_config_proto): 0.0s\n",
            "I0826 16:28:16.473772 139593473036288 test_util.py:2462] time(__main__.ModelBuilderTF2Test.test_invalid_model_config_proto): 0.0s\n",
            "[       OK ] ModelBuilderTF2Test.test_invalid_model_config_proto\n",
            "[ RUN      ] ModelBuilderTF2Test.test_invalid_second_stage_batch_size\n",
            "INFO:tensorflow:time(__main__.ModelBuilderTF2Test.test_invalid_second_stage_batch_size): 0.0s\n",
            "I0826 16:28:16.475841 139593473036288 test_util.py:2462] time(__main__.ModelBuilderTF2Test.test_invalid_second_stage_batch_size): 0.0s\n",
            "[       OK ] ModelBuilderTF2Test.test_invalid_second_stage_batch_size\n",
            "[ RUN      ] ModelBuilderTF2Test.test_session\n",
            "[  SKIPPED ] ModelBuilderTF2Test.test_session\n",
            "[ RUN      ] ModelBuilderTF2Test.test_unknown_faster_rcnn_feature_extractor\n",
            "INFO:tensorflow:time(__main__.ModelBuilderTF2Test.test_unknown_faster_rcnn_feature_extractor): 0.0s\n",
            "I0826 16:28:16.477671 139593473036288 test_util.py:2462] time(__main__.ModelBuilderTF2Test.test_unknown_faster_rcnn_feature_extractor): 0.0s\n",
            "[       OK ] ModelBuilderTF2Test.test_unknown_faster_rcnn_feature_extractor\n",
            "[ RUN      ] ModelBuilderTF2Test.test_unknown_meta_architecture\n",
            "INFO:tensorflow:time(__main__.ModelBuilderTF2Test.test_unknown_meta_architecture): 0.0s\n",
            "I0826 16:28:16.478197 139593473036288 test_util.py:2462] time(__main__.ModelBuilderTF2Test.test_unknown_meta_architecture): 0.0s\n",
            "[       OK ] ModelBuilderTF2Test.test_unknown_meta_architecture\n",
            "[ RUN      ] ModelBuilderTF2Test.test_unknown_ssd_feature_extractor\n",
            "INFO:tensorflow:time(__main__.ModelBuilderTF2Test.test_unknown_ssd_feature_extractor): 0.0s\n",
            "I0826 16:28:16.479565 139593473036288 test_util.py:2462] time(__main__.ModelBuilderTF2Test.test_unknown_ssd_feature_extractor): 0.0s\n",
            "[       OK ] ModelBuilderTF2Test.test_unknown_ssd_feature_extractor\n",
            "----------------------------------------------------------------------\n",
            "Ran 24 tests in 40.247s\n",
            "\n",
            "OK (skipped=1)\n"
          ]
        }
      ],
      "source": [
        "VERIFICATION_SCRIPT = os.path.join(paths['APIMODEL_PATH'], 'research', 'object_detection', 'builders', 'model_builder_tf2_test.py')\n",
        "# Verify Installation\n",
        "!python {VERIFICATION_SCRIPT}"
      ]
    },
    {
      "cell_type": "code",
      "execution_count": null,
      "metadata": {
        "id": "eGEUQdC_8DUq",
        "colab": {
          "base_uri": "https://localhost:8080/"
        },
        "outputId": "ce5fe8d5-f2dc-414a-c384-3533c17f24e4"
      },
      "outputs": [
        {
          "output_type": "stream",
          "name": "stdout",
          "text": [
            "Requirement already satisfied: Pillow in /usr/local/lib/python3.10/dist-packages (9.4.0)\n"
          ]
        }
      ],
      "source": [
        "!pip install Pillow"
      ]
    },
    {
      "cell_type": "code",
      "execution_count": null,
      "metadata": {
        "id": "7Z39GWD48DUr",
        "colab": {
          "base_uri": "https://localhost:8080/"
        },
        "outputId": "fd2aa6e0-2134-4bd1-8d63-ad191b9c95e8"
      },
      "outputs": [
        {
          "output_type": "stream",
          "name": "stdout",
          "text": [
            "Requirement already satisfied: pyyaml in /usr/local/lib/python3.10/dist-packages (5.3.1)\n"
          ]
        }
      ],
      "source": [
        "!pip install pyyaml"
      ]
    },
    {
      "cell_type": "code",
      "execution_count": null,
      "metadata": {
        "id": "HeVRI-mm8DUr"
      },
      "outputs": [],
      "source": [
        "import object_detection"
      ]
    },
    {
      "cell_type": "code",
      "execution_count": null,
      "metadata": {
        "id": "csofht2npfDE",
        "colab": {
          "base_uri": "https://localhost:8080/"
        },
        "outputId": "e87ed791-fb8e-43e7-f3d1-bc0757ed5231"
      },
      "outputs": [
        {
          "output_type": "stream",
          "name": "stdout",
          "text": [
            "--2023-08-26 16:28:32--  http://download.tensorflow.org/models/object_detection/tf2/20200711/ssd_mobilenet_v2_fpnlite_320x320_coco17_tpu-8.tar.gz\n",
            "Resolving download.tensorflow.org (download.tensorflow.org)... 173.194.202.128, 2607:f8b0:400e:c00::80\n",
            "Connecting to download.tensorflow.org (download.tensorflow.org)|173.194.202.128|:80... connected.\n",
            "HTTP request sent, awaiting response... 200 OK\n",
            "Length: 20515344 (20M) [application/x-tar]\n",
            "Saving to: ‘ssd_mobilenet_v2_fpnlite_320x320_coco17_tpu-8.tar.gz’\n",
            "\n",
            "ssd_mobilenet_v2_fp 100%[===================>]  19.56M  96.7MB/s    in 0.2s    \n",
            "\n",
            "2023-08-26 16:28:32 (96.7 MB/s) - ‘ssd_mobilenet_v2_fpnlite_320x320_coco17_tpu-8.tar.gz’ saved [20515344/20515344]\n",
            "\n",
            "ssd_mobilenet_v2_fpnlite_320x320_coco17_tpu-8/\n",
            "ssd_mobilenet_v2_fpnlite_320x320_coco17_tpu-8/checkpoint/\n",
            "ssd_mobilenet_v2_fpnlite_320x320_coco17_tpu-8/checkpoint/ckpt-0.data-00000-of-00001\n",
            "ssd_mobilenet_v2_fpnlite_320x320_coco17_tpu-8/checkpoint/checkpoint\n",
            "ssd_mobilenet_v2_fpnlite_320x320_coco17_tpu-8/checkpoint/ckpt-0.index\n",
            "ssd_mobilenet_v2_fpnlite_320x320_coco17_tpu-8/pipeline.config\n",
            "ssd_mobilenet_v2_fpnlite_320x320_coco17_tpu-8/saved_model/\n",
            "ssd_mobilenet_v2_fpnlite_320x320_coco17_tpu-8/saved_model/saved_model.pb\n",
            "ssd_mobilenet_v2_fpnlite_320x320_coco17_tpu-8/saved_model/variables/\n",
            "ssd_mobilenet_v2_fpnlite_320x320_coco17_tpu-8/saved_model/variables/variables.data-00000-of-00001\n",
            "ssd_mobilenet_v2_fpnlite_320x320_coco17_tpu-8/saved_model/variables/variables.index\n"
          ]
        }
      ],
      "source": [
        "if os.name =='posix':\n",
        "    !wget {PRETRAINED_MODEL_URL}\n",
        "    !mv {PRETRAINED_MODEL_NAME+'.tar.gz'} {paths['PRETRAINED_MODEL_PATH']}\n",
        "    !cd {paths['PRETRAINED_MODEL_PATH']} && tar -zxvf {PRETRAINED_MODEL_NAME+'.tar.gz'}\n",
        "if os.name == 'nt':\n",
        "    wget.download(PRETRAINED_MODEL_URL)\n",
        "    !move {PRETRAINED_MODEL_NAME+'.tar.gz'} {paths['PRETRAINED_MODEL_PATH']}\n",
        "    !cd {paths['PRETRAINED_MODEL_PATH']} && tar -zxvf {PRETRAINED_MODEL_NAME+'.tar.gz'}"
      ]
    },
    {
      "cell_type": "markdown",
      "metadata": {
        "id": "M5KJTnkfpfDC"
      },
      "source": [
        "# 2. Create Label Map"
      ]
    },
    {
      "cell_type": "code",
      "execution_count": null,
      "metadata": {
        "id": "p1BVDWo7pfDC"
      },
      "outputs": [],
      "source": [
        "labels = [{'name':'licence', 'id':1}]\n",
        "\n",
        "with open(files['LABELMAP'], 'w') as f:\n",
        "    for label in labels:\n",
        "        f.write('item { \\n')\n",
        "        f.write('\\tname:\\'{}\\'\\n'.format(label['name']))\n",
        "        f.write('\\tid:{}\\n'.format(label['id']))\n",
        "        f.write('}\\n')"
      ]
    },
    {
      "cell_type": "markdown",
      "metadata": {
        "id": "C88zyVELpfDC"
      },
      "source": [
        "# 3. Create TF records"
      ]
    },
    {
      "cell_type": "code",
      "execution_count": null,
      "metadata": {
        "id": "kvf5WccwrFGq"
      },
      "outputs": [],
      "source": [
        "# OPTIONAL IF RUNNING ON COLAB\n",
        "ARCHIVE_FILES = os.path.join(paths['IMAGE_PATH'], 'archive.tar.gz')\n",
        "if os.path.exists(ARCHIVE_FILES):\n",
        "  !tar -zxvf {ARCHIVE_FILES}"
      ]
    },
    {
      "cell_type": "code",
      "execution_count": null,
      "metadata": {
        "id": "KWpb_BVUpfDD",
        "colab": {
          "base_uri": "https://localhost:8080/"
        },
        "outputId": "43fc9960-7205-40f0-c1a5-04d82d4b5e7d"
      },
      "outputs": [
        {
          "output_type": "stream",
          "name": "stdout",
          "text": [
            "Cloning into 'Tensorflow/scripts'...\n",
            "remote: Enumerating objects: 3, done.\u001b[K\n",
            "remote: Counting objects: 100% (3/3), done.\u001b[K\n",
            "remote: Compressing objects: 100% (2/2), done.\u001b[K\n",
            "remote: Total 3 (delta 0), reused 1 (delta 0), pack-reused 0\u001b[K\n",
            "Receiving objects: 100% (3/3), done.\n"
          ]
        }
      ],
      "source": [
        "if not os.path.exists(files['TF_RECORD_SCRIPT']):\n",
        "    !git clone https://github.com/nicknochnack/GenerateTFRecord {paths['SCRIPTS_PATH']}"
      ]
    },
    {
      "cell_type": "code",
      "execution_count": null,
      "metadata": {
        "id": "laPmFHbE8DUs",
        "colab": {
          "base_uri": "https://localhost:8080/"
        },
        "outputId": "118f5ce0-9d69-408f-bafe-c0ef3620338f"
      },
      "outputs": [
        {
          "output_type": "stream",
          "name": "stdout",
          "text": [
            "Requirement already satisfied: pytz in /usr/local/lib/python3.10/dist-packages (2023.3)\n"
          ]
        }
      ],
      "source": [
        "!pip install pytz"
      ]
    },
    {
      "cell_type": "code",
      "execution_count": null,
      "metadata": {
        "id": "UPFToGZqpfDD",
        "colab": {
          "base_uri": "https://localhost:8080/"
        },
        "outputId": "a1999645-58f9-48da-96f4-2a7597faeb46"
      },
      "outputs": [
        {
          "output_type": "stream",
          "name": "stdout",
          "text": [
            "Successfully created the TFRecord file: Tensorflow/workspace/annotations/train.record\n",
            "Successfully created the TFRecord file: Tensorflow/workspace/annotations/test.record\n"
          ]
        }
      ],
      "source": [
        "!python {files['TF_RECORD_SCRIPT']} -x {os.path.join(paths['IMAGE_PATH'], 'train')} -l {files['LABELMAP']} -o {os.path.join(paths['ANNOTATION_PATH'], 'train.record')}\n",
        "!python {files['TF_RECORD_SCRIPT']} -x {os.path.join(paths['IMAGE_PATH'], 'test')} -l {files['LABELMAP']} -o {os.path.join(paths['ANNOTATION_PATH'], 'test.record')}"
      ]
    },
    {
      "cell_type": "markdown",
      "metadata": {
        "id": "qT4QU7pLpfDE"
      },
      "source": [
        "# 4. Copy Model Config to Training Folder"
      ]
    },
    {
      "cell_type": "code",
      "execution_count": null,
      "metadata": {
        "id": "cOjuTFbwpfDF"
      },
      "outputs": [],
      "source": [
        "if os.name =='posix':\n",
        "    !cp {os.path.join(paths['PRETRAINED_MODEL_PATH'], PRETRAINED_MODEL_NAME, 'pipeline.config')} {os.path.join(paths['CHECKPOINT_PATH'])}\n",
        "if os.name == 'nt':\n",
        "    !copy {os.path.join(paths['PRETRAINED_MODEL_PATH'], PRETRAINED_MODEL_NAME, 'pipeline.config')} {os.path.join(paths['CHECKPOINT_PATH'])}"
      ]
    },
    {
      "cell_type": "markdown",
      "metadata": {
        "id": "Ga8gpNslpfDF"
      },
      "source": [
        "# 5. Update Config For Transfer Learning"
      ]
    },
    {
      "cell_type": "code",
      "execution_count": null,
      "metadata": {
        "id": "Z9hRrO_ppfDF"
      },
      "outputs": [],
      "source": [
        "import tensorflow as tf\n",
        "from object_detection.utils import config_util\n",
        "from object_detection.protos import pipeline_pb2\n",
        "from google.protobuf import text_format"
      ]
    },
    {
      "cell_type": "code",
      "execution_count": null,
      "metadata": {
        "id": "c2A0mn4ipfDF"
      },
      "outputs": [],
      "source": [
        "config = config_util.get_configs_from_pipeline_file(files['PIPELINE_CONFIG'])"
      ]
    },
    {
      "cell_type": "code",
      "execution_count": null,
      "metadata": {
        "id": "uQA13-afpfDF",
        "colab": {
          "base_uri": "https://localhost:8080/"
        },
        "outputId": "9c7b7cf4-73c5-443f-efc3-0e0f53edf45a"
      },
      "outputs": [
        {
          "output_type": "execute_result",
          "data": {
            "text/plain": [
              "{'model': ssd {\n",
              "   num_classes: 90\n",
              "   image_resizer {\n",
              "     fixed_shape_resizer {\n",
              "       height: 320\n",
              "       width: 320\n",
              "     }\n",
              "   }\n",
              "   feature_extractor {\n",
              "     type: \"ssd_mobilenet_v2_fpn_keras\"\n",
              "     depth_multiplier: 1.0\n",
              "     min_depth: 16\n",
              "     conv_hyperparams {\n",
              "       regularizer {\n",
              "         l2_regularizer {\n",
              "           weight: 3.9999998989515007e-05\n",
              "         }\n",
              "       }\n",
              "       initializer {\n",
              "         random_normal_initializer {\n",
              "           mean: 0.0\n",
              "           stddev: 0.009999999776482582\n",
              "         }\n",
              "       }\n",
              "       activation: RELU_6\n",
              "       batch_norm {\n",
              "         decay: 0.996999979019165\n",
              "         scale: true\n",
              "         epsilon: 0.0010000000474974513\n",
              "       }\n",
              "     }\n",
              "     use_depthwise: true\n",
              "     override_base_feature_extractor_hyperparams: true\n",
              "     fpn {\n",
              "       min_level: 3\n",
              "       max_level: 7\n",
              "       additional_layer_depth: 128\n",
              "     }\n",
              "   }\n",
              "   box_coder {\n",
              "     faster_rcnn_box_coder {\n",
              "       y_scale: 10.0\n",
              "       x_scale: 10.0\n",
              "       height_scale: 5.0\n",
              "       width_scale: 5.0\n",
              "     }\n",
              "   }\n",
              "   matcher {\n",
              "     argmax_matcher {\n",
              "       matched_threshold: 0.5\n",
              "       unmatched_threshold: 0.5\n",
              "       ignore_thresholds: false\n",
              "       negatives_lower_than_unmatched: true\n",
              "       force_match_for_each_row: true\n",
              "       use_matmul_gather: true\n",
              "     }\n",
              "   }\n",
              "   similarity_calculator {\n",
              "     iou_similarity {\n",
              "     }\n",
              "   }\n",
              "   box_predictor {\n",
              "     weight_shared_convolutional_box_predictor {\n",
              "       conv_hyperparams {\n",
              "         regularizer {\n",
              "           l2_regularizer {\n",
              "             weight: 3.9999998989515007e-05\n",
              "           }\n",
              "         }\n",
              "         initializer {\n",
              "           random_normal_initializer {\n",
              "             mean: 0.0\n",
              "             stddev: 0.009999999776482582\n",
              "           }\n",
              "         }\n",
              "         activation: RELU_6\n",
              "         batch_norm {\n",
              "           decay: 0.996999979019165\n",
              "           scale: true\n",
              "           epsilon: 0.0010000000474974513\n",
              "         }\n",
              "       }\n",
              "       depth: 128\n",
              "       num_layers_before_predictor: 4\n",
              "       kernel_size: 3\n",
              "       class_prediction_bias_init: -4.599999904632568\n",
              "       share_prediction_tower: true\n",
              "       use_depthwise: true\n",
              "     }\n",
              "   }\n",
              "   anchor_generator {\n",
              "     multiscale_anchor_generator {\n",
              "       min_level: 3\n",
              "       max_level: 7\n",
              "       anchor_scale: 4.0\n",
              "       aspect_ratios: 1.0\n",
              "       aspect_ratios: 2.0\n",
              "       aspect_ratios: 0.5\n",
              "       scales_per_octave: 2\n",
              "     }\n",
              "   }\n",
              "   post_processing {\n",
              "     batch_non_max_suppression {\n",
              "       score_threshold: 9.99999993922529e-09\n",
              "       iou_threshold: 0.6000000238418579\n",
              "       max_detections_per_class: 100\n",
              "       max_total_detections: 100\n",
              "       use_static_shapes: false\n",
              "     }\n",
              "     score_converter: SIGMOID\n",
              "   }\n",
              "   normalize_loss_by_num_matches: true\n",
              "   loss {\n",
              "     localization_loss {\n",
              "       weighted_smooth_l1 {\n",
              "       }\n",
              "     }\n",
              "     classification_loss {\n",
              "       weighted_sigmoid_focal {\n",
              "         gamma: 2.0\n",
              "         alpha: 0.25\n",
              "       }\n",
              "     }\n",
              "     classification_weight: 1.0\n",
              "     localization_weight: 1.0\n",
              "   }\n",
              "   encode_background_as_zeros: true\n",
              "   normalize_loc_loss_by_codesize: true\n",
              "   inplace_batchnorm_update: true\n",
              "   freeze_batchnorm: false\n",
              " },\n",
              " 'train_config': batch_size: 128\n",
              " data_augmentation_options {\n",
              "   random_horizontal_flip {\n",
              "   }\n",
              " }\n",
              " data_augmentation_options {\n",
              "   random_crop_image {\n",
              "     min_object_covered: 0.0\n",
              "     min_aspect_ratio: 0.75\n",
              "     max_aspect_ratio: 3.0\n",
              "     min_area: 0.75\n",
              "     max_area: 1.0\n",
              "     overlap_thresh: 0.0\n",
              "   }\n",
              " }\n",
              " sync_replicas: true\n",
              " optimizer {\n",
              "   momentum_optimizer {\n",
              "     learning_rate {\n",
              "       cosine_decay_learning_rate {\n",
              "         learning_rate_base: 0.07999999821186066\n",
              "         total_steps: 50000\n",
              "         warmup_learning_rate: 0.026666000485420227\n",
              "         warmup_steps: 1000\n",
              "       }\n",
              "     }\n",
              "     momentum_optimizer_value: 0.8999999761581421\n",
              "   }\n",
              "   use_moving_average: false\n",
              " }\n",
              " fine_tune_checkpoint: \"PATH_TO_BE_CONFIGURED\"\n",
              " num_steps: 50000\n",
              " startup_delay_steps: 0.0\n",
              " replicas_to_aggregate: 8\n",
              " max_number_of_boxes: 100\n",
              " unpad_groundtruth_tensors: false\n",
              " fine_tune_checkpoint_type: \"classification\"\n",
              " fine_tune_checkpoint_version: V2,\n",
              " 'train_input_config': label_map_path: \"PATH_TO_BE_CONFIGURED\"\n",
              " tf_record_input_reader {\n",
              "   input_path: \"PATH_TO_BE_CONFIGURED\"\n",
              " },\n",
              " 'eval_config': metrics_set: \"coco_detection_metrics\"\n",
              " use_moving_averages: false,\n",
              " 'eval_input_configs': [label_map_path: \"PATH_TO_BE_CONFIGURED\"\n",
              " shuffle: false\n",
              " num_epochs: 1\n",
              " tf_record_input_reader {\n",
              "   input_path: \"PATH_TO_BE_CONFIGURED\"\n",
              " }\n",
              " ],\n",
              " 'eval_input_config': label_map_path: \"PATH_TO_BE_CONFIGURED\"\n",
              " shuffle: false\n",
              " num_epochs: 1\n",
              " tf_record_input_reader {\n",
              "   input_path: \"PATH_TO_BE_CONFIGURED\"\n",
              " }}"
            ]
          },
          "metadata": {},
          "execution_count": 19
        }
      ],
      "source": [
        "config"
      ]
    },
    {
      "cell_type": "code",
      "execution_count": null,
      "metadata": {
        "id": "9vK5lotDpfDF"
      },
      "outputs": [],
      "source": [
        "pipeline_config = pipeline_pb2.TrainEvalPipelineConfig()\n",
        "with tf.io.gfile.GFile(files['PIPELINE_CONFIG'], \"r\") as f:\n",
        "    proto_str = f.read()\n",
        "    text_format.Merge(proto_str, pipeline_config)"
      ]
    },
    {
      "cell_type": "code",
      "execution_count": null,
      "metadata": {
        "id": "rP43Ph0JpfDG"
      },
      "outputs": [],
      "source": [
        "pipeline_config.model.ssd.num_classes = len(labels)\n",
        "pipeline_config.train_config.batch_size = 4\n",
        "pipeline_config.train_config.fine_tune_checkpoint = os.path.join(paths['PRETRAINED_MODEL_PATH'], PRETRAINED_MODEL_NAME, 'checkpoint', 'ckpt-0')\n",
        "pipeline_config.train_config.fine_tune_checkpoint_type = \"detection\"\n",
        "pipeline_config.train_input_reader.label_map_path= files['LABELMAP']\n",
        "pipeline_config.train_input_reader.tf_record_input_reader.input_path[:] = [os.path.join(paths['ANNOTATION_PATH'], 'train.record')]\n",
        "pipeline_config.eval_input_reader[0].label_map_path = files['LABELMAP']\n",
        "pipeline_config.eval_input_reader[0].tf_record_input_reader.input_path[:] = [os.path.join(paths['ANNOTATION_PATH'], 'test.record')]"
      ]
    },
    {
      "cell_type": "code",
      "execution_count": null,
      "metadata": {
        "id": "oJvfgwWqpfDG"
      },
      "outputs": [],
      "source": [
        "config_text = text_format.MessageToString(pipeline_config)\n",
        "with tf.io.gfile.GFile(files['PIPELINE_CONFIG'], \"wb\") as f:\n",
        "    f.write(config_text)"
      ]
    },
    {
      "cell_type": "markdown",
      "metadata": {
        "id": "Zr3ON7xMpfDG"
      },
      "source": [
        "# 6. Train the model"
      ]
    },
    {
      "cell_type": "code",
      "execution_count": null,
      "metadata": {
        "id": "B-Y2UQmQpfDG"
      },
      "outputs": [],
      "source": [
        "TRAINING_SCRIPT = os.path.join(paths['APIMODEL_PATH'], 'research', 'object_detection', 'model_main_tf2.py')"
      ]
    },
    {
      "cell_type": "code",
      "execution_count": null,
      "metadata": {
        "id": "jMP2XDfQpfDH"
      },
      "outputs": [],
      "source": [
        "command = \"python {} --model_dir={} --pipeline_config_path={} --num_train_steps=10000\".format(TRAINING_SCRIPT, paths['CHECKPOINT_PATH'],files['PIPELINE_CONFIG'])"
      ]
    },
    {
      "cell_type": "code",
      "execution_count": null,
      "metadata": {
        "id": "A4OXXi-ApfDH",
        "colab": {
          "base_uri": "https://localhost:8080/"
        },
        "outputId": "e8bc3a2a-b633-4dd5-8742-e7cd83d9e4c4"
      },
      "outputs": [
        {
          "output_type": "stream",
          "name": "stdout",
          "text": [
            "python Tensorflow/models/research/object_detection/model_main_tf2.py --model_dir=Tensorflow/workspace/models/my_ssd_mobnet --pipeline_config_path=Tensorflow/workspace/models/my_ssd_mobnet/pipeline.config --num_train_steps=10000\n"
          ]
        }
      ],
      "source": [
        "print(command)"
      ]
    },
    {
      "cell_type": "code",
      "source": [
        "!python Tensorflow/models/research/object_detection/model_main_tf2.py --model_dir=Tensorflow/workspace/models/my_ssd_mobnet --pipeline_config_path=Tensorflow/workspace/models/my_ssd_mobnet/pipeline.config --num_train_steps=10000"
      ],
      "metadata": {
        "colab": {
          "base_uri": "https://localhost:8080/"
        },
        "id": "ZbCLl0s66Nte",
        "outputId": "40563235-ead4-4d55-9540-455aeb013215"
      },
      "execution_count": null,
      "outputs": [
        {
          "output_type": "stream",
          "name": "stdout",
          "text": [
            "2023-08-26 16:36:32.781376: W tensorflow/compiler/tf2tensorrt/utils/py_utils.cc:38] TF-TRT Warning: Could not find TensorRT\n",
            "2023-08-26 16:36:38.333692: W tensorflow/core/common_runtime/gpu/gpu_bfc_allocator.cc:47] Overriding orig_value setting because the TF_FORCE_GPU_ALLOW_GROWTH environment variable is set. Original config value was 0.\n",
            "INFO:tensorflow:Using MirroredStrategy with devices ('/job:localhost/replica:0/task:0/device:GPU:0',)\n",
            "I0826 16:36:38.334838 134228293607424 mirrored_strategy.py:419] Using MirroredStrategy with devices ('/job:localhost/replica:0/task:0/device:GPU:0',)\n",
            "INFO:tensorflow:Maybe overwriting train_steps: 10000\n",
            "I0826 16:36:38.360748 134228293607424 config_util.py:552] Maybe overwriting train_steps: 10000\n",
            "INFO:tensorflow:Maybe overwriting use_bfloat16: False\n",
            "I0826 16:36:38.360934 134228293607424 config_util.py:552] Maybe overwriting use_bfloat16: False\n",
            "WARNING:tensorflow:From /usr/local/lib/python3.10/dist-packages/object_detection/model_lib_v2.py:563: StrategyBase.experimental_distribute_datasets_from_function (from tensorflow.python.distribute.distribute_lib) is deprecated and will be removed in a future version.\n",
            "Instructions for updating:\n",
            "rename to distribute_datasets_from_function\n",
            "W0826 16:36:38.534120 134228293607424 deprecation.py:364] From /usr/local/lib/python3.10/dist-packages/object_detection/model_lib_v2.py:563: StrategyBase.experimental_distribute_datasets_from_function (from tensorflow.python.distribute.distribute_lib) is deprecated and will be removed in a future version.\n",
            "Instructions for updating:\n",
            "rename to distribute_datasets_from_function\n",
            "INFO:tensorflow:Reading unweighted datasets: ['Tensorflow/workspace/annotations/train.record']\n",
            "I0826 16:36:38.541141 134228293607424 dataset_builder.py:162] Reading unweighted datasets: ['Tensorflow/workspace/annotations/train.record']\n",
            "INFO:tensorflow:Reading record datasets for input file: ['Tensorflow/workspace/annotations/train.record']\n",
            "I0826 16:36:38.541333 134228293607424 dataset_builder.py:79] Reading record datasets for input file: ['Tensorflow/workspace/annotations/train.record']\n",
            "INFO:tensorflow:Number of filenames to read: 1\n",
            "I0826 16:36:38.541414 134228293607424 dataset_builder.py:80] Number of filenames to read: 1\n",
            "WARNING:tensorflow:num_readers has been reduced to 1 to match input file shards.\n",
            "W0826 16:36:38.541486 134228293607424 dataset_builder.py:86] num_readers has been reduced to 1 to match input file shards.\n",
            "WARNING:tensorflow:From /usr/local/lib/python3.10/dist-packages/object_detection/builders/dataset_builder.py:100: parallel_interleave (from tensorflow.python.data.experimental.ops.interleave_ops) is deprecated and will be removed in a future version.\n",
            "Instructions for updating:\n",
            "Use `tf.data.Dataset.interleave(map_func, cycle_length, block_length, num_parallel_calls=tf.data.AUTOTUNE)` instead. If sloppy execution is desired, use `tf.data.Options.deterministic`.\n",
            "W0826 16:36:38.548190 134228293607424 deprecation.py:364] From /usr/local/lib/python3.10/dist-packages/object_detection/builders/dataset_builder.py:100: parallel_interleave (from tensorflow.python.data.experimental.ops.interleave_ops) is deprecated and will be removed in a future version.\n",
            "Instructions for updating:\n",
            "Use `tf.data.Dataset.interleave(map_func, cycle_length, block_length, num_parallel_calls=tf.data.AUTOTUNE)` instead. If sloppy execution is desired, use `tf.data.Options.deterministic`.\n",
            "WARNING:tensorflow:From /usr/local/lib/python3.10/dist-packages/object_detection/builders/dataset_builder.py:235: DatasetV1.map_with_legacy_function (from tensorflow.python.data.ops.dataset_ops) is deprecated and will be removed in a future version.\n",
            "Instructions for updating:\n",
            "Use `tf.data.Dataset.map()\n",
            "W0826 16:36:38.566099 134228293607424 deprecation.py:364] From /usr/local/lib/python3.10/dist-packages/object_detection/builders/dataset_builder.py:235: DatasetV1.map_with_legacy_function (from tensorflow.python.data.ops.dataset_ops) is deprecated and will be removed in a future version.\n",
            "Instructions for updating:\n",
            "Use `tf.data.Dataset.map()\n",
            "WARNING:tensorflow:From /usr/local/lib/python3.10/dist-packages/tensorflow/python/util/dispatch.py:1176: sparse_to_dense (from tensorflow.python.ops.sparse_ops) is deprecated and will be removed in a future version.\n",
            "Instructions for updating:\n",
            "Create a `tf.sparse.SparseTensor` and use `tf.sparse.to_dense` instead.\n",
            "W0826 16:36:45.224146 134228293607424 deprecation.py:364] From /usr/local/lib/python3.10/dist-packages/tensorflow/python/util/dispatch.py:1176: sparse_to_dense (from tensorflow.python.ops.sparse_ops) is deprecated and will be removed in a future version.\n",
            "Instructions for updating:\n",
            "Create a `tf.sparse.SparseTensor` and use `tf.sparse.to_dense` instead.\n",
            "WARNING:tensorflow:From /usr/local/lib/python3.10/dist-packages/tensorflow/python/util/dispatch.py:1176: sample_distorted_bounding_box (from tensorflow.python.ops.image_ops_impl) is deprecated and will be removed in a future version.\n",
            "Instructions for updating:\n",
            "`seed2` arg is deprecated.Use sample_distorted_bounding_box_v2 instead.\n",
            "W0826 16:36:47.873565 134228293607424 deprecation.py:364] From /usr/local/lib/python3.10/dist-packages/tensorflow/python/util/dispatch.py:1176: sample_distorted_bounding_box (from tensorflow.python.ops.image_ops_impl) is deprecated and will be removed in a future version.\n",
            "Instructions for updating:\n",
            "`seed2` arg is deprecated.Use sample_distorted_bounding_box_v2 instead.\n",
            "WARNING:tensorflow:From /usr/local/lib/python3.10/dist-packages/tensorflow/python/util/dispatch.py:1176: to_float (from tensorflow.python.ops.math_ops) is deprecated and will be removed in a future version.\n",
            "Instructions for updating:\n",
            "Use `tf.cast` instead.\n",
            "W0826 16:36:50.341620 134228293607424 deprecation.py:364] From /usr/local/lib/python3.10/dist-packages/tensorflow/python/util/dispatch.py:1176: to_float (from tensorflow.python.ops.math_ops) is deprecated and will be removed in a future version.\n",
            "Instructions for updating:\n",
            "Use `tf.cast` instead.\n",
            "/usr/local/lib/python3.10/dist-packages/keras/src/backend.py:452: UserWarning: `tf.keras.backend.set_learning_phase` is deprecated and will be removed after 2020-10-11. To update it, simply pass a True/False value to the `training` argument of the `__call__` method of your layer or model.\n",
            "  warnings.warn(\n",
            "I0826 16:37:03.955814 134223496205888 api.py:460] feature_map_spatial_dims: [(40, 40), (20, 20), (10, 10), (5, 5), (3, 3)]\n",
            "I0826 16:37:11.620360 134223496205888 api.py:460] feature_map_spatial_dims: [(40, 40), (20, 20), (10, 10), (5, 5), (3, 3)]\n",
            "INFO:tensorflow:Reduce to /job:localhost/replica:0/task:0/device:CPU:0 then broadcast to ('/job:localhost/replica:0/task:0/device:CPU:0',).\n",
            "I0826 16:37:26.329181 134228293607424 cross_device_ops.py:617] Reduce to /job:localhost/replica:0/task:0/device:CPU:0 then broadcast to ('/job:localhost/replica:0/task:0/device:CPU:0',).\n",
            "INFO:tensorflow:Reduce to /job:localhost/replica:0/task:0/device:CPU:0 then broadcast to ('/job:localhost/replica:0/task:0/device:CPU:0',).\n",
            "I0826 16:37:26.332055 134228293607424 cross_device_ops.py:617] Reduce to /job:localhost/replica:0/task:0/device:CPU:0 then broadcast to ('/job:localhost/replica:0/task:0/device:CPU:0',).\n",
            "INFO:tensorflow:Reduce to /job:localhost/replica:0/task:0/device:CPU:0 then broadcast to ('/job:localhost/replica:0/task:0/device:CPU:0',).\n",
            "I0826 16:37:26.333141 134228293607424 cross_device_ops.py:617] Reduce to /job:localhost/replica:0/task:0/device:CPU:0 then broadcast to ('/job:localhost/replica:0/task:0/device:CPU:0',).\n",
            "INFO:tensorflow:Reduce to /job:localhost/replica:0/task:0/device:CPU:0 then broadcast to ('/job:localhost/replica:0/task:0/device:CPU:0',).\n",
            "I0826 16:37:26.334032 134228293607424 cross_device_ops.py:617] Reduce to /job:localhost/replica:0/task:0/device:CPU:0 then broadcast to ('/job:localhost/replica:0/task:0/device:CPU:0',).\n",
            "INFO:tensorflow:Reduce to /job:localhost/replica:0/task:0/device:CPU:0 then broadcast to ('/job:localhost/replica:0/task:0/device:CPU:0',).\n",
            "I0826 16:37:26.337601 134228293607424 cross_device_ops.py:617] Reduce to /job:localhost/replica:0/task:0/device:CPU:0 then broadcast to ('/job:localhost/replica:0/task:0/device:CPU:0',).\n",
            "INFO:tensorflow:Reduce to /job:localhost/replica:0/task:0/device:CPU:0 then broadcast to ('/job:localhost/replica:0/task:0/device:CPU:0',).\n",
            "I0826 16:37:26.338606 134228293607424 cross_device_ops.py:617] Reduce to /job:localhost/replica:0/task:0/device:CPU:0 then broadcast to ('/job:localhost/replica:0/task:0/device:CPU:0',).\n",
            "INFO:tensorflow:Reduce to /job:localhost/replica:0/task:0/device:CPU:0 then broadcast to ('/job:localhost/replica:0/task:0/device:CPU:0',).\n",
            "I0826 16:37:26.339610 134228293607424 cross_device_ops.py:617] Reduce to /job:localhost/replica:0/task:0/device:CPU:0 then broadcast to ('/job:localhost/replica:0/task:0/device:CPU:0',).\n",
            "INFO:tensorflow:Reduce to /job:localhost/replica:0/task:0/device:CPU:0 then broadcast to ('/job:localhost/replica:0/task:0/device:CPU:0',).\n",
            "I0826 16:37:26.340504 134228293607424 cross_device_ops.py:617] Reduce to /job:localhost/replica:0/task:0/device:CPU:0 then broadcast to ('/job:localhost/replica:0/task:0/device:CPU:0',).\n",
            "INFO:tensorflow:Reduce to /job:localhost/replica:0/task:0/device:CPU:0 then broadcast to ('/job:localhost/replica:0/task:0/device:CPU:0',).\n",
            "I0826 16:37:26.345108 134228293607424 cross_device_ops.py:617] Reduce to /job:localhost/replica:0/task:0/device:CPU:0 then broadcast to ('/job:localhost/replica:0/task:0/device:CPU:0',).\n",
            "INFO:tensorflow:Reduce to /job:localhost/replica:0/task:0/device:CPU:0 then broadcast to ('/job:localhost/replica:0/task:0/device:CPU:0',).\n",
            "I0826 16:37:26.346011 134228293607424 cross_device_ops.py:617] Reduce to /job:localhost/replica:0/task:0/device:CPU:0 then broadcast to ('/job:localhost/replica:0/task:0/device:CPU:0',).\n",
            "WARNING:tensorflow:From /usr/local/lib/python3.10/dist-packages/tensorflow/python/util/deprecation.py:648: calling map_fn_v2 (from tensorflow.python.ops.map_fn) with dtype is deprecated and will be removed in a future version.\n",
            "Instructions for updating:\n",
            "Use fn_output_signature instead\n",
            "W0826 16:37:27.792469 134223524521536 deprecation.py:569] From /usr/local/lib/python3.10/dist-packages/tensorflow/python/util/deprecation.py:648: calling map_fn_v2 (from tensorflow.python.ops.map_fn) with dtype is deprecated and will be removed in a future version.\n",
            "Instructions for updating:\n",
            "Use fn_output_signature instead\n",
            "I0826 16:37:28.858457 134223524521536 api.py:460] feature_map_spatial_dims: [(40, 40), (20, 20), (10, 10), (5, 5), (3, 3)]\n",
            "I0826 16:37:34.153555 134223524521536 api.py:460] feature_map_spatial_dims: [(40, 40), (20, 20), (10, 10), (5, 5), (3, 3)]\n",
            "I0826 16:37:40.470386 134223524521536 api.py:460] feature_map_spatial_dims: [(40, 40), (20, 20), (10, 10), (5, 5), (3, 3)]\n",
            "I0826 16:37:48.192054 134223524521536 api.py:460] feature_map_spatial_dims: [(40, 40), (20, 20), (10, 10), (5, 5), (3, 3)]\n",
            "INFO:tensorflow:Step 100 per-step time 0.457s\n",
            "I0826 16:38:12.962658 134228293607424 model_lib_v2.py:705] Step 100 per-step time 0.457s\n",
            "INFO:tensorflow:{'Loss/classification_loss': 0.3462031,\n",
            " 'Loss/localization_loss': 0.6314363,\n",
            " 'Loss/regularization_loss': 0.15430577,\n",
            " 'Loss/total_loss': 1.1319451,\n",
            " 'learning_rate': 0.0319994}\n",
            "I0826 16:38:12.963335 134228293607424 model_lib_v2.py:708] {'Loss/classification_loss': 0.3462031,\n",
            " 'Loss/localization_loss': 0.6314363,\n",
            " 'Loss/regularization_loss': 0.15430577,\n",
            " 'Loss/total_loss': 1.1319451,\n",
            " 'learning_rate': 0.0319994}\n",
            "INFO:tensorflow:Step 200 per-step time 0.069s\n",
            "I0826 16:38:19.814171 134228293607424 model_lib_v2.py:705] Step 200 per-step time 0.069s\n",
            "INFO:tensorflow:{'Loss/classification_loss': 0.246859,\n",
            " 'Loss/localization_loss': 0.2857848,\n",
            " 'Loss/regularization_loss': 0.15451062,\n",
            " 'Loss/total_loss': 0.6871544,\n",
            " 'learning_rate': 0.0373328}\n",
            "I0826 16:38:19.814465 134228293607424 model_lib_v2.py:708] {'Loss/classification_loss': 0.246859,\n",
            " 'Loss/localization_loss': 0.2857848,\n",
            " 'Loss/regularization_loss': 0.15451062,\n",
            " 'Loss/total_loss': 0.6871544,\n",
            " 'learning_rate': 0.0373328}\n",
            "INFO:tensorflow:Step 300 per-step time 0.070s\n",
            "I0826 16:38:26.892537 134228293607424 model_lib_v2.py:705] Step 300 per-step time 0.070s\n",
            "INFO:tensorflow:{'Loss/classification_loss': 0.33658203,\n",
            " 'Loss/localization_loss': 0.28156993,\n",
            " 'Loss/regularization_loss': 0.15478988,\n",
            " 'Loss/total_loss': 0.7729418,\n",
            " 'learning_rate': 0.0426662}\n",
            "I0826 16:38:26.892899 134228293607424 model_lib_v2.py:708] {'Loss/classification_loss': 0.33658203,\n",
            " 'Loss/localization_loss': 0.28156993,\n",
            " 'Loss/regularization_loss': 0.15478988,\n",
            " 'Loss/total_loss': 0.7729418,\n",
            " 'learning_rate': 0.0426662}\n",
            "INFO:tensorflow:Step 400 per-step time 0.097s\n",
            "I0826 16:38:36.493262 134228293607424 model_lib_v2.py:705] Step 400 per-step time 0.097s\n",
            "INFO:tensorflow:{'Loss/classification_loss': 0.3398543,\n",
            " 'Loss/localization_loss': 0.38565302,\n",
            " 'Loss/regularization_loss': 0.15495987,\n",
            " 'Loss/total_loss': 0.8804672,\n",
            " 'learning_rate': 0.047999598}\n",
            "I0826 16:38:36.493674 134228293607424 model_lib_v2.py:708] {'Loss/classification_loss': 0.3398543,\n",
            " 'Loss/localization_loss': 0.38565302,\n",
            " 'Loss/regularization_loss': 0.15495987,\n",
            " 'Loss/total_loss': 0.8804672,\n",
            " 'learning_rate': 0.047999598}\n",
            "INFO:tensorflow:Step 500 per-step time 0.097s\n",
            "I0826 16:38:46.201258 134228293607424 model_lib_v2.py:705] Step 500 per-step time 0.097s\n",
            "INFO:tensorflow:{'Loss/classification_loss': 0.38648605,\n",
            " 'Loss/localization_loss': 0.45744312,\n",
            " 'Loss/regularization_loss': 0.15500285,\n",
            " 'Loss/total_loss': 0.998932,\n",
            " 'learning_rate': 0.053333}\n",
            "I0826 16:38:46.201645 134228293607424 model_lib_v2.py:708] {'Loss/classification_loss': 0.38648605,\n",
            " 'Loss/localization_loss': 0.45744312,\n",
            " 'Loss/regularization_loss': 0.15500285,\n",
            " 'Loss/total_loss': 0.998932,\n",
            " 'learning_rate': 0.053333}\n",
            "INFO:tensorflow:Step 600 per-step time 0.103s\n",
            "I0826 16:38:56.493487 134228293607424 model_lib_v2.py:705] Step 600 per-step time 0.103s\n",
            "INFO:tensorflow:{'Loss/classification_loss': 0.27058858,\n",
            " 'Loss/localization_loss': 0.27309144,\n",
            " 'Loss/regularization_loss': 0.15515186,\n",
            " 'Loss/total_loss': 0.69883186,\n",
            " 'learning_rate': 0.0586664}\n",
            "I0826 16:38:56.493863 134228293607424 model_lib_v2.py:708] {'Loss/classification_loss': 0.27058858,\n",
            " 'Loss/localization_loss': 0.27309144,\n",
            " 'Loss/regularization_loss': 0.15515186,\n",
            " 'Loss/total_loss': 0.69883186,\n",
            " 'learning_rate': 0.0586664}\n",
            "INFO:tensorflow:Step 700 per-step time 0.101s\n",
            "I0826 16:39:06.575403 134228293607424 model_lib_v2.py:705] Step 700 per-step time 0.101s\n",
            "INFO:tensorflow:{'Loss/classification_loss': 0.37684903,\n",
            " 'Loss/localization_loss': 0.2566282,\n",
            " 'Loss/regularization_loss': 0.1556035,\n",
            " 'Loss/total_loss': 0.78908074,\n",
            " 'learning_rate': 0.0639998}\n",
            "I0826 16:39:06.576468 134228293607424 model_lib_v2.py:708] {'Loss/classification_loss': 0.37684903,\n",
            " 'Loss/localization_loss': 0.2566282,\n",
            " 'Loss/regularization_loss': 0.1556035,\n",
            " 'Loss/total_loss': 0.78908074,\n",
            " 'learning_rate': 0.0639998}\n",
            "INFO:tensorflow:Step 800 per-step time 0.066s\n",
            "I0826 16:39:13.148296 134228293607424 model_lib_v2.py:705] Step 800 per-step time 0.066s\n",
            "INFO:tensorflow:{'Loss/classification_loss': 0.1973037,\n",
            " 'Loss/localization_loss': 0.22078598,\n",
            " 'Loss/regularization_loss': 0.15591554,\n",
            " 'Loss/total_loss': 0.57400525,\n",
            " 'learning_rate': 0.069333196}\n",
            "I0826 16:39:13.148581 134228293607424 model_lib_v2.py:708] {'Loss/classification_loss': 0.1973037,\n",
            " 'Loss/localization_loss': 0.22078598,\n",
            " 'Loss/regularization_loss': 0.15591554,\n",
            " 'Loss/total_loss': 0.57400525,\n",
            " 'learning_rate': 0.069333196}\n",
            "INFO:tensorflow:Step 900 per-step time 0.079s\n",
            "I0826 16:39:21.049007 134228293607424 model_lib_v2.py:705] Step 900 per-step time 0.079s\n",
            "INFO:tensorflow:{'Loss/classification_loss': 0.22953182,\n",
            " 'Loss/localization_loss': 0.21833876,\n",
            " 'Loss/regularization_loss': 0.15591605,\n",
            " 'Loss/total_loss': 0.60378665,\n",
            " 'learning_rate': 0.074666604}\n",
            "I0826 16:39:21.057407 134228293607424 model_lib_v2.py:708] {'Loss/classification_loss': 0.22953182,\n",
            " 'Loss/localization_loss': 0.21833876,\n",
            " 'Loss/regularization_loss': 0.15591605,\n",
            " 'Loss/total_loss': 0.60378665,\n",
            " 'learning_rate': 0.074666604}\n",
            "INFO:tensorflow:Step 1000 per-step time 0.099s\n",
            "I0826 16:39:30.913154 134228293607424 model_lib_v2.py:705] Step 1000 per-step time 0.099s\n",
            "INFO:tensorflow:{'Loss/classification_loss': 0.39592916,\n",
            " 'Loss/localization_loss': 0.32749438,\n",
            " 'Loss/regularization_loss': 0.15608929,\n",
            " 'Loss/total_loss': 0.87951285,\n",
            " 'learning_rate': 0.08}\n",
            "I0826 16:39:30.913573 134228293607424 model_lib_v2.py:708] {'Loss/classification_loss': 0.39592916,\n",
            " 'Loss/localization_loss': 0.32749438,\n",
            " 'Loss/regularization_loss': 0.15608929,\n",
            " 'Loss/total_loss': 0.87951285,\n",
            " 'learning_rate': 0.08}\n",
            "INFO:tensorflow:Step 1100 per-step time 0.080s\n",
            "I0826 16:39:38.923292 134228293607424 model_lib_v2.py:705] Step 1100 per-step time 0.080s\n",
            "INFO:tensorflow:{'Loss/classification_loss': 0.23503812,\n",
            " 'Loss/localization_loss': 0.2783361,\n",
            " 'Loss/regularization_loss': 0.15610443,\n",
            " 'Loss/total_loss': 0.66947865,\n",
            " 'learning_rate': 0.07999918}\n",
            "I0826 16:39:38.923614 134228293607424 model_lib_v2.py:708] {'Loss/classification_loss': 0.23503812,\n",
            " 'Loss/localization_loss': 0.2783361,\n",
            " 'Loss/regularization_loss': 0.15610443,\n",
            " 'Loss/total_loss': 0.66947865,\n",
            " 'learning_rate': 0.07999918}\n",
            "INFO:tensorflow:Step 1200 per-step time 0.082s\n",
            "I0826 16:39:47.128954 134228293607424 model_lib_v2.py:705] Step 1200 per-step time 0.082s\n",
            "INFO:tensorflow:{'Loss/classification_loss': 0.20866445,\n",
            " 'Loss/localization_loss': 0.2792301,\n",
            " 'Loss/regularization_loss': 0.15616699,\n",
            " 'Loss/total_loss': 0.6440615,\n",
            " 'learning_rate': 0.079996705}\n",
            "I0826 16:39:47.129344 134228293607424 model_lib_v2.py:708] {'Loss/classification_loss': 0.20866445,\n",
            " 'Loss/localization_loss': 0.2792301,\n",
            " 'Loss/regularization_loss': 0.15616699,\n",
            " 'Loss/total_loss': 0.6440615,\n",
            " 'learning_rate': 0.079996705}\n",
            "INFO:tensorflow:Step 1300 per-step time 0.099s\n",
            "I0826 16:39:56.989590 134228293607424 model_lib_v2.py:705] Step 1300 per-step time 0.099s\n",
            "INFO:tensorflow:{'Loss/classification_loss': 0.21044086,\n",
            " 'Loss/localization_loss': 0.3619439,\n",
            " 'Loss/regularization_loss': 0.15589842,\n",
            " 'Loss/total_loss': 0.72828317,\n",
            " 'learning_rate': 0.0799926}\n",
            "I0826 16:39:56.989993 134228293607424 model_lib_v2.py:708] {'Loss/classification_loss': 0.21044086,\n",
            " 'Loss/localization_loss': 0.3619439,\n",
            " 'Loss/regularization_loss': 0.15589842,\n",
            " 'Loss/total_loss': 0.72828317,\n",
            " 'learning_rate': 0.0799926}\n",
            "INFO:tensorflow:Step 1400 per-step time 0.066s\n",
            "I0826 16:40:03.524870 134228293607424 model_lib_v2.py:705] Step 1400 per-step time 0.066s\n",
            "INFO:tensorflow:{'Loss/classification_loss': 0.16946559,\n",
            " 'Loss/localization_loss': 0.21109611,\n",
            " 'Loss/regularization_loss': 0.15571025,\n",
            " 'Loss/total_loss': 0.5362719,\n",
            " 'learning_rate': 0.07998685}\n",
            "I0826 16:40:03.525245 134228293607424 model_lib_v2.py:708] {'Loss/classification_loss': 0.16946559,\n",
            " 'Loss/localization_loss': 0.21109611,\n",
            " 'Loss/regularization_loss': 0.15571025,\n",
            " 'Loss/total_loss': 0.5362719,\n",
            " 'learning_rate': 0.07998685}\n",
            "INFO:tensorflow:Step 1500 per-step time 0.081s\n",
            "I0826 16:40:11.604297 134228293607424 model_lib_v2.py:705] Step 1500 per-step time 0.081s\n",
            "INFO:tensorflow:{'Loss/classification_loss': 0.1823965,\n",
            " 'Loss/localization_loss': 0.2507611,\n",
            " 'Loss/regularization_loss': 0.1558173,\n",
            " 'Loss/total_loss': 0.5889749,\n",
            " 'learning_rate': 0.07997945}\n",
            "I0826 16:40:11.604695 134228293607424 model_lib_v2.py:708] {'Loss/classification_loss': 0.1823965,\n",
            " 'Loss/localization_loss': 0.2507611,\n",
            " 'Loss/regularization_loss': 0.1558173,\n",
            " 'Loss/total_loss': 0.5889749,\n",
            " 'learning_rate': 0.07997945}\n",
            "INFO:tensorflow:Step 1600 per-step time 0.098s\n",
            "I0826 16:40:21.408946 134228293607424 model_lib_v2.py:705] Step 1600 per-step time 0.098s\n",
            "INFO:tensorflow:{'Loss/classification_loss': 0.23051111,\n",
            " 'Loss/localization_loss': 0.1865696,\n",
            " 'Loss/regularization_loss': 0.15567578,\n",
            " 'Loss/total_loss': 0.57275647,\n",
            " 'learning_rate': 0.079970405}\n",
            "I0826 16:40:21.409332 134228293607424 model_lib_v2.py:708] {'Loss/classification_loss': 0.23051111,\n",
            " 'Loss/localization_loss': 0.1865696,\n",
            " 'Loss/regularization_loss': 0.15567578,\n",
            " 'Loss/total_loss': 0.57275647,\n",
            " 'learning_rate': 0.079970405}\n",
            "INFO:tensorflow:Step 1700 per-step time 0.068s\n",
            "I0826 16:40:28.160691 134228293607424 model_lib_v2.py:705] Step 1700 per-step time 0.068s\n",
            "INFO:tensorflow:{'Loss/classification_loss': 0.11124475,\n",
            " 'Loss/localization_loss': 0.09521518,\n",
            " 'Loss/regularization_loss': 0.15552783,\n",
            " 'Loss/total_loss': 0.36198777,\n",
            " 'learning_rate': 0.07995972}\n",
            "I0826 16:40:28.160970 134228293607424 model_lib_v2.py:708] {'Loss/classification_loss': 0.11124475,\n",
            " 'Loss/localization_loss': 0.09521518,\n",
            " 'Loss/regularization_loss': 0.15552783,\n",
            " 'Loss/total_loss': 0.36198777,\n",
            " 'learning_rate': 0.07995972}\n",
            "INFO:tensorflow:Step 1800 per-step time 0.079s\n",
            "I0826 16:40:36.048009 134228293607424 model_lib_v2.py:705] Step 1800 per-step time 0.079s\n",
            "INFO:tensorflow:{'Loss/classification_loss': 0.31398842,\n",
            " 'Loss/localization_loss': 0.2883822,\n",
            " 'Loss/regularization_loss': 0.15531762,\n",
            " 'Loss/total_loss': 0.7576882,\n",
            " 'learning_rate': 0.0799474}\n",
            "I0826 16:40:36.048399 134228293607424 model_lib_v2.py:708] {'Loss/classification_loss': 0.31398842,\n",
            " 'Loss/localization_loss': 0.2883822,\n",
            " 'Loss/regularization_loss': 0.15531762,\n",
            " 'Loss/total_loss': 0.7576882,\n",
            " 'learning_rate': 0.0799474}\n",
            "INFO:tensorflow:Step 1900 per-step time 0.094s\n",
            "I0826 16:40:45.438774 134228293607424 model_lib_v2.py:705] Step 1900 per-step time 0.094s\n",
            "INFO:tensorflow:{'Loss/classification_loss': 0.19295363,\n",
            " 'Loss/localization_loss': 0.19373302,\n",
            " 'Loss/regularization_loss': 0.1550355,\n",
            " 'Loss/total_loss': 0.5417222,\n",
            " 'learning_rate': 0.07993342}\n",
            "I0826 16:40:45.439168 134228293607424 model_lib_v2.py:708] {'Loss/classification_loss': 0.19295363,\n",
            " 'Loss/localization_loss': 0.19373302,\n",
            " 'Loss/regularization_loss': 0.1550355,\n",
            " 'Loss/total_loss': 0.5417222,\n",
            " 'learning_rate': 0.07993342}\n",
            "INFO:tensorflow:Step 2000 per-step time 0.071s\n",
            "I0826 16:40:52.545769 134228293607424 model_lib_v2.py:705] Step 2000 per-step time 0.071s\n",
            "INFO:tensorflow:{'Loss/classification_loss': 0.18066756,\n",
            " 'Loss/localization_loss': 0.18076487,\n",
            " 'Loss/regularization_loss': 0.15458468,\n",
            " 'Loss/total_loss': 0.5160171,\n",
            " 'learning_rate': 0.07991781}\n",
            "I0826 16:40:52.546056 134228293607424 model_lib_v2.py:708] {'Loss/classification_loss': 0.18066756,\n",
            " 'Loss/localization_loss': 0.18076487,\n",
            " 'Loss/regularization_loss': 0.15458468,\n",
            " 'Loss/total_loss': 0.5160171,\n",
            " 'learning_rate': 0.07991781}\n",
            "INFO:tensorflow:Step 2100 per-step time 0.095s\n",
            "I0826 16:41:02.045048 134228293607424 model_lib_v2.py:705] Step 2100 per-step time 0.095s\n",
            "INFO:tensorflow:{'Loss/classification_loss': 0.14554822,\n",
            " 'Loss/localization_loss': 0.083439976,\n",
            " 'Loss/regularization_loss': 0.15424772,\n",
            " 'Loss/total_loss': 0.38323593,\n",
            " 'learning_rate': 0.07990056}\n",
            "I0826 16:41:02.045456 134228293607424 model_lib_v2.py:708] {'Loss/classification_loss': 0.14554822,\n",
            " 'Loss/localization_loss': 0.083439976,\n",
            " 'Loss/regularization_loss': 0.15424772,\n",
            " 'Loss/total_loss': 0.38323593,\n",
            " 'learning_rate': 0.07990056}\n",
            "INFO:tensorflow:Step 2200 per-step time 0.094s\n",
            "I0826 16:41:11.467801 134228293607424 model_lib_v2.py:705] Step 2200 per-step time 0.094s\n",
            "INFO:tensorflow:{'Loss/classification_loss': 0.1188653,\n",
            " 'Loss/localization_loss': 0.11353084,\n",
            " 'Loss/regularization_loss': 0.15395078,\n",
            " 'Loss/total_loss': 0.38634694,\n",
            " 'learning_rate': 0.07988167}\n",
            "I0826 16:41:11.468216 134228293607424 model_lib_v2.py:708] {'Loss/classification_loss': 0.1188653,\n",
            " 'Loss/localization_loss': 0.11353084,\n",
            " 'Loss/regularization_loss': 0.15395078,\n",
            " 'Loss/total_loss': 0.38634694,\n",
            " 'learning_rate': 0.07988167}\n",
            "INFO:tensorflow:Step 2300 per-step time 0.064s\n",
            "I0826 16:41:17.901275 134228293607424 model_lib_v2.py:705] Step 2300 per-step time 0.064s\n",
            "INFO:tensorflow:{'Loss/classification_loss': 0.19292077,\n",
            " 'Loss/localization_loss': 0.116887175,\n",
            " 'Loss/regularization_loss': 0.15366788,\n",
            " 'Loss/total_loss': 0.46347582,\n",
            " 'learning_rate': 0.07986114}\n",
            "I0826 16:41:17.901928 134228293607424 model_lib_v2.py:708] {'Loss/classification_loss': 0.19292077,\n",
            " 'Loss/localization_loss': 0.116887175,\n",
            " 'Loss/regularization_loss': 0.15366788,\n",
            " 'Loss/total_loss': 0.46347582,\n",
            " 'learning_rate': 0.07986114}\n",
            "INFO:tensorflow:Step 2400 per-step time 0.077s\n",
            "I0826 16:41:25.562270 134228293607424 model_lib_v2.py:705] Step 2400 per-step time 0.077s\n",
            "INFO:tensorflow:{'Loss/classification_loss': 0.22858247,\n",
            " 'Loss/localization_loss': 0.17373402,\n",
            " 'Loss/regularization_loss': 0.15321706,\n",
            " 'Loss/total_loss': 0.5555336,\n",
            " 'learning_rate': 0.07983897}\n",
            "I0826 16:41:25.562892 134228293607424 model_lib_v2.py:708] {'Loss/classification_loss': 0.22858247,\n",
            " 'Loss/localization_loss': 0.17373402,\n",
            " 'Loss/regularization_loss': 0.15321706,\n",
            " 'Loss/total_loss': 0.5555336,\n",
            " 'learning_rate': 0.07983897}\n",
            "INFO:tensorflow:Step 2500 per-step time 0.096s\n",
            "I0826 16:41:35.136806 134228293607424 model_lib_v2.py:705] Step 2500 per-step time 0.096s\n",
            "INFO:tensorflow:{'Loss/classification_loss': 0.11694582,\n",
            " 'Loss/localization_loss': 0.100152664,\n",
            " 'Loss/regularization_loss': 0.15281303,\n",
            " 'Loss/total_loss': 0.3699115,\n",
            " 'learning_rate': 0.079815164}\n",
            "I0826 16:41:35.137207 134228293607424 model_lib_v2.py:708] {'Loss/classification_loss': 0.11694582,\n",
            " 'Loss/localization_loss': 0.100152664,\n",
            " 'Loss/regularization_loss': 0.15281303,\n",
            " 'Loss/total_loss': 0.3699115,\n",
            " 'learning_rate': 0.079815164}\n",
            "INFO:tensorflow:Step 2600 per-step time 0.070s\n",
            "I0826 16:41:42.124883 134228293607424 model_lib_v2.py:705] Step 2600 per-step time 0.070s\n",
            "INFO:tensorflow:{'Loss/classification_loss': 0.2882949,\n",
            " 'Loss/localization_loss': 0.15897618,\n",
            " 'Loss/regularization_loss': 0.15245497,\n",
            " 'Loss/total_loss': 0.5997261,\n",
            " 'learning_rate': 0.07978972}\n",
            "I0826 16:41:42.125183 134228293607424 model_lib_v2.py:708] {'Loss/classification_loss': 0.2882949,\n",
            " 'Loss/localization_loss': 0.15897618,\n",
            " 'Loss/regularization_loss': 0.15245497,\n",
            " 'Loss/total_loss': 0.5997261,\n",
            " 'learning_rate': 0.07978972}\n",
            "INFO:tensorflow:Step 2700 per-step time 0.074s\n",
            "I0826 16:41:49.519109 134228293607424 model_lib_v2.py:705] Step 2700 per-step time 0.074s\n",
            "INFO:tensorflow:{'Loss/classification_loss': 0.12855129,\n",
            " 'Loss/localization_loss': 0.082805395,\n",
            " 'Loss/regularization_loss': 0.15213284,\n",
            " 'Loss/total_loss': 0.3634895,\n",
            " 'learning_rate': 0.07976264}\n",
            "I0826 16:41:49.519485 134228293607424 model_lib_v2.py:708] {'Loss/classification_loss': 0.12855129,\n",
            " 'Loss/localization_loss': 0.082805395,\n",
            " 'Loss/regularization_loss': 0.15213284,\n",
            " 'Loss/total_loss': 0.3634895,\n",
            " 'learning_rate': 0.07976264}\n",
            "INFO:tensorflow:Step 2800 per-step time 0.098s\n",
            "I0826 16:41:59.280830 134228293607424 model_lib_v2.py:705] Step 2800 per-step time 0.098s\n",
            "INFO:tensorflow:{'Loss/classification_loss': 0.15096198,\n",
            " 'Loss/localization_loss': 0.12221204,\n",
            " 'Loss/regularization_loss': 0.15167792,\n",
            " 'Loss/total_loss': 0.42485195,\n",
            " 'learning_rate': 0.07973392}\n",
            "I0826 16:41:59.281224 134228293607424 model_lib_v2.py:708] {'Loss/classification_loss': 0.15096198,\n",
            " 'Loss/localization_loss': 0.12221204,\n",
            " 'Loss/regularization_loss': 0.15167792,\n",
            " 'Loss/total_loss': 0.42485195,\n",
            " 'learning_rate': 0.07973392}\n",
            "INFO:tensorflow:Step 2900 per-step time 0.087s\n",
            "I0826 16:42:08.042168 134228293607424 model_lib_v2.py:705] Step 2900 per-step time 0.087s\n",
            "INFO:tensorflow:{'Loss/classification_loss': 0.2775357,\n",
            " 'Loss/localization_loss': 0.22078118,\n",
            " 'Loss/regularization_loss': 0.15125854,\n",
            " 'Loss/total_loss': 0.6495754,\n",
            " 'learning_rate': 0.07970358}\n",
            "I0826 16:42:08.042530 134228293607424 model_lib_v2.py:708] {'Loss/classification_loss': 0.2775357,\n",
            " 'Loss/localization_loss': 0.22078118,\n",
            " 'Loss/regularization_loss': 0.15125854,\n",
            " 'Loss/total_loss': 0.6495754,\n",
            " 'learning_rate': 0.07970358}\n",
            "INFO:tensorflow:Step 3000 per-step time 0.103s\n",
            "I0826 16:42:18.311158 134228293607424 model_lib_v2.py:705] Step 3000 per-step time 0.103s\n",
            "INFO:tensorflow:{'Loss/classification_loss': 0.15522803,\n",
            " 'Loss/localization_loss': 0.15557365,\n",
            " 'Loss/regularization_loss': 0.15084246,\n",
            " 'Loss/total_loss': 0.46164414,\n",
            " 'learning_rate': 0.0796716}\n",
            "I0826 16:42:18.311530 134228293607424 model_lib_v2.py:708] {'Loss/classification_loss': 0.15522803,\n",
            " 'Loss/localization_loss': 0.15557365,\n",
            " 'Loss/regularization_loss': 0.15084246,\n",
            " 'Loss/total_loss': 0.46164414,\n",
            " 'learning_rate': 0.0796716}\n",
            "INFO:tensorflow:Step 3100 per-step time 0.133s\n",
            "I0826 16:42:31.582025 134228293607424 model_lib_v2.py:705] Step 3100 per-step time 0.133s\n",
            "INFO:tensorflow:{'Loss/classification_loss': 0.28062904,\n",
            " 'Loss/localization_loss': 0.19471166,\n",
            " 'Loss/regularization_loss': 0.15055878,\n",
            " 'Loss/total_loss': 0.6258995,\n",
            " 'learning_rate': 0.07963799}\n",
            "I0826 16:42:31.582457 134228293607424 model_lib_v2.py:708] {'Loss/classification_loss': 0.28062904,\n",
            " 'Loss/localization_loss': 0.19471166,\n",
            " 'Loss/regularization_loss': 0.15055878,\n",
            " 'Loss/total_loss': 0.6258995,\n",
            " 'learning_rate': 0.07963799}\n",
            "INFO:tensorflow:Step 3200 per-step time 0.079s\n",
            "I0826 16:42:39.487330 134228293607424 model_lib_v2.py:705] Step 3200 per-step time 0.079s\n",
            "INFO:tensorflow:{'Loss/classification_loss': 0.13946326,\n",
            " 'Loss/localization_loss': 0.13155733,\n",
            " 'Loss/regularization_loss': 0.1501771,\n",
            " 'Loss/total_loss': 0.4211977,\n",
            " 'learning_rate': 0.07960275}\n",
            "I0826 16:42:39.487635 134228293607424 model_lib_v2.py:708] {'Loss/classification_loss': 0.13946326,\n",
            " 'Loss/localization_loss': 0.13155733,\n",
            " 'Loss/regularization_loss': 0.1501771,\n",
            " 'Loss/total_loss': 0.4211977,\n",
            " 'learning_rate': 0.07960275}\n",
            "INFO:tensorflow:Step 3300 per-step time 0.095s\n",
            "I0826 16:42:48.968512 134228293607424 model_lib_v2.py:705] Step 3300 per-step time 0.095s\n",
            "INFO:tensorflow:{'Loss/classification_loss': 0.23749655,\n",
            " 'Loss/localization_loss': 0.1340792,\n",
            " 'Loss/regularization_loss': 0.1499799,\n",
            " 'Loss/total_loss': 0.52155566,\n",
            " 'learning_rate': 0.07956588}\n",
            "I0826 16:42:48.968961 134228293607424 model_lib_v2.py:708] {'Loss/classification_loss': 0.23749655,\n",
            " 'Loss/localization_loss': 0.1340792,\n",
            " 'Loss/regularization_loss': 0.1499799,\n",
            " 'Loss/total_loss': 0.52155566,\n",
            " 'learning_rate': 0.07956588}\n",
            "INFO:tensorflow:Step 3400 per-step time 0.083s\n",
            "I0826 16:42:57.263421 134228293607424 model_lib_v2.py:705] Step 3400 per-step time 0.083s\n",
            "INFO:tensorflow:{'Loss/classification_loss': 0.15102683,\n",
            " 'Loss/localization_loss': 0.12005855,\n",
            " 'Loss/regularization_loss': 0.14976333,\n",
            " 'Loss/total_loss': 0.42084873,\n",
            " 'learning_rate': 0.079527386}\n",
            "I0826 16:42:57.263770 134228293607424 model_lib_v2.py:708] {'Loss/classification_loss': 0.15102683,\n",
            " 'Loss/localization_loss': 0.12005855,\n",
            " 'Loss/regularization_loss': 0.14976333,\n",
            " 'Loss/total_loss': 0.42084873,\n",
            " 'learning_rate': 0.079527386}\n",
            "INFO:tensorflow:Step 3500 per-step time 0.064s\n",
            "I0826 16:43:03.610762 134228293607424 model_lib_v2.py:705] Step 3500 per-step time 0.064s\n",
            "INFO:tensorflow:{'Loss/classification_loss': 0.28933108,\n",
            " 'Loss/localization_loss': 0.25476864,\n",
            " 'Loss/regularization_loss': 0.14923622,\n",
            " 'Loss/total_loss': 0.6933359,\n",
            " 'learning_rate': 0.07948727}\n",
            "I0826 16:43:03.611104 134228293607424 model_lib_v2.py:708] {'Loss/classification_loss': 0.28933108,\n",
            " 'Loss/localization_loss': 0.25476864,\n",
            " 'Loss/regularization_loss': 0.14923622,\n",
            " 'Loss/total_loss': 0.6933359,\n",
            " 'learning_rate': 0.07948727}\n",
            "INFO:tensorflow:Step 3600 per-step time 0.089s\n",
            "I0826 16:43:12.506376 134228293607424 model_lib_v2.py:705] Step 3600 per-step time 0.089s\n",
            "INFO:tensorflow:{'Loss/classification_loss': 0.13538998,\n",
            " 'Loss/localization_loss': 0.11541679,\n",
            " 'Loss/regularization_loss': 0.14874057,\n",
            " 'Loss/total_loss': 0.39954734,\n",
            " 'learning_rate': 0.079445526}\n",
            "I0826 16:43:12.506775 134228293607424 model_lib_v2.py:708] {'Loss/classification_loss': 0.13538998,\n",
            " 'Loss/localization_loss': 0.11541679,\n",
            " 'Loss/regularization_loss': 0.14874057,\n",
            " 'Loss/total_loss': 0.39954734,\n",
            " 'learning_rate': 0.079445526}\n",
            "INFO:tensorflow:Step 3700 per-step time 0.089s\n",
            "I0826 16:43:21.381118 134228293607424 model_lib_v2.py:705] Step 3700 per-step time 0.089s\n",
            "INFO:tensorflow:{'Loss/classification_loss': 0.12438318,\n",
            " 'Loss/localization_loss': 0.0745875,\n",
            " 'Loss/regularization_loss': 0.14833398,\n",
            " 'Loss/total_loss': 0.34730464,\n",
            " 'learning_rate': 0.07940216}\n",
            "I0826 16:43:21.381479 134228293607424 model_lib_v2.py:708] {'Loss/classification_loss': 0.12438318,\n",
            " 'Loss/localization_loss': 0.0745875,\n",
            " 'Loss/regularization_loss': 0.14833398,\n",
            " 'Loss/total_loss': 0.34730464,\n",
            " 'learning_rate': 0.07940216}\n",
            "INFO:tensorflow:Step 3800 per-step time 0.063s\n",
            "I0826 16:43:27.714261 134228293607424 model_lib_v2.py:705] Step 3800 per-step time 0.063s\n",
            "INFO:tensorflow:{'Loss/classification_loss': 0.1905977,\n",
            " 'Loss/localization_loss': 0.15333922,\n",
            " 'Loss/regularization_loss': 0.14777829,\n",
            " 'Loss/total_loss': 0.4917152,\n",
            " 'learning_rate': 0.079357184}\n",
            "I0826 16:43:27.714582 134228293607424 model_lib_v2.py:708] {'Loss/classification_loss': 0.1905977,\n",
            " 'Loss/localization_loss': 0.15333922,\n",
            " 'Loss/regularization_loss': 0.14777829,\n",
            " 'Loss/total_loss': 0.4917152,\n",
            " 'learning_rate': 0.079357184}\n",
            "INFO:tensorflow:Step 3900 per-step time 0.084s\n",
            "I0826 16:43:36.150645 134228293607424 model_lib_v2.py:705] Step 3900 per-step time 0.084s\n",
            "INFO:tensorflow:{'Loss/classification_loss': 0.09986898,\n",
            " 'Loss/localization_loss': 0.075232096,\n",
            " 'Loss/regularization_loss': 0.14725836,\n",
            " 'Loss/total_loss': 0.32235944,\n",
            " 'learning_rate': 0.07931058}\n",
            "I0826 16:43:36.151025 134228293607424 model_lib_v2.py:708] {'Loss/classification_loss': 0.09986898,\n",
            " 'Loss/localization_loss': 0.075232096,\n",
            " 'Loss/regularization_loss': 0.14725836,\n",
            " 'Loss/total_loss': 0.32235944,\n",
            " 'learning_rate': 0.07931058}\n",
            "INFO:tensorflow:Step 4000 per-step time 0.094s\n",
            "I0826 16:43:45.533836 134228293607424 model_lib_v2.py:705] Step 4000 per-step time 0.094s\n",
            "INFO:tensorflow:{'Loss/classification_loss': 0.15625024,\n",
            " 'Loss/localization_loss': 0.14564651,\n",
            " 'Loss/regularization_loss': 0.14675727,\n",
            " 'Loss/total_loss': 0.44865403,\n",
            " 'learning_rate': 0.07926236}\n",
            "I0826 16:43:45.534204 134228293607424 model_lib_v2.py:708] {'Loss/classification_loss': 0.15625024,\n",
            " 'Loss/localization_loss': 0.14564651,\n",
            " 'Loss/regularization_loss': 0.14675727,\n",
            " 'Loss/total_loss': 0.44865403,\n",
            " 'learning_rate': 0.07926236}\n",
            "INFO:tensorflow:Step 4100 per-step time 0.076s\n",
            "I0826 16:43:53.112094 134228293607424 model_lib_v2.py:705] Step 4100 per-step time 0.076s\n",
            "INFO:tensorflow:{'Loss/classification_loss': 0.13748188,\n",
            " 'Loss/localization_loss': 0.056362484,\n",
            " 'Loss/regularization_loss': 0.14623225,\n",
            " 'Loss/total_loss': 0.34007663,\n",
            " 'learning_rate': 0.07921253}\n",
            "I0826 16:43:53.112444 134228293607424 model_lib_v2.py:708] {'Loss/classification_loss': 0.13748188,\n",
            " 'Loss/localization_loss': 0.056362484,\n",
            " 'Loss/regularization_loss': 0.14623225,\n",
            " 'Loss/total_loss': 0.34007663,\n",
            " 'learning_rate': 0.07921253}\n",
            "INFO:tensorflow:Step 4200 per-step time 0.089s\n",
            "I0826 16:44:02.044003 134228293607424 model_lib_v2.py:705] Step 4200 per-step time 0.089s\n",
            "INFO:tensorflow:{'Loss/classification_loss': 0.16797854,\n",
            " 'Loss/localization_loss': 0.2823755,\n",
            " 'Loss/regularization_loss': 0.14583674,\n",
            " 'Loss/total_loss': 0.5961908,\n",
            " 'learning_rate': 0.07916109}\n",
            "I0826 16:44:02.044399 134228293607424 model_lib_v2.py:708] {'Loss/classification_loss': 0.16797854,\n",
            " 'Loss/localization_loss': 0.2823755,\n",
            " 'Loss/regularization_loss': 0.14583674,\n",
            " 'Loss/total_loss': 0.5961908,\n",
            " 'learning_rate': 0.07916109}\n",
            "INFO:tensorflow:Step 4300 per-step time 0.090s\n",
            "I0826 16:44:11.071020 134228293607424 model_lib_v2.py:705] Step 4300 per-step time 0.090s\n",
            "INFO:tensorflow:{'Loss/classification_loss': 0.088393606,\n",
            " 'Loss/localization_loss': 0.13139175,\n",
            " 'Loss/regularization_loss': 0.14547122,\n",
            " 'Loss/total_loss': 0.36525658,\n",
            " 'learning_rate': 0.07910804}\n",
            "I0826 16:44:11.071343 134228293607424 model_lib_v2.py:708] {'Loss/classification_loss': 0.088393606,\n",
            " 'Loss/localization_loss': 0.13139175,\n",
            " 'Loss/regularization_loss': 0.14547122,\n",
            " 'Loss/total_loss': 0.36525658,\n",
            " 'learning_rate': 0.07910804}\n",
            "INFO:tensorflow:Step 4400 per-step time 0.065s\n",
            "I0826 16:44:17.566380 134228293607424 model_lib_v2.py:705] Step 4400 per-step time 0.065s\n",
            "INFO:tensorflow:{'Loss/classification_loss': 0.14688414,\n",
            " 'Loss/localization_loss': 0.10314893,\n",
            " 'Loss/regularization_loss': 0.14508128,\n",
            " 'Loss/total_loss': 0.39511436,\n",
            " 'learning_rate': 0.07905338}\n",
            "I0826 16:44:17.566741 134228293607424 model_lib_v2.py:708] {'Loss/classification_loss': 0.14688414,\n",
            " 'Loss/localization_loss': 0.10314893,\n",
            " 'Loss/regularization_loss': 0.14508128,\n",
            " 'Loss/total_loss': 0.39511436,\n",
            " 'learning_rate': 0.07905338}\n",
            "INFO:tensorflow:Step 4500 per-step time 0.089s\n",
            "I0826 16:44:26.517639 134228293607424 model_lib_v2.py:705] Step 4500 per-step time 0.089s\n",
            "INFO:tensorflow:{'Loss/classification_loss': 0.13056496,\n",
            " 'Loss/localization_loss': 0.086603016,\n",
            " 'Loss/regularization_loss': 0.14470163,\n",
            " 'Loss/total_loss': 0.3618696,\n",
            " 'learning_rate': 0.07899711}\n",
            "I0826 16:44:26.518165 134228293607424 model_lib_v2.py:708] {'Loss/classification_loss': 0.13056496,\n",
            " 'Loss/localization_loss': 0.086603016,\n",
            " 'Loss/regularization_loss': 0.14470163,\n",
            " 'Loss/total_loss': 0.3618696,\n",
            " 'learning_rate': 0.07899711}\n",
            "INFO:tensorflow:Step 4600 per-step time 0.098s\n",
            "I0826 16:44:36.270465 134228293607424 model_lib_v2.py:705] Step 4600 per-step time 0.098s\n",
            "INFO:tensorflow:{'Loss/classification_loss': 0.10630411,\n",
            " 'Loss/localization_loss': 0.091147624,\n",
            " 'Loss/regularization_loss': 0.14426538,\n",
            " 'Loss/total_loss': 0.34171712,\n",
            " 'learning_rate': 0.078939244}\n",
            "I0826 16:44:36.270743 134228293607424 model_lib_v2.py:708] {'Loss/classification_loss': 0.10630411,\n",
            " 'Loss/localization_loss': 0.091147624,\n",
            " 'Loss/regularization_loss': 0.14426538,\n",
            " 'Loss/total_loss': 0.34171712,\n",
            " 'learning_rate': 0.078939244}\n",
            "INFO:tensorflow:Step 4700 per-step time 0.065s\n",
            "I0826 16:44:42.797289 134228293607424 model_lib_v2.py:705] Step 4700 per-step time 0.065s\n",
            "INFO:tensorflow:{'Loss/classification_loss': 0.18016173,\n",
            " 'Loss/localization_loss': 0.19722097,\n",
            " 'Loss/regularization_loss': 0.1438946,\n",
            " 'Loss/total_loss': 0.5212773,\n",
            " 'learning_rate': 0.07887978}\n",
            "I0826 16:44:42.797601 134228293607424 model_lib_v2.py:708] {'Loss/classification_loss': 0.18016173,\n",
            " 'Loss/localization_loss': 0.19722097,\n",
            " 'Loss/regularization_loss': 0.1438946,\n",
            " 'Loss/total_loss': 0.5212773,\n",
            " 'learning_rate': 0.07887978}\n",
            "INFO:tensorflow:Step 4800 per-step time 0.091s\n",
            "I0826 16:44:51.863832 134228293607424 model_lib_v2.py:705] Step 4800 per-step time 0.091s\n",
            "INFO:tensorflow:{'Loss/classification_loss': 0.14432237,\n",
            " 'Loss/localization_loss': 0.12878631,\n",
            " 'Loss/regularization_loss': 0.14365634,\n",
            " 'Loss/total_loss': 0.416765,\n",
            " 'learning_rate': 0.07881871}\n",
            "I0826 16:44:51.864269 134228293607424 model_lib_v2.py:708] {'Loss/classification_loss': 0.14432237,\n",
            " 'Loss/localization_loss': 0.12878631,\n",
            " 'Loss/regularization_loss': 0.14365634,\n",
            " 'Loss/total_loss': 0.416765,\n",
            " 'learning_rate': 0.07881871}\n",
            "INFO:tensorflow:Step 4900 per-step time 0.097s\n",
            "I0826 16:45:01.553589 134228293607424 model_lib_v2.py:705] Step 4900 per-step time 0.097s\n",
            "INFO:tensorflow:{'Loss/classification_loss': 0.15995654,\n",
            " 'Loss/localization_loss': 0.10759615,\n",
            " 'Loss/regularization_loss': 0.14325605,\n",
            " 'Loss/total_loss': 0.41080874,\n",
            " 'learning_rate': 0.07875605}\n",
            "I0826 16:45:01.553985 134228293607424 model_lib_v2.py:708] {'Loss/classification_loss': 0.15995654,\n",
            " 'Loss/localization_loss': 0.10759615,\n",
            " 'Loss/regularization_loss': 0.14325605,\n",
            " 'Loss/total_loss': 0.41080874,\n",
            " 'learning_rate': 0.07875605}\n",
            "INFO:tensorflow:Step 5000 per-step time 0.065s\n",
            "I0826 16:45:08.059376 134228293607424 model_lib_v2.py:705] Step 5000 per-step time 0.065s\n",
            "INFO:tensorflow:{'Loss/classification_loss': 0.13597345,\n",
            " 'Loss/localization_loss': 0.13530593,\n",
            " 'Loss/regularization_loss': 0.14292836,\n",
            " 'Loss/total_loss': 0.41420776,\n",
            " 'learning_rate': 0.078691795}\n",
            "I0826 16:45:08.059688 134228293607424 model_lib_v2.py:708] {'Loss/classification_loss': 0.13597345,\n",
            " 'Loss/localization_loss': 0.13530593,\n",
            " 'Loss/regularization_loss': 0.14292836,\n",
            " 'Loss/total_loss': 0.41420776,\n",
            " 'learning_rate': 0.078691795}\n",
            "INFO:tensorflow:Step 5100 per-step time 0.108s\n",
            "I0826 16:45:18.912345 134228293607424 model_lib_v2.py:705] Step 5100 per-step time 0.108s\n",
            "INFO:tensorflow:{'Loss/classification_loss': 0.17296538,\n",
            " 'Loss/localization_loss': 0.22007644,\n",
            " 'Loss/regularization_loss': 0.14250003,\n",
            " 'Loss/total_loss': 0.53554183,\n",
            " 'learning_rate': 0.07862595}\n",
            "I0826 16:45:18.912769 134228293607424 model_lib_v2.py:708] {'Loss/classification_loss': 0.17296538,\n",
            " 'Loss/localization_loss': 0.22007644,\n",
            " 'Loss/regularization_loss': 0.14250003,\n",
            " 'Loss/total_loss': 0.53554183,\n",
            " 'learning_rate': 0.07862595}\n",
            "INFO:tensorflow:Step 5200 per-step time 0.091s\n",
            "I0826 16:45:28.023297 134228293607424 model_lib_v2.py:705] Step 5200 per-step time 0.091s\n",
            "INFO:tensorflow:{'Loss/classification_loss': 0.13383484,\n",
            " 'Loss/localization_loss': 0.15055536,\n",
            " 'Loss/regularization_loss': 0.14209114,\n",
            " 'Loss/total_loss': 0.42648137,\n",
            " 'learning_rate': 0.07855851}\n",
            "I0826 16:45:28.023670 134228293607424 model_lib_v2.py:708] {'Loss/classification_loss': 0.13383484,\n",
            " 'Loss/localization_loss': 0.15055536,\n",
            " 'Loss/regularization_loss': 0.14209114,\n",
            " 'Loss/total_loss': 0.42648137,\n",
            " 'learning_rate': 0.07855851}\n",
            "INFO:tensorflow:Step 5300 per-step time 0.066s\n",
            "I0826 16:45:34.576896 134228293607424 model_lib_v2.py:705] Step 5300 per-step time 0.066s\n",
            "INFO:tensorflow:{'Loss/classification_loss': 0.13127303,\n",
            " 'Loss/localization_loss': 0.09471004,\n",
            " 'Loss/regularization_loss': 0.1417378,\n",
            " 'Loss/total_loss': 0.36772087,\n",
            " 'learning_rate': 0.07848949}\n",
            "I0826 16:45:34.577237 134228293607424 model_lib_v2.py:708] {'Loss/classification_loss': 0.13127303,\n",
            " 'Loss/localization_loss': 0.09471004,\n",
            " 'Loss/regularization_loss': 0.1417378,\n",
            " 'Loss/total_loss': 0.36772087,\n",
            " 'learning_rate': 0.07848949}\n",
            "INFO:tensorflow:Step 5400 per-step time 0.100s\n",
            "I0826 16:45:44.655686 134228293607424 model_lib_v2.py:705] Step 5400 per-step time 0.100s\n",
            "INFO:tensorflow:{'Loss/classification_loss': 0.07713836,\n",
            " 'Loss/localization_loss': 0.054028966,\n",
            " 'Loss/regularization_loss': 0.14131767,\n",
            " 'Loss/total_loss': 0.272485,\n",
            " 'learning_rate': 0.078418896}\n",
            "I0826 16:45:44.656065 134228293607424 model_lib_v2.py:708] {'Loss/classification_loss': 0.07713836,\n",
            " 'Loss/localization_loss': 0.054028966,\n",
            " 'Loss/regularization_loss': 0.14131767,\n",
            " 'Loss/total_loss': 0.272485,\n",
            " 'learning_rate': 0.078418896}\n",
            "INFO:tensorflow:Step 5500 per-step time 0.110s\n",
            "I0826 16:45:55.616876 134228293607424 model_lib_v2.py:705] Step 5500 per-step time 0.110s\n",
            "INFO:tensorflow:{'Loss/classification_loss': 0.24091989,\n",
            " 'Loss/localization_loss': 0.26093432,\n",
            " 'Loss/regularization_loss': 0.14086239,\n",
            " 'Loss/total_loss': 0.6427166,\n",
            " 'learning_rate': 0.078346714}\n",
            "I0826 16:45:55.617274 134228293607424 model_lib_v2.py:708] {'Loss/classification_loss': 0.24091989,\n",
            " 'Loss/localization_loss': 0.26093432,\n",
            " 'Loss/regularization_loss': 0.14086239,\n",
            " 'Loss/total_loss': 0.6427166,\n",
            " 'learning_rate': 0.078346714}\n",
            "INFO:tensorflow:Step 5600 per-step time 0.114s\n",
            "I0826 16:46:07.037458 134228293607424 model_lib_v2.py:705] Step 5600 per-step time 0.114s\n",
            "INFO:tensorflow:{'Loss/classification_loss': 0.091163985,\n",
            " 'Loss/localization_loss': 0.0931203,\n",
            " 'Loss/regularization_loss': 0.1403104,\n",
            " 'Loss/total_loss': 0.32459468,\n",
            " 'learning_rate': 0.07827295}\n",
            "I0826 16:46:07.037844 134228293607424 model_lib_v2.py:708] {'Loss/classification_loss': 0.091163985,\n",
            " 'Loss/localization_loss': 0.0931203,\n",
            " 'Loss/regularization_loss': 0.1403104,\n",
            " 'Loss/total_loss': 0.32459468,\n",
            " 'learning_rate': 0.07827295}\n",
            "INFO:tensorflow:Step 5700 per-step time 0.102s\n",
            "I0826 16:46:17.258001 134228293607424 model_lib_v2.py:705] Step 5700 per-step time 0.102s\n",
            "INFO:tensorflow:{'Loss/classification_loss': 0.07323018,\n",
            " 'Loss/localization_loss': 0.06307329,\n",
            " 'Loss/regularization_loss': 0.13996013,\n",
            " 'Loss/total_loss': 0.2762636,\n",
            " 'learning_rate': 0.07819763}\n",
            "I0826 16:46:17.258289 134228293607424 model_lib_v2.py:708] {'Loss/classification_loss': 0.07323018,\n",
            " 'Loss/localization_loss': 0.06307329,\n",
            " 'Loss/regularization_loss': 0.13996013,\n",
            " 'Loss/total_loss': 0.2762636,\n",
            " 'learning_rate': 0.07819763}\n",
            "INFO:tensorflow:Step 5800 per-step time 0.072s\n",
            "I0826 16:46:24.427289 134228293607424 model_lib_v2.py:705] Step 5800 per-step time 0.072s\n",
            "INFO:tensorflow:{'Loss/classification_loss': 0.08631392,\n",
            " 'Loss/localization_loss': 0.08034903,\n",
            " 'Loss/regularization_loss': 0.13947546,\n",
            " 'Loss/total_loss': 0.3061384,\n",
            " 'learning_rate': 0.07812072}\n",
            "I0826 16:46:24.427564 134228293607424 model_lib_v2.py:708] {'Loss/classification_loss': 0.08631392,\n",
            " 'Loss/localization_loss': 0.08034903,\n",
            " 'Loss/regularization_loss': 0.13947546,\n",
            " 'Loss/total_loss': 0.3061384,\n",
            " 'learning_rate': 0.07812072}\n",
            "INFO:tensorflow:Step 5900 per-step time 0.073s\n",
            "I0826 16:46:31.774623 134228293607424 model_lib_v2.py:705] Step 5900 per-step time 0.073s\n",
            "INFO:tensorflow:{'Loss/classification_loss': 0.22536303,\n",
            " 'Loss/localization_loss': 0.1400482,\n",
            " 'Loss/regularization_loss': 0.13896574,\n",
            " 'Loss/total_loss': 0.50437695,\n",
            " 'learning_rate': 0.078042254}\n",
            "I0826 16:46:31.774994 134228293607424 model_lib_v2.py:708] {'Loss/classification_loss': 0.22536303,\n",
            " 'Loss/localization_loss': 0.1400482,\n",
            " 'Loss/regularization_loss': 0.13896574,\n",
            " 'Loss/total_loss': 0.50437695,\n",
            " 'learning_rate': 0.078042254}\n",
            "INFO:tensorflow:Step 6000 per-step time 0.099s\n",
            "I0826 16:46:41.659170 134228293607424 model_lib_v2.py:705] Step 6000 per-step time 0.099s\n",
            "INFO:tensorflow:{'Loss/classification_loss': 0.10019519,\n",
            " 'Loss/localization_loss': 0.05107368,\n",
            " 'Loss/regularization_loss': 0.13848212,\n",
            " 'Loss/total_loss': 0.289751,\n",
            " 'learning_rate': 0.07796223}\n",
            "I0826 16:46:41.659547 134228293607424 model_lib_v2.py:708] {'Loss/classification_loss': 0.10019519,\n",
            " 'Loss/localization_loss': 0.05107368,\n",
            " 'Loss/regularization_loss': 0.13848212,\n",
            " 'Loss/total_loss': 0.289751,\n",
            " 'learning_rate': 0.07796223}\n",
            "INFO:tensorflow:Step 6100 per-step time 0.086s\n",
            "I0826 16:46:50.293226 134228293607424 model_lib_v2.py:705] Step 6100 per-step time 0.086s\n",
            "INFO:tensorflow:{'Loss/classification_loss': 0.13775876,\n",
            " 'Loss/localization_loss': 0.08285189,\n",
            " 'Loss/regularization_loss': 0.1379908,\n",
            " 'Loss/total_loss': 0.35860145,\n",
            " 'learning_rate': 0.077880636}\n",
            "I0826 16:46:50.293537 134228293607424 model_lib_v2.py:708] {'Loss/classification_loss': 0.13775876,\n",
            " 'Loss/localization_loss': 0.08285189,\n",
            " 'Loss/regularization_loss': 0.1379908,\n",
            " 'Loss/total_loss': 0.35860145,\n",
            " 'learning_rate': 0.077880636}\n",
            "INFO:tensorflow:Step 6200 per-step time 0.076s\n",
            "I0826 16:46:57.930887 134228293607424 model_lib_v2.py:705] Step 6200 per-step time 0.076s\n",
            "INFO:tensorflow:{'Loss/classification_loss': 0.10789787,\n",
            " 'Loss/localization_loss': 0.08561691,\n",
            " 'Loss/regularization_loss': 0.13760516,\n",
            " 'Loss/total_loss': 0.33111995,\n",
            " 'learning_rate': 0.07779749}\n",
            "I0826 16:46:57.931266 134228293607424 model_lib_v2.py:708] {'Loss/classification_loss': 0.10789787,\n",
            " 'Loss/localization_loss': 0.08561691,\n",
            " 'Loss/regularization_loss': 0.13760516,\n",
            " 'Loss/total_loss': 0.33111995,\n",
            " 'learning_rate': 0.07779749}\n",
            "INFO:tensorflow:Step 6300 per-step time 0.100s\n",
            "I0826 16:47:07.907294 134228293607424 model_lib_v2.py:705] Step 6300 per-step time 0.100s\n",
            "INFO:tensorflow:{'Loss/classification_loss': 0.11302546,\n",
            " 'Loss/localization_loss': 0.06186219,\n",
            " 'Loss/regularization_loss': 0.1370749,\n",
            " 'Loss/total_loss': 0.31196254,\n",
            " 'learning_rate': 0.07771279}\n",
            "I0826 16:47:07.907656 134228293607424 model_lib_v2.py:708] {'Loss/classification_loss': 0.11302546,\n",
            " 'Loss/localization_loss': 0.06186219,\n",
            " 'Loss/regularization_loss': 0.1370749,\n",
            " 'Loss/total_loss': 0.31196254,\n",
            " 'learning_rate': 0.07771279}\n",
            "INFO:tensorflow:Step 6400 per-step time 0.071s\n",
            "I0826 16:47:15.003809 134228293607424 model_lib_v2.py:705] Step 6400 per-step time 0.071s\n",
            "INFO:tensorflow:{'Loss/classification_loss': 0.17851897,\n",
            " 'Loss/localization_loss': 0.07303937,\n",
            " 'Loss/regularization_loss': 0.13662668,\n",
            " 'Loss/total_loss': 0.38818502,\n",
            " 'learning_rate': 0.077626534}\n",
            "I0826 16:47:15.004141 134228293607424 model_lib_v2.py:708] {'Loss/classification_loss': 0.17851897,\n",
            " 'Loss/localization_loss': 0.07303937,\n",
            " 'Loss/regularization_loss': 0.13662668,\n",
            " 'Loss/total_loss': 0.38818502,\n",
            " 'learning_rate': 0.077626534}\n",
            "INFO:tensorflow:Step 6500 per-step time 0.076s\n",
            "I0826 16:47:22.584626 134228293607424 model_lib_v2.py:705] Step 6500 per-step time 0.076s\n",
            "INFO:tensorflow:{'Loss/classification_loss': 0.1186667,\n",
            " 'Loss/localization_loss': 0.07177087,\n",
            " 'Loss/regularization_loss': 0.13625383,\n",
            " 'Loss/total_loss': 0.3266914,\n",
            " 'learning_rate': 0.077538736}\n",
            "I0826 16:47:22.585045 134228293607424 model_lib_v2.py:708] {'Loss/classification_loss': 0.1186667,\n",
            " 'Loss/localization_loss': 0.07177087,\n",
            " 'Loss/regularization_loss': 0.13625383,\n",
            " 'Loss/total_loss': 0.3266914,\n",
            " 'learning_rate': 0.077538736}\n",
            "INFO:tensorflow:Step 6600 per-step time 0.100s\n",
            "I0826 16:47:32.649613 134228293607424 model_lib_v2.py:705] Step 6600 per-step time 0.100s\n",
            "INFO:tensorflow:{'Loss/classification_loss': 0.14207567,\n",
            " 'Loss/localization_loss': 0.14609614,\n",
            " 'Loss/regularization_loss': 0.13579604,\n",
            " 'Loss/total_loss': 0.42396787,\n",
            " 'learning_rate': 0.077449396}\n",
            "I0826 16:47:32.650013 134228293607424 model_lib_v2.py:708] {'Loss/classification_loss': 0.14207567,\n",
            " 'Loss/localization_loss': 0.14609614,\n",
            " 'Loss/regularization_loss': 0.13579604,\n",
            " 'Loss/total_loss': 0.42396787,\n",
            " 'learning_rate': 0.077449396}\n",
            "INFO:tensorflow:Step 6700 per-step time 0.072s\n",
            "I0826 16:47:39.814801 134228293607424 model_lib_v2.py:705] Step 6700 per-step time 0.072s\n",
            "INFO:tensorflow:{'Loss/classification_loss': 0.15444624,\n",
            " 'Loss/localization_loss': 0.08554936,\n",
            " 'Loss/regularization_loss': 0.13542514,\n",
            " 'Loss/total_loss': 0.37542075,\n",
            " 'learning_rate': 0.077358514}\n",
            "I0826 16:47:39.815066 134228293607424 model_lib_v2.py:708] {'Loss/classification_loss': 0.15444624,\n",
            " 'Loss/localization_loss': 0.08554936,\n",
            " 'Loss/regularization_loss': 0.13542514,\n",
            " 'Loss/total_loss': 0.37542075,\n",
            " 'learning_rate': 0.077358514}\n",
            "INFO:tensorflow:Step 6800 per-step time 0.077s\n",
            "I0826 16:47:47.499240 134228293607424 model_lib_v2.py:705] Step 6800 per-step time 0.077s\n",
            "INFO:tensorflow:{'Loss/classification_loss': 0.112358086,\n",
            " 'Loss/localization_loss': 0.07358713,\n",
            " 'Loss/regularization_loss': 0.13501151,\n",
            " 'Loss/total_loss': 0.3209567,\n",
            " 'learning_rate': 0.0772661}\n",
            "I0826 16:47:47.499600 134228293607424 model_lib_v2.py:708] {'Loss/classification_loss': 0.112358086,\n",
            " 'Loss/localization_loss': 0.07358713,\n",
            " 'Loss/regularization_loss': 0.13501151,\n",
            " 'Loss/total_loss': 0.3209567,\n",
            " 'learning_rate': 0.0772661}\n",
            "INFO:tensorflow:Step 6900 per-step time 0.103s\n",
            "I0826 16:47:57.766113 134228293607424 model_lib_v2.py:705] Step 6900 per-step time 0.103s\n",
            "INFO:tensorflow:{'Loss/classification_loss': 0.10686102,\n",
            " 'Loss/localization_loss': 0.095566265,\n",
            " 'Loss/regularization_loss': 0.13455205,\n",
            " 'Loss/total_loss': 0.33697933,\n",
            " 'learning_rate': 0.077172145}\n",
            "I0826 16:47:57.766494 134228293607424 model_lib_v2.py:708] {'Loss/classification_loss': 0.10686102,\n",
            " 'Loss/localization_loss': 0.095566265,\n",
            " 'Loss/regularization_loss': 0.13455205,\n",
            " 'Loss/total_loss': 0.33697933,\n",
            " 'learning_rate': 0.077172145}\n",
            "INFO:tensorflow:Step 7000 per-step time 0.073s\n",
            "I0826 16:48:05.041229 134228293607424 model_lib_v2.py:705] Step 7000 per-step time 0.073s\n",
            "INFO:tensorflow:{'Loss/classification_loss': 0.0881383,\n",
            " 'Loss/localization_loss': 0.061495006,\n",
            " 'Loss/regularization_loss': 0.1342105,\n",
            " 'Loss/total_loss': 0.28384382,\n",
            " 'learning_rate': 0.07707667}\n",
            "I0826 16:48:05.041525 134228293607424 model_lib_v2.py:708] {'Loss/classification_loss': 0.0881383,\n",
            " 'Loss/localization_loss': 0.061495006,\n",
            " 'Loss/regularization_loss': 0.1342105,\n",
            " 'Loss/total_loss': 0.28384382,\n",
            " 'learning_rate': 0.07707667}\n",
            "INFO:tensorflow:Step 7100 per-step time 0.093s\n",
            "I0826 16:48:14.314158 134228293607424 model_lib_v2.py:705] Step 7100 per-step time 0.093s\n",
            "INFO:tensorflow:{'Loss/classification_loss': 0.19258338,\n",
            " 'Loss/localization_loss': 0.095073305,\n",
            " 'Loss/regularization_loss': 0.13397872,\n",
            " 'Loss/total_loss': 0.42163542,\n",
            " 'learning_rate': 0.07697967}\n",
            "I0826 16:48:14.314540 134228293607424 model_lib_v2.py:708] {'Loss/classification_loss': 0.19258338,\n",
            " 'Loss/localization_loss': 0.095073305,\n",
            " 'Loss/regularization_loss': 0.13397872,\n",
            " 'Loss/total_loss': 0.42163542,\n",
            " 'learning_rate': 0.07697967}\n",
            "INFO:tensorflow:Step 7200 per-step time 0.100s\n",
            "I0826 16:48:24.303179 134228293607424 model_lib_v2.py:705] Step 7200 per-step time 0.100s\n",
            "INFO:tensorflow:{'Loss/classification_loss': 0.10351645,\n",
            " 'Loss/localization_loss': 0.08648486,\n",
            " 'Loss/regularization_loss': 0.13363898,\n",
            " 'Loss/total_loss': 0.3236403,\n",
            " 'learning_rate': 0.07688115}\n",
            "I0826 16:48:24.303572 134228293607424 model_lib_v2.py:708] {'Loss/classification_loss': 0.10351645,\n",
            " 'Loss/localization_loss': 0.08648486,\n",
            " 'Loss/regularization_loss': 0.13363898,\n",
            " 'Loss/total_loss': 0.3236403,\n",
            " 'learning_rate': 0.07688115}\n",
            "INFO:tensorflow:Step 7300 per-step time 0.067s\n",
            "I0826 16:48:31.015383 134228293607424 model_lib_v2.py:705] Step 7300 per-step time 0.067s\n",
            "INFO:tensorflow:{'Loss/classification_loss': 0.11072275,\n",
            " 'Loss/localization_loss': 0.18367615,\n",
            " 'Loss/regularization_loss': 0.13314092,\n",
            " 'Loss/total_loss': 0.42753983,\n",
            " 'learning_rate': 0.07678111}\n",
            "I0826 16:48:31.015676 134228293607424 model_lib_v2.py:708] {'Loss/classification_loss': 0.11072275,\n",
            " 'Loss/localization_loss': 0.18367615,\n",
            " 'Loss/regularization_loss': 0.13314092,\n",
            " 'Loss/total_loss': 0.42753983,\n",
            " 'learning_rate': 0.07678111}\n",
            "INFO:tensorflow:Step 7400 per-step time 0.078s\n",
            "I0826 16:48:38.859198 134228293607424 model_lib_v2.py:705] Step 7400 per-step time 0.078s\n",
            "INFO:tensorflow:{'Loss/classification_loss': 0.1404188,\n",
            " 'Loss/localization_loss': 0.13024339,\n",
            " 'Loss/regularization_loss': 0.13267346,\n",
            " 'Loss/total_loss': 0.40333563,\n",
            " 'learning_rate': 0.076679565}\n",
            "I0826 16:48:38.859555 134228293607424 model_lib_v2.py:708] {'Loss/classification_loss': 0.1404188,\n",
            " 'Loss/localization_loss': 0.13024339,\n",
            " 'Loss/regularization_loss': 0.13267346,\n",
            " 'Loss/total_loss': 0.40333563,\n",
            " 'learning_rate': 0.076679565}\n",
            "INFO:tensorflow:Step 7500 per-step time 0.100s\n",
            "I0826 16:48:48.802823 134228293607424 model_lib_v2.py:705] Step 7500 per-step time 0.100s\n",
            "INFO:tensorflow:{'Loss/classification_loss': 0.09006104,\n",
            " 'Loss/localization_loss': 0.07598175,\n",
            " 'Loss/regularization_loss': 0.13218038,\n",
            " 'Loss/total_loss': 0.29822317,\n",
            " 'learning_rate': 0.0765765}\n",
            "I0826 16:48:48.803200 134228293607424 model_lib_v2.py:708] {'Loss/classification_loss': 0.09006104,\n",
            " 'Loss/localization_loss': 0.07598175,\n",
            " 'Loss/regularization_loss': 0.13218038,\n",
            " 'Loss/total_loss': 0.29822317,\n",
            " 'learning_rate': 0.0765765}\n",
            "INFO:tensorflow:Step 7600 per-step time 0.070s\n",
            "I0826 16:48:55.811813 134228293607424 model_lib_v2.py:705] Step 7600 per-step time 0.070s\n",
            "INFO:tensorflow:{'Loss/classification_loss': 0.28215322,\n",
            " 'Loss/localization_loss': 0.18695301,\n",
            " 'Loss/regularization_loss': 0.13186006,\n",
            " 'Loss/total_loss': 0.6009663,\n",
            " 'learning_rate': 0.07647194}\n",
            "I0826 16:48:55.812156 134228293607424 model_lib_v2.py:708] {'Loss/classification_loss': 0.28215322,\n",
            " 'Loss/localization_loss': 0.18695301,\n",
            " 'Loss/regularization_loss': 0.13186006,\n",
            " 'Loss/total_loss': 0.6009663,\n",
            " 'learning_rate': 0.07647194}\n",
            "INFO:tensorflow:Step 7700 per-step time 0.078s\n",
            "I0826 16:49:03.631430 134228293607424 model_lib_v2.py:705] Step 7700 per-step time 0.078s\n",
            "INFO:tensorflow:{'Loss/classification_loss': 0.10731856,\n",
            " 'Loss/localization_loss': 0.094653934,\n",
            " 'Loss/regularization_loss': 0.13141535,\n",
            " 'Loss/total_loss': 0.33338785,\n",
            " 'learning_rate': 0.07636588}\n",
            "I0826 16:49:03.634380 134228293607424 model_lib_v2.py:708] {'Loss/classification_loss': 0.10731856,\n",
            " 'Loss/localization_loss': 0.094653934,\n",
            " 'Loss/regularization_loss': 0.13141535,\n",
            " 'Loss/total_loss': 0.33338785,\n",
            " 'learning_rate': 0.07636588}\n",
            "INFO:tensorflow:Step 7800 per-step time 0.116s\n",
            "I0826 16:49:15.223030 134228293607424 model_lib_v2.py:705] Step 7800 per-step time 0.116s\n",
            "INFO:tensorflow:{'Loss/classification_loss': 0.11655732,\n",
            " 'Loss/localization_loss': 0.08580493,\n",
            " 'Loss/regularization_loss': 0.13099425,\n",
            " 'Loss/total_loss': 0.3333565,\n",
            " 'learning_rate': 0.07625833}\n",
            "I0826 16:49:15.223428 134228293607424 model_lib_v2.py:708] {'Loss/classification_loss': 0.11655732,\n",
            " 'Loss/localization_loss': 0.08580493,\n",
            " 'Loss/regularization_loss': 0.13099425,\n",
            " 'Loss/total_loss': 0.3333565,\n",
            " 'learning_rate': 0.07625833}\n",
            "INFO:tensorflow:Step 7900 per-step time 0.111s\n",
            "I0826 16:49:26.311610 134228293607424 model_lib_v2.py:705] Step 7900 per-step time 0.111s\n",
            "INFO:tensorflow:{'Loss/classification_loss': 0.09026889,\n",
            " 'Loss/localization_loss': 0.09274907,\n",
            " 'Loss/regularization_loss': 0.13052036,\n",
            " 'Loss/total_loss': 0.3135383,\n",
            " 'learning_rate': 0.07614928}\n",
            "I0826 16:49:26.312034 134228293607424 model_lib_v2.py:708] {'Loss/classification_loss': 0.09026889,\n",
            " 'Loss/localization_loss': 0.09274907,\n",
            " 'Loss/regularization_loss': 0.13052036,\n",
            " 'Loss/total_loss': 0.3135383,\n",
            " 'learning_rate': 0.07614928}\n",
            "INFO:tensorflow:Step 8000 per-step time 0.109s\n",
            "I0826 16:49:37.204586 134228293607424 model_lib_v2.py:705] Step 8000 per-step time 0.109s\n",
            "INFO:tensorflow:{'Loss/classification_loss': 0.09811812,\n",
            " 'Loss/localization_loss': 0.06351126,\n",
            " 'Loss/regularization_loss': 0.13005772,\n",
            " 'Loss/total_loss': 0.2916871,\n",
            " 'learning_rate': 0.07603875}\n",
            "I0826 16:49:37.204956 134228293607424 model_lib_v2.py:708] {'Loss/classification_loss': 0.09811812,\n",
            " 'Loss/localization_loss': 0.06351126,\n",
            " 'Loss/regularization_loss': 0.13005772,\n",
            " 'Loss/total_loss': 0.2916871,\n",
            " 'learning_rate': 0.07603875}\n",
            "INFO:tensorflow:Step 8100 per-step time 0.102s\n",
            "I0826 16:49:47.373791 134228293607424 model_lib_v2.py:705] Step 8100 per-step time 0.102s\n",
            "INFO:tensorflow:{'Loss/classification_loss': 0.088173345,\n",
            " 'Loss/localization_loss': 0.060473114,\n",
            " 'Loss/regularization_loss': 0.12954326,\n",
            " 'Loss/total_loss': 0.27818972,\n",
            " 'learning_rate': 0.07592674}\n",
            "I0826 16:49:47.374150 134228293607424 model_lib_v2.py:708] {'Loss/classification_loss': 0.088173345,\n",
            " 'Loss/localization_loss': 0.060473114,\n",
            " 'Loss/regularization_loss': 0.12954326,\n",
            " 'Loss/total_loss': 0.27818972,\n",
            " 'learning_rate': 0.07592674}\n",
            "INFO:tensorflow:Step 8200 per-step time 0.065s\n",
            "I0826 16:49:53.880433 134228293607424 model_lib_v2.py:705] Step 8200 per-step time 0.065s\n",
            "INFO:tensorflow:{'Loss/classification_loss': 0.11491155,\n",
            " 'Loss/localization_loss': 0.099636205,\n",
            " 'Loss/regularization_loss': 0.1291111,\n",
            " 'Loss/total_loss': 0.34365886,\n",
            " 'learning_rate': 0.075813256}\n",
            "I0826 16:49:53.880722 134228293607424 model_lib_v2.py:708] {'Loss/classification_loss': 0.11491155,\n",
            " 'Loss/localization_loss': 0.099636205,\n",
            " 'Loss/regularization_loss': 0.1291111,\n",
            " 'Loss/total_loss': 0.34365886,\n",
            " 'learning_rate': 0.075813256}\n",
            "INFO:tensorflow:Step 8300 per-step time 0.102s\n",
            "I0826 16:50:04.054444 134228293607424 model_lib_v2.py:705] Step 8300 per-step time 0.102s\n",
            "INFO:tensorflow:{'Loss/classification_loss': 0.096504934,\n",
            " 'Loss/localization_loss': 0.08331273,\n",
            " 'Loss/regularization_loss': 0.12859617,\n",
            " 'Loss/total_loss': 0.30841383,\n",
            " 'learning_rate': 0.07569829}\n",
            "I0826 16:50:04.054831 134228293607424 model_lib_v2.py:708] {'Loss/classification_loss': 0.096504934,\n",
            " 'Loss/localization_loss': 0.08331273,\n",
            " 'Loss/regularization_loss': 0.12859617,\n",
            " 'Loss/total_loss': 0.30841383,\n",
            " 'learning_rate': 0.07569829}\n",
            "INFO:tensorflow:Step 8400 per-step time 0.080s\n",
            "I0826 16:50:12.074888 134228293607424 model_lib_v2.py:705] Step 8400 per-step time 0.080s\n",
            "INFO:tensorflow:{'Loss/classification_loss': 0.086653195,\n",
            " 'Loss/localization_loss': 0.028839713,\n",
            " 'Loss/regularization_loss': 0.12810792,\n",
            " 'Loss/total_loss': 0.24360083,\n",
            " 'learning_rate': 0.07558186}\n",
            "I0826 16:50:12.075209 134228293607424 model_lib_v2.py:708] {'Loss/classification_loss': 0.086653195,\n",
            " 'Loss/localization_loss': 0.028839713,\n",
            " 'Loss/regularization_loss': 0.12810792,\n",
            " 'Loss/total_loss': 0.24360083,\n",
            " 'learning_rate': 0.07558186}\n",
            "INFO:tensorflow:Step 8500 per-step time 0.065s\n",
            "I0826 16:50:18.572026 134228293607424 model_lib_v2.py:705] Step 8500 per-step time 0.065s\n",
            "INFO:tensorflow:{'Loss/classification_loss': 0.074566424,\n",
            " 'Loss/localization_loss': 0.04953163,\n",
            " 'Loss/regularization_loss': 0.12763171,\n",
            " 'Loss/total_loss': 0.25172976,\n",
            " 'learning_rate': 0.07546397}\n",
            "I0826 16:50:18.572330 134228293607424 model_lib_v2.py:708] {'Loss/classification_loss': 0.074566424,\n",
            " 'Loss/localization_loss': 0.04953163,\n",
            " 'Loss/regularization_loss': 0.12763171,\n",
            " 'Loss/total_loss': 0.25172976,\n",
            " 'learning_rate': 0.07546397}\n",
            "INFO:tensorflow:Step 8600 per-step time 0.100s\n",
            "I0826 16:50:28.565988 134228293607424 model_lib_v2.py:705] Step 8600 per-step time 0.100s\n",
            "INFO:tensorflow:{'Loss/classification_loss': 0.112710685,\n",
            " 'Loss/localization_loss': 0.056008637,\n",
            " 'Loss/regularization_loss': 0.12721096,\n",
            " 'Loss/total_loss': 0.29593027,\n",
            " 'learning_rate': 0.075344615}\n",
            "I0826 16:50:28.566404 134228293607424 model_lib_v2.py:708] {'Loss/classification_loss': 0.112710685,\n",
            " 'Loss/localization_loss': 0.056008637,\n",
            " 'Loss/regularization_loss': 0.12721096,\n",
            " 'Loss/total_loss': 0.29593027,\n",
            " 'learning_rate': 0.075344615}\n",
            "INFO:tensorflow:Step 8700 per-step time 0.083s\n",
            "I0826 16:50:36.890910 134228293607424 model_lib_v2.py:705] Step 8700 per-step time 0.083s\n",
            "INFO:tensorflow:{'Loss/classification_loss': 0.13932751,\n",
            " 'Loss/localization_loss': 0.12353216,\n",
            " 'Loss/regularization_loss': 0.1268382,\n",
            " 'Loss/total_loss': 0.38969788,\n",
            " 'learning_rate': 0.07522382}\n",
            "I0826 16:50:36.891222 134228293607424 model_lib_v2.py:708] {'Loss/classification_loss': 0.13932751,\n",
            " 'Loss/localization_loss': 0.12353216,\n",
            " 'Loss/regularization_loss': 0.1268382,\n",
            " 'Loss/total_loss': 0.38969788,\n",
            " 'learning_rate': 0.07522382}\n",
            "INFO:tensorflow:Step 8800 per-step time 0.064s\n",
            "I0826 16:50:43.317144 134228293607424 model_lib_v2.py:705] Step 8800 per-step time 0.064s\n",
            "INFO:tensorflow:{'Loss/classification_loss': 0.12225699,\n",
            " 'Loss/localization_loss': 0.1569784,\n",
            " 'Loss/regularization_loss': 0.12652531,\n",
            " 'Loss/total_loss': 0.4057607,\n",
            " 'learning_rate': 0.07510157}\n",
            "I0826 16:50:43.317456 134228293607424 model_lib_v2.py:708] {'Loss/classification_loss': 0.12225699,\n",
            " 'Loss/localization_loss': 0.1569784,\n",
            " 'Loss/regularization_loss': 0.12652531,\n",
            " 'Loss/total_loss': 0.4057607,\n",
            " 'learning_rate': 0.07510157}\n",
            "INFO:tensorflow:Step 8900 per-step time 0.096s\n",
            "I0826 16:50:52.971384 134228293607424 model_lib_v2.py:705] Step 8900 per-step time 0.096s\n",
            "INFO:tensorflow:{'Loss/classification_loss': 0.078860044,\n",
            " 'Loss/localization_loss': 0.03970383,\n",
            " 'Loss/regularization_loss': 0.12613471,\n",
            " 'Loss/total_loss': 0.24469858,\n",
            " 'learning_rate': 0.074977875}\n",
            "I0826 16:50:52.971991 134228293607424 model_lib_v2.py:708] {'Loss/classification_loss': 0.078860044,\n",
            " 'Loss/localization_loss': 0.03970383,\n",
            " 'Loss/regularization_loss': 0.12613471,\n",
            " 'Loss/total_loss': 0.24469858,\n",
            " 'learning_rate': 0.074977875}\n",
            "INFO:tensorflow:Step 9000 per-step time 0.085s\n",
            "I0826 16:51:01.508645 134228293607424 model_lib_v2.py:705] Step 9000 per-step time 0.085s\n",
            "INFO:tensorflow:{'Loss/classification_loss': 0.08909216,\n",
            " 'Loss/localization_loss': 0.09674642,\n",
            " 'Loss/regularization_loss': 0.12571608,\n",
            " 'Loss/total_loss': 0.31155467,\n",
            " 'learning_rate': 0.07485275}\n",
            "I0826 16:51:01.508973 134228293607424 model_lib_v2.py:708] {'Loss/classification_loss': 0.08909216,\n",
            " 'Loss/localization_loss': 0.09674642,\n",
            " 'Loss/regularization_loss': 0.12571608,\n",
            " 'Loss/total_loss': 0.31155467,\n",
            " 'learning_rate': 0.07485275}\n",
            "INFO:tensorflow:Step 9100 per-step time 0.075s\n",
            "I0826 16:51:08.988147 134228293607424 model_lib_v2.py:705] Step 9100 per-step time 0.075s\n",
            "INFO:tensorflow:{'Loss/classification_loss': 0.087925814,\n",
            " 'Loss/localization_loss': 0.03293038,\n",
            " 'Loss/regularization_loss': 0.12534481,\n",
            " 'Loss/total_loss': 0.24620101,\n",
            " 'learning_rate': 0.07472619}\n",
            "I0826 16:51:08.988515 134228293607424 model_lib_v2.py:708] {'Loss/classification_loss': 0.087925814,\n",
            " 'Loss/localization_loss': 0.03293038,\n",
            " 'Loss/regularization_loss': 0.12534481,\n",
            " 'Loss/total_loss': 0.24620101,\n",
            " 'learning_rate': 0.07472619}\n",
            "INFO:tensorflow:Step 9200 per-step time 0.100s\n",
            "I0826 16:51:18.960592 134228293607424 model_lib_v2.py:705] Step 9200 per-step time 0.100s\n",
            "INFO:tensorflow:{'Loss/classification_loss': 0.11968517,\n",
            " 'Loss/localization_loss': 0.06684572,\n",
            " 'Loss/regularization_loss': 0.12489234,\n",
            " 'Loss/total_loss': 0.31142324,\n",
            " 'learning_rate': 0.07459819}\n",
            "I0826 16:51:18.960979 134228293607424 model_lib_v2.py:708] {'Loss/classification_loss': 0.11968517,\n",
            " 'Loss/localization_loss': 0.06684572,\n",
            " 'Loss/regularization_loss': 0.12489234,\n",
            " 'Loss/total_loss': 0.31142324,\n",
            " 'learning_rate': 0.07459819}\n",
            "INFO:tensorflow:Step 9300 per-step time 0.082s\n",
            "I0826 16:51:27.139234 134228293607424 model_lib_v2.py:705] Step 9300 per-step time 0.082s\n",
            "INFO:tensorflow:{'Loss/classification_loss': 0.10767151,\n",
            " 'Loss/localization_loss': 0.05263535,\n",
            " 'Loss/regularization_loss': 0.12447656,\n",
            " 'Loss/total_loss': 0.28478342,\n",
            " 'learning_rate': 0.074468784}\n",
            "I0826 16:51:27.139533 134228293607424 model_lib_v2.py:708] {'Loss/classification_loss': 0.10767151,\n",
            " 'Loss/localization_loss': 0.05263535,\n",
            " 'Loss/regularization_loss': 0.12447656,\n",
            " 'Loss/total_loss': 0.28478342,\n",
            " 'learning_rate': 0.074468784}\n",
            "INFO:tensorflow:Step 9400 per-step time 0.064s\n",
            "I0826 16:51:33.547766 134228293607424 model_lib_v2.py:705] Step 9400 per-step time 0.064s\n",
            "INFO:tensorflow:{'Loss/classification_loss': 0.12134296,\n",
            " 'Loss/localization_loss': 0.09844201,\n",
            " 'Loss/regularization_loss': 0.124145076,\n",
            " 'Loss/total_loss': 0.34393007,\n",
            " 'learning_rate': 0.074337944}\n",
            "I0826 16:51:33.548066 134228293607424 model_lib_v2.py:708] {'Loss/classification_loss': 0.12134296,\n",
            " 'Loss/localization_loss': 0.09844201,\n",
            " 'Loss/regularization_loss': 0.124145076,\n",
            " 'Loss/total_loss': 0.34393007,\n",
            " 'learning_rate': 0.074337944}\n",
            "INFO:tensorflow:Step 9500 per-step time 0.094s\n",
            "I0826 16:51:42.923914 134228293607424 model_lib_v2.py:705] Step 9500 per-step time 0.094s\n",
            "INFO:tensorflow:{'Loss/classification_loss': 0.086323656,\n",
            " 'Loss/localization_loss': 0.02061969,\n",
            " 'Loss/regularization_loss': 0.123757415,\n",
            " 'Loss/total_loss': 0.23070076,\n",
            " 'learning_rate': 0.074205704}\n",
            "I0826 16:51:42.924314 134228293607424 model_lib_v2.py:708] {'Loss/classification_loss': 0.086323656,\n",
            " 'Loss/localization_loss': 0.02061969,\n",
            " 'Loss/regularization_loss': 0.123757415,\n",
            " 'Loss/total_loss': 0.23070076,\n",
            " 'learning_rate': 0.074205704}\n",
            "INFO:tensorflow:Step 9600 per-step time 0.085s\n",
            "I0826 16:51:51.470067 134228293607424 model_lib_v2.py:705] Step 9600 per-step time 0.085s\n",
            "INFO:tensorflow:{'Loss/classification_loss': 0.10049168,\n",
            " 'Loss/localization_loss': 0.03671701,\n",
            " 'Loss/regularization_loss': 0.12341665,\n",
            " 'Loss/total_loss': 0.26062533,\n",
            " 'learning_rate': 0.07407206}\n",
            "I0826 16:51:51.470401 134228293607424 model_lib_v2.py:708] {'Loss/classification_loss': 0.10049168,\n",
            " 'Loss/localization_loss': 0.03671701,\n",
            " 'Loss/regularization_loss': 0.12341665,\n",
            " 'Loss/total_loss': 0.26062533,\n",
            " 'learning_rate': 0.07407206}\n",
            "INFO:tensorflow:Step 9700 per-step time 0.064s\n",
            "I0826 16:51:57.854204 134228293607424 model_lib_v2.py:705] Step 9700 per-step time 0.064s\n",
            "INFO:tensorflow:{'Loss/classification_loss': 0.07738257,\n",
            " 'Loss/localization_loss': 0.03603086,\n",
            " 'Loss/regularization_loss': 0.12296419,\n",
            " 'Loss/total_loss': 0.23637763,\n",
            " 'learning_rate': 0.073937014}\n",
            "I0826 16:51:57.854519 134228293607424 model_lib_v2.py:708] {'Loss/classification_loss': 0.07738257,\n",
            " 'Loss/localization_loss': 0.03603086,\n",
            " 'Loss/regularization_loss': 0.12296419,\n",
            " 'Loss/total_loss': 0.23637763,\n",
            " 'learning_rate': 0.073937014}\n",
            "INFO:tensorflow:Step 9800 per-step time 0.093s\n",
            "I0826 16:52:07.187273 134228293607424 model_lib_v2.py:705] Step 9800 per-step time 0.093s\n",
            "INFO:tensorflow:{'Loss/classification_loss': 0.12878938,\n",
            " 'Loss/localization_loss': 0.07130949,\n",
            " 'Loss/regularization_loss': 0.122528546,\n",
            " 'Loss/total_loss': 0.32262743,\n",
            " 'learning_rate': 0.07380057}\n",
            "I0826 16:52:07.187640 134228293607424 model_lib_v2.py:708] {'Loss/classification_loss': 0.12878938,\n",
            " 'Loss/localization_loss': 0.07130949,\n",
            " 'Loss/regularization_loss': 0.122528546,\n",
            " 'Loss/total_loss': 0.32262743,\n",
            " 'learning_rate': 0.07380057}\n",
            "INFO:tensorflow:Step 9900 per-step time 0.088s\n",
            "I0826 16:52:15.998809 134228293607424 model_lib_v2.py:705] Step 9900 per-step time 0.088s\n",
            "INFO:tensorflow:{'Loss/classification_loss': 0.14764382,\n",
            " 'Loss/localization_loss': 0.14184235,\n",
            " 'Loss/regularization_loss': 0.12224557,\n",
            " 'Loss/total_loss': 0.41173175,\n",
            " 'learning_rate': 0.073662736}\n",
            "I0826 16:52:15.999137 134228293607424 model_lib_v2.py:708] {'Loss/classification_loss': 0.14764382,\n",
            " 'Loss/localization_loss': 0.14184235,\n",
            " 'Loss/regularization_loss': 0.12224557,\n",
            " 'Loss/total_loss': 0.41173175,\n",
            " 'learning_rate': 0.073662736}\n",
            "INFO:tensorflow:Step 10000 per-step time 0.064s\n",
            "I0826 16:52:22.441882 134228293607424 model_lib_v2.py:705] Step 10000 per-step time 0.064s\n",
            "INFO:tensorflow:{'Loss/classification_loss': 0.12624146,\n",
            " 'Loss/localization_loss': 0.14113957,\n",
            " 'Loss/regularization_loss': 0.12193068,\n",
            " 'Loss/total_loss': 0.3893117,\n",
            " 'learning_rate': 0.07352352}\n",
            "I0826 16:52:22.442191 134228293607424 model_lib_v2.py:708] {'Loss/classification_loss': 0.12624146,\n",
            " 'Loss/localization_loss': 0.14113957,\n",
            " 'Loss/regularization_loss': 0.12193068,\n",
            " 'Loss/total_loss': 0.3893117,\n",
            " 'learning_rate': 0.07352352}\n"
          ]
        }
      ]
    },
    {
      "cell_type": "code",
      "execution_count": null,
      "metadata": {
        "id": "i3ZsJR-qpfDH"
      },
      "outputs": [],
      "source": [
        "!{command}"
      ]
    },
    {
      "cell_type": "markdown",
      "metadata": {
        "id": "orvRk02UpfDI"
      },
      "source": [
        "# 8. Load Train Model From Checkpoint"
      ]
    },
    {
      "cell_type": "code",
      "execution_count": null,
      "metadata": {
        "id": "8TYk4_oIpfDI"
      },
      "outputs": [],
      "source": [
        "import os\n",
        "import tensorflow as tf\n",
        "from object_detection.utils import label_map_util\n",
        "from object_detection.utils import visualization_utils as viz_utils\n",
        "from object_detection.builders import model_builder\n",
        "from object_detection.utils import config_util"
      ]
    },
    {
      "cell_type": "code",
      "source": [
        "!pip install --upgrade numpy"
      ],
      "metadata": {
        "id": "t84bum550If3",
        "colab": {
          "base_uri": "https://localhost:8080/"
        },
        "outputId": "24925365-5b80-4b2b-a16a-3a8b8f138989"
      },
      "execution_count": null,
      "outputs": [
        {
          "output_type": "stream",
          "name": "stdout",
          "text": [
            "Requirement already satisfied: numpy in /usr/local/lib/python3.10/dist-packages (1.25.1)\n"
          ]
        }
      ]
    },
    {
      "cell_type": "code",
      "execution_count": null,
      "metadata": {
        "id": "tDnQg-cYpfDI"
      },
      "outputs": [],
      "source": [
        "# Load pipeline config and build a detection model\n",
        "configs = config_util.get_configs_from_pipeline_file(files['PIPELINE_CONFIG'])\n",
        "detection_model = model_builder.build(model_config=configs['model'], is_training=False)\n",
        "\n",
        "# Restore checkpoint\n",
        "ckpt = tf.compat.v2.train.Checkpoint(model=detection_model)\n",
        "ckpt.restore(os.path.join(paths['CHECKPOINT_PATH'], 'ckpt-11')).expect_partial()\n",
        "\n",
        "@tf.function\n",
        "def detect_fn(image):\n",
        "    image, shapes = detection_model.preprocess(image)\n",
        "    prediction_dict = detection_model.predict(image, shapes)\n",
        "    detections = detection_model.postprocess(prediction_dict, shapes)\n",
        "    return detections"
      ]
    },
    {
      "cell_type": "markdown",
      "metadata": {
        "id": "0EmsmbBZpfDI"
      },
      "source": [
        "# 9. Detect from an Image"
      ]
    },
    {
      "cell_type": "code",
      "execution_count": null,
      "metadata": {
        "id": "Y_MKiuZ4pfDI"
      },
      "outputs": [],
      "source": [
        "import cv2\n",
        "import numpy as np\n",
        "from matplotlib import pyplot as plt\n",
        "%matplotlib inline"
      ]
    },
    {
      "cell_type": "code",
      "execution_count": null,
      "metadata": {
        "id": "cBDbIhNapfDI"
      },
      "outputs": [],
      "source": [
        "category_index = label_map_util.create_category_index_from_labelmap(files['LABELMAP'])"
      ]
    },
    {
      "cell_type": "code",
      "execution_count": null,
      "metadata": {
        "id": "Lx3crOhOzITB"
      },
      "outputs": [],
      "source": [
        "IMAGE_PATH = os.path.join(paths['IMAGE_PATH'], '/content/Tensorflow/workspace/images/test/Cars425.png')"
      ]
    },
    {
      "cell_type": "code",
      "execution_count": null,
      "metadata": {
        "id": "Tpzn1SMry1yK",
        "colab": {
          "base_uri": "https://localhost:8080/",
          "height": 295
        },
        "outputId": "b69bf9d7-20da-4002-9743-626f99735ebf"
      },
      "outputs": [
        {
          "output_type": "display_data",
          "data": {
            "text/plain": [
              "<Figure size 640x480 with 1 Axes>"
            ],
            "image/png": "[encoded data removed]"
          },
          "metadata": {}
        }
      ],
      "source": [
        "img = cv2.imread(IMAGE_PATH)\n",
        "image_np = np.array(img)\n",
        "\n",
        "input_tensor = tf.convert_to_tensor(np.expand_dims(image_np, 0), dtype=tf.float32)\n",
        "detections = detect_fn(input_tensor)\n",
        "\n",
        "num_detections = int(detections.pop('num_detections'))\n",
        "detections = {key: value[0, :num_detections].numpy()\n",
        "              for key, value in detections.items()}\n",
        "detections['num_detections'] = num_detections\n",
        "\n",
        "# detection_classes should be ints.\n",
        "detections['detection_classes'] = detections['detection_classes'].astype(np.int64)\n",
        "\n",
        "label_id_offset = 1\n",
        "image_np_with_detections = image_np.copy()\n",
        "\n",
        "viz_utils.visualize_boxes_and_labels_on_image_array(\n",
        "            image_np_with_detections,\n",
        "            detections['detection_boxes'],\n",
        "            detections['detection_classes']+label_id_offset,\n",
        "            detections['detection_scores'],\n",
        "            category_index,\n",
        "            use_normalized_coordinates=True,\n",
        "            max_boxes_to_draw=5,\n",
        "            min_score_thresh=.3,\n",
        "            agnostic_mode=False)\n",
        "\n",
        "plt.imshow(cv2.cvtColor(image_np_with_detections, cv2.COLOR_BGR2RGB))\n",
        "plt.show()"
      ]
    },
    {
      "cell_type": "code",
      "execution_count": null,
      "metadata": {
        "id": "FcUReFRp8DU7"
      },
      "outputs": [],
      "source": [
        "detections.keys()"
      ]
    },
    {
      "cell_type": "markdown",
      "metadata": {
        "id": "5a3oKvlv8DU7"
      },
      "source": [
        "# Apply OCR to Detection"
      ]
    },
    {
      "cell_type": "code",
      "execution_count": null,
      "metadata": {
        "id": "7qqWUBEI8DU7",
        "colab": {
          "base_uri": "https://localhost:8080/"
        },
        "outputId": "c37f8804-cb50-4438-f462-cd6c1113e2aa"
      },
      "outputs": [
        {
          "output_type": "stream",
          "name": "stdout",
          "text": [
            "Collecting easyocr\n",
            "  Downloading easyocr-1.7.0-py3-none-any.whl (2.9 MB)\n",
            "\u001b[2K     \u001b[90m━━━━━━━━━━━━━━━━━━━━━━━━━━━━━━━━━━━━━━━━\u001b[0m \u001b[32m2.9/2.9 MB\u001b[0m \u001b[31m13.5 MB/s\u001b[0m eta \u001b[36m0:00:00\u001b[0m\n",
            "\u001b[?25hRequirement already satisfied: torch in /usr/local/lib/python3.10/dist-packages (from easyocr) (2.0.1+cu118)\n",
            "Requirement already satisfied: torchvision>=0.5 in /usr/local/lib/python3.10/dist-packages (from easyocr) (0.15.2+cu118)\n",
            "Requirement already satisfied: opencv-python-headless in /usr/local/lib/python3.10/dist-packages (from easyocr) (4.8.0.76)\n",
            "Requirement already satisfied: scipy in /usr/local/lib/python3.10/dist-packages (from easyocr) (1.10.1)\n",
            "Requirement already satisfied: numpy in /usr/local/lib/python3.10/dist-packages (from easyocr) (1.25.2)\n",
            "Requirement already satisfied: Pillow in /usr/local/lib/python3.10/dist-packages (from easyocr) (9.4.0)\n",
            "Requirement already satisfied: scikit-image in /usr/local/lib/python3.10/dist-packages (from easyocr) (0.19.3)\n",
            "Collecting python-bidi (from easyocr)\n",
            "  Downloading python_bidi-0.4.2-py2.py3-none-any.whl (30 kB)\n",
            "Requirement already satisfied: PyYAML in /usr/local/lib/python3.10/dist-packages (from easyocr) (5.3.1)\n",
            "Requirement already satisfied: Shapely in /usr/local/lib/python3.10/dist-packages (from easyocr) (2.0.1)\n",
            "Collecting pyclipper (from easyocr)\n",
            "  Downloading pyclipper-1.3.0.post4-cp310-cp310-manylinux_2_12_x86_64.manylinux2010_x86_64.whl (813 kB)\n",
            "\u001b[2K     \u001b[90m━━━━━━━━━━━━━━━━━━━━━━━━━━━━━━━━━━━━━━\u001b[0m \u001b[32m813.9/813.9 kB\u001b[0m \u001b[31m22.8 MB/s\u001b[0m eta \u001b[36m0:00:00\u001b[0m\n",
            "\u001b[?25hCollecting ninja (from easyocr)\n",
            "  Downloading ninja-1.11.1-py2.py3-none-manylinux_2_12_x86_64.manylinux2010_x86_64.whl (145 kB)\n",
            "\u001b[2K     \u001b[90m━━━━━━━━━━━━━━━━━━━━━━━━━━━━━━━━━━━━━━\u001b[0m \u001b[32m146.0/146.0 kB\u001b[0m \u001b[31m19.9 MB/s\u001b[0m eta \u001b[36m0:00:00\u001b[0m\n",
            "\u001b[?25hRequirement already satisfied: requests in /usr/local/lib/python3.10/dist-packages (from torchvision>=0.5->easyocr) (2.31.0)\n",
            "Requirement already satisfied: filelock in /usr/local/lib/python3.10/dist-packages (from torch->easyocr) (3.12.2)\n",
            "Requirement already satisfied: typing-extensions in /usr/local/lib/python3.10/dist-packages (from torch->easyocr) (4.5.0)\n",
            "Requirement already satisfied: sympy in /usr/local/lib/python3.10/dist-packages (from torch->easyocr) (1.12)\n",
            "Requirement already satisfied: networkx in /usr/local/lib/python3.10/dist-packages (from torch->easyocr) (3.1)\n",
            "Requirement already satisfied: jinja2 in /usr/local/lib/python3.10/dist-packages (from torch->easyocr) (3.1.2)\n",
            "Requirement already satisfied: triton==2.0.0 in /usr/local/lib/python3.10/dist-packages (from torch->easyocr) (2.0.0)\n",
            "Requirement already satisfied: cmake in /usr/local/lib/python3.10/dist-packages (from triton==2.0.0->torch->easyocr) (3.27.2)\n",
            "Requirement already satisfied: lit in /usr/local/lib/python3.10/dist-packages (from triton==2.0.0->torch->easyocr) (16.0.6)\n",
            "Requirement already satisfied: six in /usr/local/lib/python3.10/dist-packages (from python-bidi->easyocr) (1.16.0)\n",
            "Requirement already satisfied: imageio>=2.4.1 in /usr/local/lib/python3.10/dist-packages (from scikit-image->easyocr) (2.31.1)\n",
            "Requirement already satisfied: tifffile>=2019.7.26 in /usr/local/lib/python3.10/dist-packages (from scikit-image->easyocr) (2023.8.12)\n",
            "Requirement already satisfied: PyWavelets>=1.1.1 in /usr/local/lib/python3.10/dist-packages (from scikit-image->easyocr) (1.4.1)\n",
            "Requirement already satisfied: packaging>=20.0 in /usr/local/lib/python3.10/dist-packages (from scikit-image->easyocr) (23.1)\n",
            "Requirement already satisfied: MarkupSafe>=2.0 in /usr/local/lib/python3.10/dist-packages (from jinja2->torch->easyocr) (2.1.3)\n",
            "Requirement already satisfied: charset-normalizer<4,>=2 in /usr/local/lib/python3.10/dist-packages (from requests->torchvision>=0.5->easyocr) (3.2.0)\n",
            "Requirement already satisfied: idna<4,>=2.5 in /usr/local/lib/python3.10/dist-packages (from requests->torchvision>=0.5->easyocr) (3.4)\n",
            "Requirement already satisfied: urllib3<3,>=1.21.1 in /usr/local/lib/python3.10/dist-packages (from requests->torchvision>=0.5->easyocr) (2.0.4)\n",
            "Requirement already satisfied: certifi>=2017.4.17 in /usr/local/lib/python3.10/dist-packages (from requests->torchvision>=0.5->easyocr) (2023.7.22)\n",
            "Requirement already satisfied: mpmath>=0.19 in /usr/local/lib/python3.10/dist-packages (from sympy->torch->easyocr) (1.3.0)\n",
            "Installing collected packages: pyclipper, ninja, python-bidi, easyocr\n",
            "Successfully installed easyocr-1.7.0 ninja-1.11.1 pyclipper-1.3.0.post4 python-bidi-0.4.2\n"
          ]
        }
      ],
      "source": [
        "!pip install easyocr"
      ]
    },
    {
      "cell_type": "code",
      "execution_count": null,
      "metadata": {
        "id": "3E-_SxdM8DU7"
      },
      "outputs": [],
      "source": [
        "!pip install torch==1.8.1+cu111 torchvision==0.9.1+cu111 torchaudio===0.8.1 -f https://download.pytorch.org/whl/torch_stable.html"
      ]
    },
    {
      "cell_type": "code",
      "execution_count": null,
      "metadata": {
        "id": "QNQb0m2l8DU7"
      },
      "outputs": [],
      "source": [
        "import easyocr"
      ]
    },
    {
      "cell_type": "code",
      "execution_count": null,
      "metadata": {
        "id": "1P9x6a7j8DU8"
      },
      "outputs": [],
      "source": [
        "detection_threshold = 0.3"
      ]
    },
    {
      "cell_type": "code",
      "execution_count": null,
      "metadata": {
        "id": "QUmvG10-8DU8"
      },
      "outputs": [],
      "source": [
        "image = image_np_with_detections\n",
        "scores = list(filter(lambda x: x> detection_threshold, detections['detection_scores']))\n",
        "boxes = detections['detection_boxes'][:len(scores)]\n",
        "classes = detections['detection_classes'][:len(scores)]"
      ]
    },
    {
      "cell_type": "code",
      "execution_count": null,
      "metadata": {
        "id": "V_lblquM8DU8"
      },
      "outputs": [],
      "source": [
        "width = image.shape[1]\n",
        "height = image.shape[0]"
      ]
    },
    {
      "cell_type": "code",
      "execution_count": null,
      "metadata": {
        "id": "DwQyagbe8DU8",
        "colab": {
          "base_uri": "https://localhost:8080/",
          "height": 326
        },
        "outputId": "9029d6ae-80fc-47f1-81c0-41d3a197ffce"
      },
      "outputs": [
        {
          "output_type": "stream",
          "name": "stderr",
          "text": [
            "WARNING:easyocr.easyocr:Downloading detection model, please wait. This may take several minutes depending upon your network connection.\n"
          ]
        },
        {
          "output_type": "stream",
          "name": "stdout",
          "text": [
            "[0.4492531  0.4167719  0.57713354 0.60150886]\n",
            "[104.226722   208.38594437 133.89498043 300.75442791]\n",
            "Progress: |██████████████████████████████████████████████████| 100.0% Complete"
          ]
        },
        {
          "output_type": "stream",
          "name": "stderr",
          "text": [
            "WARNING:easyocr.easyocr:Downloading recognition model, please wait. This may take several minutes depending upon your network connection.\n"
          ]
        },
        {
          "output_type": "stream",
          "name": "stdout",
          "text": [
            "Progress: |██████████████████████████████████████████████████| 100.0% Complete[([[6, 4], [88, 4], [88, 28], [6, 28]], '6526 JHD', 0.9232446242590897)]\n"
          ]
        },
        {
          "output_type": "display_data",
          "data": {
            "text/plain": [
              "<Figure size 640x480 with 1 Axes>"
            ],
            "image/png": "[encoded data removed]"
          },
          "metadata": {}
        }
      ],
      "source": [
        "# Apply ROI filtering and OCR\n",
        "for idx, box in enumerate(boxes):\n",
        "    print(box)\n",
        "    roi = box*[height, width, height, width]\n",
        "    print(roi)\n",
        "    region = image[int(roi[0]):int(roi[2]),int(roi[1]):int(roi[3])]\n",
        "    reader = easyocr.Reader(['en'])\n",
        "    ocr_result = reader.readtext(region)\n",
        "    print(ocr_result)\n",
        "    plt.imshow(cv2.cvtColor(region, cv2.COLOR_BGR2RGB))"
      ]
    },
    {
      "cell_type": "code",
      "execution_count": null,
      "metadata": {
        "id": "kfaIzBGz8DU8",
        "colab": {
          "base_uri": "https://localhost:8080/"
        },
        "outputId": "8be37385-8029-4cb4-c740-771e422ee424"
      },
      "outputs": [
        {
          "output_type": "stream",
          "name": "stdout",
          "text": [
            "24\n",
            "6526 JHD\n"
          ]
        }
      ],
      "source": [
        "for result in ocr_result:\n",
        "    print(np.sum(np.subtract(result[0][2],result[0][1])))\n",
        "    print(result[1])"
      ]
    },
    {
      "cell_type": "markdown",
      "metadata": {
        "id": "qxKjnySL8DU8"
      },
      "source": [
        "# OCR Filtering"
      ]
    },
    {
      "cell_type": "code",
      "execution_count": null,
      "metadata": {
        "id": "NhIHD-g78DU8"
      },
      "outputs": [],
      "source": [
        "region_threshold = 0.05"
      ]
    },
    {
      "cell_type": "code",
      "execution_count": null,
      "metadata": {
        "id": "ufiiVMQb8DU8"
      },
      "outputs": [],
      "source": [
        "def filter_text(region, ocr_result, region_threshold):\n",
        "    rectangle_size = region.shape[0]*region.shape[1]\n",
        "\n",
        "    plate = []\n",
        "    for result in ocr_result:\n",
        "        length = np.sum(np.subtract(result[0][1], result[0][0]))\n",
        "        height = np.sum(np.subtract(result[0][2], result[0][1]))\n",
        "\n",
        "        if length*height / rectangle_size > region_threshold:\n",
        "            plate.append(result[1])\n",
        "    return plate"
      ]
    },
    {
      "cell_type": "code",
      "execution_count": null,
      "metadata": {
        "id": "sp_oKGNM8DU8",
        "colab": {
          "base_uri": "https://localhost:8080/"
        },
        "outputId": "2c546d21-caa0-417a-e69c-acc3da9aa2f1"
      },
      "outputs": [
        {
          "output_type": "execute_result",
          "data": {
            "text/plain": [
              "['ALR 486']"
            ]
          },
          "metadata": {},
          "execution_count": 38
        }
      ],
      "source": [
        "filter_text(region, ocr_result, region_threshold)"
      ]
    },
    {
      "cell_type": "markdown",
      "metadata": {
        "id": "vCNXOvLS8DU9"
      },
      "source": [
        "# Bring it Together"
      ]
    },
    {
      "cell_type": "code",
      "execution_count": null,
      "metadata": {
        "id": "L54D8S8r8DU9"
      },
      "outputs": [],
      "source": [
        "region_threshold = 0.4"
      ]
    },
    {
      "cell_type": "code",
      "execution_count": null,
      "metadata": {
        "id": "-W3OwKbA8DU9"
      },
      "outputs": [],
      "source": [
        "def ocr_it(image, detections, detection_threshold, region_threshold):\n",
        "\n",
        "    # Scores, boxes and classes above threhold\n",
        "    scores = list(filter(lambda x: x> detection_threshold, detections['detection_scores']))\n",
        "    boxes = detections['detection_boxes'][:len(scores)]\n",
        "    classes = detections['detection_classes'][:len(scores)]\n",
        "\n",
        "    # Full image dimensions\n",
        "    width = image.shape[1]\n",
        "    height = image.shape[0]\n",
        "\n",
        "    # Apply ROI filtering and OCR\n",
        "    for idx, box in enumerate(boxes):\n",
        "        roi = box*[height, width, height, width]\n",
        "        region = image[int(roi[0]):int(roi[2]),int(roi[1]):int(roi[3])]\n",
        "        reader = easyocr.Reader(['en'])\n",
        "        ocr_result = reader.readtext(region)\n",
        "\n",
        "        text = filter_text(region, ocr_result, region_threshold)\n",
        "\n",
        "        plt.imshow(cv2.cvtColor(region, cv2.COLOR_BGR2RGB))\n",
        "        plt.show()\n",
        "        print(text)\n",
        "        return text, region"
      ]
    },
    {
      "cell_type": "code",
      "execution_count": null,
      "metadata": {
        "scrolled": true,
        "id": "uji9rYPG8DU9",
        "colab": {
          "base_uri": "https://localhost:8080/"
        },
        "outputId": "e1415d3d-9a29-4c27-e318-70bfc5b78e5b"
      },
      "outputs": [
        {
          "output_type": "stream",
          "name": "stdout",
          "text": [
            "['ALR 486']\n"
          ]
        }
      ],
      "source": [
        "text, region = ocr_it(image_np_with_detections, detections, detection_threshold, region_threshold)"
      ]
    },
    {
      "cell_type": "markdown",
      "source": [
        "# **PADDLE OCR**\n",
        "\n"
      ],
      "metadata": {
        "id": "A8lbZTy7LXEG"
      }
    },
    {
      "cell_type": "code",
      "source": [
        "!python -m pip install paddlepaddle-gpu"
      ],
      "metadata": {
        "id": "uQXlHVdbL4FV",
        "colab": {
          "base_uri": "https://localhost:8080/"
        },
        "outputId": "7803047e-d100-4c47-94ea-894c506ceb8a"
      },
      "execution_count": null,
      "outputs": [
        {
          "output_type": "stream",
          "name": "stdout",
          "text": [
            "Collecting paddlepaddle-gpu\n",
            "  Downloading paddlepaddle_gpu-2.5.1-cp310-cp310-manylinux1_x86_64.whl (541.0 MB)\n",
            "\u001b[2K     \u001b[90m━━━━━━━━━━━━━━━━━━━━━━━━━━━━━━━━━━━━━━━\u001b[0m \u001b[32m541.0/541.0 MB\u001b[0m \u001b[31m2.6 MB/s\u001b[0m eta \u001b[36m0:00:00\u001b[0m\n",
            "\u001b[?25hCollecting httpx (from paddlepaddle-gpu)\n",
            "  Downloading httpx-0.24.1-py3-none-any.whl (75 kB)\n",
            "\u001b[2K     \u001b[90m━━━━━━━━━━━━━━━━━━━━━━━━━━━━━━━━━━━━━━━━\u001b[0m \u001b[32m75.4/75.4 kB\u001b[0m \u001b[31m9.5 MB/s\u001b[0m eta \u001b[36m0:00:00\u001b[0m\n",
            "\u001b[?25hRequirement already satisfied: numpy>=1.13 in /usr/local/lib/python3.10/dist-packages (from paddlepaddle-gpu) (1.24.3)\n",
            "Requirement already satisfied: Pillow in /usr/local/lib/python3.10/dist-packages (from paddlepaddle-gpu) (9.4.0)\n",
            "Requirement already satisfied: decorator in /usr/local/lib/python3.10/dist-packages (from paddlepaddle-gpu) (4.4.2)\n",
            "Collecting astor (from paddlepaddle-gpu)\n",
            "  Downloading astor-0.8.1-py2.py3-none-any.whl (27 kB)\n",
            "Collecting paddle-bfloat==0.1.7 (from paddlepaddle-gpu)\n",
            "  Downloading paddle_bfloat-0.1.7-cp310-cp310-manylinux_2_17_x86_64.manylinux2014_x86_64.whl (383 kB)\n",
            "\u001b[2K     \u001b[90m━━━━━━━━━━━━━━━━━━━━━━━━━━━━━━━━━━━━━━\u001b[0m \u001b[32m383.2/383.2 kB\u001b[0m \u001b[31m41.9 MB/s\u001b[0m eta \u001b[36m0:00:00\u001b[0m\n",
            "\u001b[?25hRequirement already satisfied: opt-einsum==3.3.0 in /usr/local/lib/python3.10/dist-packages (from paddlepaddle-gpu) (3.3.0)\n",
            "Requirement already satisfied: protobuf>=3.20.2 in /usr/local/lib/python3.10/dist-packages (from paddlepaddle-gpu) (3.20.3)\n",
            "Requirement already satisfied: certifi in /usr/local/lib/python3.10/dist-packages (from httpx->paddlepaddle-gpu) (2023.7.22)\n",
            "Collecting httpcore<0.18.0,>=0.15.0 (from httpx->paddlepaddle-gpu)\n",
            "  Downloading httpcore-0.17.3-py3-none-any.whl (74 kB)\n",
            "\u001b[2K     \u001b[90m━━━━━━━━━━━━━━━━━━━━━━━━━━━━━━━━━━━━━━━━\u001b[0m \u001b[32m74.5/74.5 kB\u001b[0m \u001b[31m10.6 MB/s\u001b[0m eta \u001b[36m0:00:00\u001b[0m\n",
            "\u001b[?25hRequirement already satisfied: idna in /usr/local/lib/python3.10/dist-packages (from httpx->paddlepaddle-gpu) (3.4)\n",
            "Requirement already satisfied: sniffio in /usr/local/lib/python3.10/dist-packages (from httpx->paddlepaddle-gpu) (1.3.0)\n",
            "Collecting h11<0.15,>=0.13 (from httpcore<0.18.0,>=0.15.0->httpx->paddlepaddle-gpu)\n",
            "  Downloading h11-0.14.0-py3-none-any.whl (58 kB)\n",
            "\u001b[2K     \u001b[90m━━━━━━━━━━━━━━━━━━━━━━━━━━━━━━━━━━━━━━━━\u001b[0m \u001b[32m58.3/58.3 kB\u001b[0m \u001b[31m9.0 MB/s\u001b[0m eta \u001b[36m0:00:00\u001b[0m\n",
            "\u001b[?25hRequirement already satisfied: anyio<5.0,>=3.0 in /usr/local/lib/python3.10/dist-packages (from httpcore<0.18.0,>=0.15.0->httpx->paddlepaddle-gpu) (3.7.1)\n",
            "Requirement already satisfied: exceptiongroup in /usr/local/lib/python3.10/dist-packages (from anyio<5.0,>=3.0->httpcore<0.18.0,>=0.15.0->httpx->paddlepaddle-gpu) (1.1.3)\n",
            "Installing collected packages: paddle-bfloat, h11, astor, httpcore, httpx, paddlepaddle-gpu\n",
            "Successfully installed astor-0.8.1 h11-0.14.0 httpcore-0.17.3 httpx-0.24.1 paddle-bfloat-0.1.7 paddlepaddle-gpu-2.5.1\n"
          ]
        }
      ]
    },
    {
      "cell_type": "code",
      "source": [
        "!pip install \"paddleocr>=2.0.1\""
      ],
      "metadata": {
        "id": "62PHpjC3MiYN",
        "colab": {
          "base_uri": "https://localhost:8080/",
          "height": 1000
        },
        "outputId": "94360d15-0868-40dc-c85f-dfe0648432fe"
      },
      "execution_count": null,
      "outputs": [
        {
          "output_type": "stream",
          "name": "stdout",
          "text": [
            "Collecting paddleocr>=2.0.1\n",
            "  Downloading paddleocr-2.7.0.2-py3-none-any.whl (466 kB)\n",
            "\u001b[2K     \u001b[90m━━━━━━━━━━━━━━━━━━━━━━━━━━━━━━━━━━━━━━━\u001b[0m \u001b[32m466.1/466.1 kB\u001b[0m \u001b[31m3.5 MB/s\u001b[0m eta \u001b[36m0:00:00\u001b[0m\n",
            "\u001b[?25hRequirement already satisfied: shapely in /usr/local/lib/python3.10/dist-packages (from paddleocr>=2.0.1) (2.0.1)\n",
            "Requirement already satisfied: scikit-image in /usr/local/lib/python3.10/dist-packages (from paddleocr>=2.0.1) (0.19.3)\n",
            "Requirement already satisfied: imgaug in /usr/local/lib/python3.10/dist-packages (from paddleocr>=2.0.1) (0.4.0)\n",
            "Requirement already satisfied: pyclipper in /usr/local/lib/python3.10/dist-packages (from paddleocr>=2.0.1) (1.3.0.post4)\n",
            "Collecting lmdb (from paddleocr>=2.0.1)\n",
            "  Downloading lmdb-1.4.1-cp310-cp310-manylinux_2_17_x86_64.manylinux2014_x86_64.whl (299 kB)\n",
            "\u001b[2K     \u001b[90m━━━━━━━━━━━━━━━━━━━━━━━━━━━━━━━━━━━━━━━\u001b[0m \u001b[32m299.2/299.2 kB\u001b[0m \u001b[31m8.5 MB/s\u001b[0m eta \u001b[36m0:00:00\u001b[0m\n",
            "\u001b[?25hRequirement already satisfied: tqdm in /usr/local/lib/python3.10/dist-packages (from paddleocr>=2.0.1) (4.66.1)\n",
            "Requirement already satisfied: numpy in /usr/local/lib/python3.10/dist-packages (from paddleocr>=2.0.1) (1.24.3)\n",
            "Collecting visualdl (from paddleocr>=2.0.1)\n",
            "  Downloading visualdl-2.5.3-py3-none-any.whl (6.3 MB)\n",
            "\u001b[2K     \u001b[90m━━━━━━━━━━━━━━━━━━━━━━━━━━━━━━━━━━━━━━━━\u001b[0m \u001b[32m6.3/6.3 MB\u001b[0m \u001b[31m18.9 MB/s\u001b[0m eta \u001b[36m0:00:00\u001b[0m\n",
            "\u001b[?25hCollecting rapidfuzz (from paddleocr>=2.0.1)\n",
            "  Downloading rapidfuzz-3.2.0-cp310-cp310-manylinux_2_17_x86_64.manylinux2014_x86_64.whl (3.1 MB)\n",
            "\u001b[2K     \u001b[90m━━━━━━━━━━━━━━━━━━━━━━━━━━━━━━━━━━━━━━━━\u001b[0m \u001b[32m3.1/3.1 MB\u001b[0m \u001b[31m43.6 MB/s\u001b[0m eta \u001b[36m0:00:00\u001b[0m\n",
            "\u001b[?25hCollecting opencv-python<=4.6.0.66 (from paddleocr>=2.0.1)\n",
            "  Downloading opencv_python-4.6.0.66-cp36-abi3-manylinux_2_17_x86_64.manylinux2014_x86_64.whl (60.9 MB)\n",
            "\u001b[2K     \u001b[90m━━━━━━━━━━━━━━━━━━━━━━━━━━━━━━━━━━━━━━━━\u001b[0m \u001b[32m60.9/60.9 MB\u001b[0m \u001b[31m11.3 MB/s\u001b[0m eta \u001b[36m0:00:00\u001b[0m\n",
            "\u001b[?25hCollecting opencv-contrib-python<=4.6.0.66 (from paddleocr>=2.0.1)\n",
            "  Downloading opencv_contrib_python-4.6.0.66-cp36-abi3-manylinux_2_17_x86_64.manylinux2014_x86_64.whl (67.1 MB)\n",
            "\u001b[2K     \u001b[90m━━━━━━━━━━━━━━━━━━━━━━━━━━━━━━━━━━━━━━━━\u001b[0m \u001b[32m67.1/67.1 MB\u001b[0m \u001b[31m13.2 MB/s\u001b[0m eta \u001b[36m0:00:00\u001b[0m\n",
            "\u001b[?25hRequirement already satisfied: cython in /usr/local/lib/python3.10/dist-packages (from paddleocr>=2.0.1) (0.29.36)\n",
            "Requirement already satisfied: lxml in /usr/local/lib/python3.10/dist-packages (from paddleocr>=2.0.1) (4.9.3)\n",
            "Collecting premailer (from paddleocr>=2.0.1)\n",
            "  Downloading premailer-3.10.0-py2.py3-none-any.whl (19 kB)\n",
            "Requirement already satisfied: openpyxl in /usr/local/lib/python3.10/dist-packages (from paddleocr>=2.0.1) (3.1.2)\n",
            "Collecting attrdict (from paddleocr>=2.0.1)\n",
            "  Downloading attrdict-2.0.1-py2.py3-none-any.whl (9.9 kB)\n",
            "Collecting PyMuPDF<1.21.0 (from paddleocr>=2.0.1)\n",
            "  Downloading PyMuPDF-1.20.2-cp310-cp310-manylinux_2_17_x86_64.manylinux2014_x86_64.whl (8.9 MB)\n",
            "\u001b[2K     \u001b[90m━━━━━━━━━━━━━━━━━━━━━━━━━━━━━━━━━━━━━━━━\u001b[0m \u001b[32m8.9/8.9 MB\u001b[0m \u001b[31m56.2 MB/s\u001b[0m eta \u001b[36m0:00:00\u001b[0m\n",
            "\u001b[?25hRequirement already satisfied: Pillow in /usr/local/lib/python3.10/dist-packages (from paddleocr>=2.0.1) (9.4.0)\n",
            "Collecting python-docx (from paddleocr>=2.0.1)\n",
            "  Downloading python-docx-0.8.11.tar.gz (5.6 MB)\n",
            "\u001b[2K     \u001b[90m━━━━━━━━━━━━━━━━━━━━━━━━━━━━━━━━━━━━━━━━\u001b[0m \u001b[32m5.6/5.6 MB\u001b[0m \u001b[31m40.5 MB/s\u001b[0m eta \u001b[36m0:00:00\u001b[0m\n",
            "\u001b[?25h  Preparing metadata (setup.py) ... \u001b[?25l\u001b[?25hdone\n",
            "Requirement already satisfied: beautifulsoup4 in /usr/local/lib/python3.10/dist-packages (from paddleocr>=2.0.1) (4.11.2)\n",
            "Requirement already satisfied: fonttools>=4.24.0 in /usr/local/lib/python3.10/dist-packages (from paddleocr>=2.0.1) (4.42.1)\n",
            "Collecting fire>=0.3.0 (from paddleocr>=2.0.1)\n",
            "  Downloading fire-0.5.0.tar.gz (88 kB)\n",
            "\u001b[2K     \u001b[90m━━━━━━━━━━━━━━━━━━━━━━━━━━━━━━━━━━━━━━━━\u001b[0m \u001b[32m88.3/88.3 kB\u001b[0m \u001b[31m6.8 MB/s\u001b[0m eta \u001b[36m0:00:00\u001b[0m\n",
            "\u001b[?25h  Preparing metadata (setup.py) ... \u001b[?25l\u001b[?25hdone\n",
            "Collecting pdf2docx (from paddleocr>=2.0.1)\n",
            "  Downloading pdf2docx-0.5.6-py3-none-any.whl (148 kB)\n",
            "\u001b[2K     \u001b[90m━━━━━━━━━━━━━━━━━━━━━━━━━━━━━━━━━━━━━━━\u001b[0m \u001b[32m148.4/148.4 kB\u001b[0m \u001b[31m8.2 MB/s\u001b[0m eta \u001b[36m0:00:00\u001b[0m\n",
            "\u001b[?25hRequirement already satisfied: six in /usr/local/lib/python3.10/dist-packages (from fire>=0.3.0->paddleocr>=2.0.1) (1.16.0)\n",
            "Requirement already satisfied: termcolor in /usr/local/lib/python3.10/dist-packages (from fire>=0.3.0->paddleocr>=2.0.1) (2.3.0)\n",
            "Requirement already satisfied: soupsieve>1.2 in /usr/local/lib/python3.10/dist-packages (from beautifulsoup4->paddleocr>=2.0.1) (2.4.1)\n",
            "Requirement already satisfied: scipy in /usr/local/lib/python3.10/dist-packages (from imgaug->paddleocr>=2.0.1) (1.10.1)\n",
            "Requirement already satisfied: matplotlib in /usr/local/lib/python3.10/dist-packages (from imgaug->paddleocr>=2.0.1) (3.7.1)\n",
            "Requirement already satisfied: imageio in /usr/local/lib/python3.10/dist-packages (from imgaug->paddleocr>=2.0.1) (2.31.1)\n",
            "Requirement already satisfied: networkx>=2.2 in /usr/local/lib/python3.10/dist-packages (from scikit-image->paddleocr>=2.0.1) (3.1)\n",
            "Requirement already satisfied: tifffile>=2019.7.26 in /usr/local/lib/python3.10/dist-packages (from scikit-image->paddleocr>=2.0.1) (2023.8.12)\n",
            "Requirement already satisfied: PyWavelets>=1.1.1 in /usr/local/lib/python3.10/dist-packages (from scikit-image->paddleocr>=2.0.1) (1.4.1)\n",
            "Requirement already satisfied: packaging>=20.0 in /usr/local/lib/python3.10/dist-packages (from scikit-image->paddleocr>=2.0.1) (23.1)\n",
            "Requirement already satisfied: et-xmlfile in /usr/local/lib/python3.10/dist-packages (from openpyxl->paddleocr>=2.0.1) (1.1.0)\n",
            "Collecting cssselect (from premailer->paddleocr>=2.0.1)\n",
            "  Downloading cssselect-1.2.0-py2.py3-none-any.whl (18 kB)\n",
            "Collecting cssutils (from premailer->paddleocr>=2.0.1)\n",
            "  Downloading cssutils-2.7.1-py3-none-any.whl (399 kB)\n",
            "\u001b[2K     \u001b[90m━━━━━━━━━━━━━━━━━━━━━━━━━━━━━━━━━━━━━━\u001b[0m \u001b[32m399.7/399.7 kB\u001b[0m \u001b[31m28.7 MB/s\u001b[0m eta \u001b[36m0:00:00\u001b[0m\n",
            "\u001b[?25hRequirement already satisfied: requests in /usr/local/lib/python3.10/dist-packages (from premailer->paddleocr>=2.0.1) (2.31.0)\n",
            "Requirement already satisfied: cachetools in /usr/local/lib/python3.10/dist-packages (from premailer->paddleocr>=2.0.1) (5.3.1)\n",
            "Collecting bce-python-sdk (from visualdl->paddleocr>=2.0.1)\n",
            "  Downloading bce_python_sdk-0.8.90-py3-none-any.whl (235 kB)\n",
            "\u001b[2K     \u001b[90m━━━━━━━━━━━━━━━━━━━━━━━━━━━━━━━━━━━━━━\u001b[0m \u001b[32m235.3/235.3 kB\u001b[0m \u001b[31m24.1 MB/s\u001b[0m eta \u001b[36m0:00:00\u001b[0m\n",
            "\u001b[?25hRequirement already satisfied: flask>=1.1.1 in /usr/local/lib/python3.10/dist-packages (from visualdl->paddleocr>=2.0.1) (2.2.5)\n",
            "Collecting Flask-Babel>=3.0.0 (from visualdl->paddleocr>=2.0.1)\n",
            "  Downloading flask_babel-3.1.0-py3-none-any.whl (9.6 kB)\n",
            "Requirement already satisfied: protobuf>=3.20.0 in /usr/local/lib/python3.10/dist-packages (from visualdl->paddleocr>=2.0.1) (3.20.3)\n",
            "Requirement already satisfied: pandas in /usr/local/lib/python3.10/dist-packages (from visualdl->paddleocr>=2.0.1) (1.5.3)\n",
            "Collecting rarfile (from visualdl->paddleocr>=2.0.1)\n",
            "  Downloading rarfile-4.0-py3-none-any.whl (28 kB)\n",
            "Requirement already satisfied: psutil in /usr/local/lib/python3.10/dist-packages (from visualdl->paddleocr>=2.0.1) (5.9.5)\n",
            "Requirement already satisfied: Werkzeug>=2.2.2 in /usr/local/lib/python3.10/dist-packages (from flask>=1.1.1->visualdl->paddleocr>=2.0.1) (2.3.7)\n",
            "Requirement already satisfied: Jinja2>=3.0 in /usr/local/lib/python3.10/dist-packages (from flask>=1.1.1->visualdl->paddleocr>=2.0.1) (3.1.2)\n",
            "Requirement already satisfied: itsdangerous>=2.0 in /usr/local/lib/python3.10/dist-packages (from flask>=1.1.1->visualdl->paddleocr>=2.0.1) (2.1.2)\n",
            "Requirement already satisfied: click>=8.0 in /usr/local/lib/python3.10/dist-packages (from flask>=1.1.1->visualdl->paddleocr>=2.0.1) (8.1.7)\n",
            "Requirement already satisfied: Babel>=2.12 in /usr/local/lib/python3.10/dist-packages (from Flask-Babel>=3.0.0->visualdl->paddleocr>=2.0.1) (2.12.1)\n",
            "Requirement already satisfied: pytz>=2022.7 in /usr/local/lib/python3.10/dist-packages (from Flask-Babel>=3.0.0->visualdl->paddleocr>=2.0.1) (2023.3)\n",
            "Collecting pycryptodome>=3.8.0 (from bce-python-sdk->visualdl->paddleocr>=2.0.1)\n",
            "  Downloading pycryptodome-3.18.0-cp35-abi3-manylinux_2_17_x86_64.manylinux2014_x86_64.whl (2.1 MB)\n",
            "\u001b[2K     \u001b[90m━━━━━━━━━━━━━━━━━━━━━━━━━━━━━━━━━━━━━━━━\u001b[0m \u001b[32m2.1/2.1 MB\u001b[0m \u001b[31m35.6 MB/s\u001b[0m eta \u001b[36m0:00:00\u001b[0m\n",
            "\u001b[?25hRequirement already satisfied: future>=0.6.0 in /usr/local/lib/python3.10/dist-packages (from bce-python-sdk->visualdl->paddleocr>=2.0.1) (0.18.3)\n",
            "Requirement already satisfied: contourpy>=1.0.1 in /usr/local/lib/python3.10/dist-packages (from matplotlib->imgaug->paddleocr>=2.0.1) (1.1.0)\n",
            "Requirement already satisfied: cycler>=0.10 in /usr/local/lib/python3.10/dist-packages (from matplotlib->imgaug->paddleocr>=2.0.1) (0.11.0)\n",
            "Requirement already satisfied: kiwisolver>=1.0.1 in /usr/local/lib/python3.10/dist-packages (from matplotlib->imgaug->paddleocr>=2.0.1) (1.4.4)\n",
            "Requirement already satisfied: pyparsing>=2.3.1 in /usr/local/lib/python3.10/dist-packages (from matplotlib->imgaug->paddleocr>=2.0.1) (2.4.7)\n",
            "Requirement already satisfied: python-dateutil>=2.7 in /usr/local/lib/python3.10/dist-packages (from matplotlib->imgaug->paddleocr>=2.0.1) (2.8.2)\n",
            "Requirement already satisfied: charset-normalizer<4,>=2 in /usr/local/lib/python3.10/dist-packages (from requests->premailer->paddleocr>=2.0.1) (3.2.0)\n",
            "Requirement already satisfied: idna<4,>=2.5 in /usr/local/lib/python3.10/dist-packages (from requests->premailer->paddleocr>=2.0.1) (3.4)\n",
            "Requirement already satisfied: urllib3<3,>=1.21.1 in /usr/local/lib/python3.10/dist-packages (from requests->premailer->paddleocr>=2.0.1) (2.0.4)\n",
            "Requirement already satisfied: certifi>=2017.4.17 in /usr/local/lib/python3.10/dist-packages (from requests->premailer->paddleocr>=2.0.1) (2023.7.22)\n",
            "Requirement already satisfied: MarkupSafe>=2.0 in /usr/local/lib/python3.10/dist-packages (from Jinja2>=3.0->flask>=1.1.1->visualdl->paddleocr>=2.0.1) (2.1.3)\n",
            "Building wheels for collected packages: fire, python-docx\n",
            "  Building wheel for fire (setup.py) ... \u001b[?25l\u001b[?25hdone\n",
            "  Created wheel for fire: filename=fire-0.5.0-py2.py3-none-any.whl size=116934 sha256=ba5c150cc61a598a8248ff9824285f1d024d5a8780302cfe2b706b33f5f2b816\n",
            "  Stored in directory: /root/.cache/pip/wheels/90/d4/f7/9404e5db0116bd4d43e5666eaa3e70ab53723e1e3ea40c9a95\n",
            "  Building wheel for python-docx (setup.py) ... \u001b[?25l\u001b[?25hdone\n",
            "  Created wheel for python-docx: filename=python_docx-0.8.11-py3-none-any.whl size=184487 sha256=64b1d40f78eab0a4c4d3dae963969be009b00d6fe87ff987c4a472631d8c13cf\n",
            "  Stored in directory: /root/.cache/pip/wheels/80/27/06/837436d4c3bd989b957a91679966f207bfd71d358d63a8194d\n",
            "Successfully built fire python-docx\n",
            "Installing collected packages: rarfile, lmdb, rapidfuzz, python-docx, PyMuPDF, pycryptodome, opencv-python, opencv-contrib-python, fire, cssutils, cssselect, attrdict, premailer, pdf2docx, bce-python-sdk, Flask-Babel, visualdl, paddleocr\n",
            "  Attempting uninstall: opencv-python\n",
            "    Found existing installation: opencv-python 4.8.0.76\n",
            "    Uninstalling opencv-python-4.8.0.76:\n",
            "      Successfully uninstalled opencv-python-4.8.0.76\n",
            "  Attempting uninstall: opencv-contrib-python\n",
            "    Found existing installation: opencv-contrib-python 4.8.0.76\n",
            "    Uninstalling opencv-contrib-python-4.8.0.76:\n",
            "      Successfully uninstalled opencv-contrib-python-4.8.0.76\n",
            "Successfully installed Flask-Babel-3.1.0 PyMuPDF-1.20.2 attrdict-2.0.1 bce-python-sdk-0.8.90 cssselect-1.2.0 cssutils-2.7.1 fire-0.5.0 lmdb-1.4.1 opencv-contrib-python-4.6.0.66 opencv-python-4.6.0.66 paddleocr-2.7.0.2 pdf2docx-0.5.6 premailer-3.10.0 pycryptodome-3.18.0 python-docx-0.8.11 rapidfuzz-3.2.0 rarfile-4.0 visualdl-2.5.3\n"
          ]
        },
        {
          "output_type": "display_data",
          "data": {
            "application/vnd.colab-display-data+json": {
              "pip_warning": {
                "packages": [
                  "cv2"
                ]
              }
            }
          },
          "metadata": {}
        }
      ]
    },
    {
      "cell_type": "code",
      "source": [
        "from paddleocr import PaddleOCR\n",
        "ocr=PaddleOCR(lang='en')"
      ],
      "metadata": {
        "id": "YAhZwRpQMldc"
      },
      "execution_count": null,
      "outputs": []
    },
    {
      "cell_type": "code",
      "source": [
        "# Apply ROI filtering and OCR\n",
        "for idx, box in enumerate(boxes):\n",
        "    print(box)\n",
        "    roi = box*[height, width, height, width]\n",
        "    print(roi)\n",
        "    region = image[int(roi[0]):int(roi[2]),int(roi[1]):int(roi[3])]\n",
        "    ocr_results = ocr.ocr(region)\n",
        "    print(ocr_results)\n",
        "    plt.imshow(cv2.cvtColor(region, cv2.COLOR_BGR2RGB))"
      ],
      "metadata": {
        "id": "gB0QtsQjNcim"
      },
      "execution_count": null,
      "outputs": []
    },
    {
      "cell_type": "code",
      "source": [
        "for result in ocr_results:\n",
        "  print(result[0][1][0])"
      ],
      "metadata": {
        "id": "jLgTpWpSMsVd"
      },
      "execution_count": null,
      "outputs": []
    },
    {
      "cell_type": "markdown",
      "metadata": {
        "id": "ms7YzG0k8DU9"
      },
      "source": [
        "# Save Results"
      ]
    },
    {
      "cell_type": "code",
      "execution_count": null,
      "metadata": {
        "id": "4xUgqaq38DU9"
      },
      "outputs": [],
      "source": [
        "import csv\n",
        "import uuid"
      ]
    },
    {
      "cell_type": "code",
      "execution_count": null,
      "metadata": {
        "id": "W02cY1g-8DU9",
        "colab": {
          "base_uri": "https://localhost:8080/",
          "height": 36
        },
        "outputId": "e86905ee-c19c-4c21-824c-97b8b5bd2a2f"
      },
      "outputs": [
        {
          "output_type": "execute_result",
          "data": {
            "text/plain": [
              "'f416652a-1a65-11ee-9325-0242ac1c000c.jpg'"
            ],
            "application/vnd.google.colaboratory.intrinsic+json": {
              "type": "string"
            }
          },
          "metadata": {},
          "execution_count": 442
        }
      ],
      "source": [
        "'{}.jpg'.format(uuid.uuid1())"
      ]
    },
    {
      "cell_type": "code",
      "execution_count": null,
      "metadata": {
        "id": "wMYoQlM_8DU-"
      },
      "outputs": [],
      "source": [
        "def save_results(text, region, csv_filename, folder_path):\n",
        "    img_name = '{}.jpg'.format(uuid.uuid1())\n",
        "\n",
        "    cv2.imwrite(os.path.join(folder_path, img_name), region)\n",
        "\n",
        "    with open(csv_filename, mode='a', newline='') as f:\n",
        "        csv_writer = csv.writer(f, delimiter=',', quotechar='\"', quoting=csv.QUOTE_MINIMAL)\n",
        "        csv_writer.writerow([img_name, text])"
      ]
    },
    {
      "cell_type": "code",
      "execution_count": null,
      "metadata": {
        "id": "gOJHgPC78DU-"
      },
      "outputs": [],
      "source": [
        "region"
      ]
    },
    {
      "cell_type": "code",
      "execution_count": null,
      "metadata": {
        "id": "10YGYg4X8DU-"
      },
      "outputs": [],
      "source": [
        "save_results(text, region, 'detection_results.csv', 'Detection_Images')"
      ]
    },
    {
      "cell_type": "code",
      "execution_count": null,
      "metadata": {
        "id": "whShhB0x3PYJ",
        "colab": {
          "base_uri": "https://localhost:8080/"
        },
        "outputId": "0ebaaa01-ef7a-4d83-d631-5cb96c31448b"
      },
      "outputs": [
        {
          "output_type": "stream",
          "name": "stdout",
          "text": [
            "Drive already mounted at /content/drive; to attempt to forcibly remount, call drive.mount(\"/content/drive\", force_remount=True).\n"
          ]
        }
      ],
      "source": [
        "from google.colab import drive\n",
        "drive.mount('/content/drive')"
      ]
    }
  ],
  "metadata": {
    "accelerator": "GPU",
    "colab": {
      "provenance": [],
      "gpuType": "T4",
      "include_colab_link": true
    },
    "kernelspec": {
      "display_name": "anprsys",
      "language": "python",
      "name": "anprsys"
    },
    "language_info": {
      "codemirror_mode": {
        "name": "ipython",
        "version": 3
      },
      "file_extension": ".py",
      "mimetype": "text/x-python",
      "name": "python",
      "nbconvert_exporter": "python",
      "pygments_lexer": "ipython3",
      "version": "3.7.3"
    }
  },
  "nbformat": 4,
  "nbformat_minor": 0
}